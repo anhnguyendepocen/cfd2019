{
 "cells": [
  {
   "cell_type": "markdown",
   "metadata": {},
   "source": [
    "# Lists\n",
    "## C3PO\n",
    "Imagine you had a robot that would do chores for you. All you have to do is provide it with a task and it will be done. And, of course, as any respectable robot, your robot communicates in python. \n",
    "\n",
    "So you start easy and give your robot just one task:"
   ]
  },
  {
   "cell_type": "code",
   "execution_count": 2,
   "metadata": {},
   "outputs": [],
   "source": [
    "task = \"do the dishes\""
   ]
  },
  {
   "cell_type": "markdown",
   "metadata": {},
   "source": [
    "But keeping track of when the robot finishes one task in order to manually type in the other one is almost as troublesome as doing everything yourself. Wouldn't it be amazing if you could create a *list* of tasks?"
   ]
  },
  {
   "cell_type": "code",
   "execution_count": 3,
   "metadata": {},
   "outputs": [],
   "source": [
    "tasks = [\"do the dishes\", \"buy groceries\", \"eliminate all the sadness in the world\", \"vacuum floors\"]"
   ]
  },
  {
   "cell_type": "markdown",
   "metadata": {},
   "source": [
    "### Indexing\n",
    "Great! Now you have created a [list](https://docs.python.org/3/tutorial/introduction.html#lists). Lists contain elements, separated by commas. They start and end with a square bracket.\n",
    "\n",
    "In order to see a particular element of a list, one writes `my_list[index]`, where `my_list` is the name of your list and `index` is the index number of the element.\n",
    "\n",
    "Try printing out the very first task from the `tasks` list."
   ]
  },
  {
   "cell_type": "code",
   "execution_count": null,
   "metadata": {},
   "outputs": [],
   "source": []
  },
  {
   "cell_type": "markdown",
   "metadata": {},
   "source": [
    "Since you are very curious, you also try putting a negative number as `index`"
   ]
  },
  {
   "cell_type": "code",
   "execution_count": null,
   "metadata": {},
   "outputs": [],
   "source": []
  },
  {
   "cell_type": "markdown",
   "metadata": {},
   "source": [
    "As you may have guessed, negative indices count the elements of a list from rigt to left, with `-1` being the very last element. This means that for our list of four elements, positive indices are going from `0` to `3`, while negative indices go from `-1` to `-4`."
   ]
  },
  {
   "cell_type": "code",
   "execution_count": 11,
   "metadata": {},
   "outputs": [
    {
     "data": {
      "text/plain": [
       "'do the dishes'"
      ]
     },
     "execution_count": 11,
     "metadata": {},
     "output_type": "execute_result"
    }
   ],
   "source": [
    "tasks[0]"
   ]
  },
  {
   "cell_type": "code",
   "execution_count": 8,
   "metadata": {},
   "outputs": [
    {
     "data": {
      "text/plain": [
       "'do the dishes'"
      ]
     },
     "execution_count": 8,
     "metadata": {},
     "output_type": "execute_result"
    }
   ],
   "source": [
    "tasks[-4]"
   ]
  },
  {
   "cell_type": "markdown",
   "metadata": {},
   "source": [
    "What values will the following commans return?"
   ]
  },
  {
   "cell_type": "code",
   "execution_count": null,
   "metadata": {},
   "outputs": [],
   "source": [
    "tasks[3]"
   ]
  },
  {
   "cell_type": "code",
   "execution_count": null,
   "metadata": {},
   "outputs": [],
   "source": [
    "tasks[-3]"
   ]
  },
  {
   "cell_type": "markdown",
   "metadata": {},
   "source": [
    "### Slicing\n",
    "Okay, now you can now you can send your robot a whole list of tasks and if you really feel like it, you can look at that one by one. This way you can, for example, see what is the first task your robot is going to do today.\n",
    "\n",
    "But what if you want more? Would it be maybe possible to view not one just element, not the whole gigantic list, but a few elements at a time? A smaller sub-list, part of the original list. One might even call it a *slice*."
   ]
  },
  {
   "cell_type": "code",
   "execution_count": 14,
   "metadata": {},
   "outputs": [
    {
     "data": {
      "text/plain": [
       "['buy groceries', 'eliminate all the sadness in the world']"
      ]
     },
     "execution_count": 14,
     "metadata": {},
     "output_type": "execute_result"
    }
   ],
   "source": [
    "tasks[1:3]"
   ]
  },
  {
   "cell_type": "markdown",
   "metadata": {},
   "source": [
    "Slicing from **a** to **b**  `my_list[a:b]`, where **a** is included and **b** is not, eg **[a,b)**."
   ]
  },
  {
   "cell_type": "markdown",
   "metadata": {},
   "source": [
    "You can think of it this way: if you leave the first value out and just type `tasks[:2]` you are going to get first **two** elements. "
   ]
  },
  {
   "cell_type": "code",
   "execution_count": 18,
   "metadata": {},
   "outputs": [
    {
     "data": {
      "text/plain": [
       "['do the dishes', 'buy groceries']"
      ]
     },
     "execution_count": 18,
     "metadata": {},
     "output_type": "execute_result"
    }
   ],
   "source": [
    "tasks[:2]"
   ]
  },
  {
   "cell_type": "markdown",
   "metadata": {},
   "source": [
    "While if you do the opposite, `tasks[2:]`, python will cut off the first **two** elements."
   ]
  },
  {
   "cell_type": "code",
   "execution_count": 17,
   "metadata": {},
   "outputs": [
    {
     "data": {
      "text/plain": [
       "['eliminate all the sadness in the world', 'vacuum floors']"
      ]
     },
     "execution_count": 17,
     "metadata": {},
     "output_type": "execute_result"
    }
   ],
   "source": [
    "tasks[2:]"
   ]
  },
  {
   "cell_type": "markdown",
   "metadata": {},
   "source": [
    "So then `tasks[2:3]` is equivalent to, firstly, looking at first **three** elements of the list,"
   ]
  },
  {
   "cell_type": "code",
   "execution_count": 19,
   "metadata": {},
   "outputs": [
    {
     "data": {
      "text/plain": [
       "['do the dishes', 'buy groceries', 'eliminate all the sadness in the world']"
      ]
     },
     "execution_count": 19,
     "metadata": {},
     "output_type": "execute_result"
    }
   ],
   "source": [
    "short_list = tasks[:3]\n",
    "short_list"
   ]
  },
  {
   "cell_type": "markdown",
   "metadata": {},
   "source": [
    "and then removing the first **two** from that:"
   ]
  },
  {
   "cell_type": "code",
   "execution_count": 20,
   "metadata": {},
   "outputs": [
    {
     "data": {
      "text/plain": [
       "['eliminate all the sadness in the world']"
      ]
     },
     "execution_count": 20,
     "metadata": {},
     "output_type": "execute_result"
    }
   ],
   "source": [
    "short_list[2:]"
   ]
  },
  {
   "cell_type": "markdown",
   "metadata": {},
   "source": [
    "### Changing\n",
    "After a careful examination, you decide that maybe eliminating all the sadness in the world is a bit too hard of a task for your robot. Besides, then it won't have time to vacuum your floors, and we all know what's more important.\n",
    "\n",
    "Lists are *mutable* objects. This means you can change their content with `my_list[index] = value`, where `value` is, you guessed it, your new value. \n",
    "\n",
    "Change our unrealistic task to something more doable, say, \"cook dinner\"."
   ]
  },
  {
   "cell_type": "code",
   "execution_count": null,
   "metadata": {},
   "outputs": [],
   "source": []
  },
  {
   "cell_type": "markdown",
   "metadata": {},
   "source": [
    "### Adding\n",
    "It might also be a good idea to make sure your robot returns back to the charging station at the end of the day. You can add new elements at the end of the list by using `my_list.append(value)`.\n",
    "\n",
    "Add \"recharge\" to the end of the list of tasks."
   ]
  },
  {
   "cell_type": "code",
   "execution_count": null,
   "metadata": {},
   "outputs": [],
   "source": []
  }
 ],
 "metadata": {
  "kernelspec": {
   "display_name": "Python 3",
   "language": "python",
   "name": "python3"
  },
  "language_info": {
   "codemirror_mode": {
    "name": "ipython",
    "version": 3
   },
   "file_extension": ".py",
   "mimetype": "text/x-python",
   "name": "python",
   "nbconvert_exporter": "python",
   "pygments_lexer": "ipython3",
   "version": "3.6.6"
  }
 },
 "nbformat": 4,
 "nbformat_minor": 2
}
