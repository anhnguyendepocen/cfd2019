{
 "cells": [
  {
   "cell_type": "markdown",
   "metadata": {
    "collapsed": true
   },
   "source": [
    "# Lists\n",
    "A list is a sequence of elements. The elements of a given list can have non-identical types. Square brackets are used to define a list, elements are accessed by indexing and slicing is available to generate sub-lists."
   ]
  },
  {
   "cell_type": "code",
   "execution_count": 1,
   "metadata": {},
   "outputs": [
    {
     "data": {
      "text/plain": [
       "[1.0, 5, 'today', 'tomorrow']"
      ]
     },
     "execution_count": 1,
     "metadata": {},
     "output_type": "execute_result"
    }
   ],
   "source": [
    "my_mixed_list = [1.0, 5, 'today', 'tomorrow']\n",
    "my_mixed_list"
   ]
  },
  {
   "cell_type": "markdown",
   "metadata": {},
   "source": [
    "Slicing from **a** to **b**  `my_list[a:b]`, where **a** is included and **b** is not, eg **[a,b)**."
   ]
  },
  {
   "cell_type": "code",
   "execution_count": 2,
   "metadata": {},
   "outputs": [
    {
     "data": {
      "text/plain": [
       "[5, 'today']"
      ]
     },
     "execution_count": 2,
     "metadata": {},
     "output_type": "execute_result"
    }
   ],
   "source": [
    "my_mixed_list[1:3]"
   ]
  },
  {
   "cell_type": "markdown",
   "metadata": {},
   "source": [
    "Both **a** and **b** are optional. Try leaving **a**, **b** or both out and see what happens."
   ]
  },
  {
   "cell_type": "code",
   "execution_count": 3,
   "metadata": {},
   "outputs": [
    {
     "data": {
      "text/plain": [
       "['today', 'tomorrow']"
      ]
     },
     "execution_count": 3,
     "metadata": {},
     "output_type": "execute_result"
    }
   ],
   "source": [
    "my_mixed_list[2:]"
   ]
  },
  {
   "cell_type": "markdown",
   "metadata": {},
   "source": [
    "Elements of lists can be arbitrary objects. Thus, `a = [2, [3, 4]]` is a valid list where the second element happens to be a list `([3, 4])`. Elements of lists can be modified individually."
   ]
  },
  {
   "cell_type": "code",
   "execution_count": 5,
   "metadata": {},
   "outputs": [
    {
     "data": {
      "text/plain": [
       "[27, 5, 'today', 'tomorrow']"
      ]
     },
     "execution_count": 5,
     "metadata": {},
     "output_type": "execute_result"
    }
   ],
   "source": [
    "my_mixed_list[0] = 27\n",
    "my_mixed_list"
   ]
  },
  {
   "cell_type": "markdown",
   "metadata": {},
   "source": [
    "An empty list is defined as `a = []`. Lists have a number of methods they can invoke. Typing a list name followed by a full stop and then pressing *alt+tab* will bring up the names of methods that are available. A few examples are given below.\n",
    "\n"
   ]
  },
  {
   "cell_type": "code",
   "execution_count": 7,
   "metadata": {},
   "outputs": [
    {
     "name": "stdout",
     "output_type": "stream",
     "text": [
      "a:  ['1', 7, 7]\na.append(8) ->  ['1', 7, 7, 8]\na.index(7) ->  1\na.count(7) ->  2\na.remove(7) ->  ['1', 7, 8]\n"
     ]
    }
   ],
   "source": [
    "a = ['1', 7, 7]\n",
    "print('a: ', a)\n",
    "\n",
    "a.append(8)\n",
    "print('a.append(8) -> ', a)\n",
    "\n",
    "print('a.index(7) -> ', a.index(7))\n",
    "\n",
    "print('a.count(7) -> ', a.count(7))\n",
    "\n",
    "a.remove(7)\n",
    "print('a.remove(7) -> ', a)"
   ]
  },
  {
   "cell_type": "markdown",
   "metadata": {},
   "source": [
    "For convenience, `*` and `+` can be used with lists in an intuitive way:"
   ]
  },
  {
   "cell_type": "code",
   "execution_count": 8,
   "metadata": {},
   "outputs": [
    {
     "data": {
      "text/plain": [
       "['1', 2, '1', 2, '1', 2, 4, 5]"
      ]
     },
     "execution_count": 8,
     "metadata": {},
     "output_type": "execute_result"
    }
   ],
   "source": [
    "['1', 2]*3 + [4, 5]"
   ]
  }
 ],
 "metadata": {
  "kernelspec": {
   "display_name": "Python 2",
   "language": "python",
   "name": "python2"
  },
  "language_info": {
   "codemirror_mode": {
    "name": "ipython",
    "version": 2
   },
   "file_extension": ".py",
   "mimetype": "text/x-python",
   "name": "python",
   "nbconvert_exporter": "python",
   "pygments_lexer": "ipython2",
   "version": "2.7.6"
  }
 },
 "nbformat": 4,
 "nbformat_minor": 0
}
