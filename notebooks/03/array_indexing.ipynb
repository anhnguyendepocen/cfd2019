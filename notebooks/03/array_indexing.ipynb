{
 "cells": [
  {
   "cell_type": "markdown",
   "metadata": {},
   "source": [
    "# Selecting values from an array"
   ]
  },
  {
   "cell_type": "code",
   "execution_count": 1,
   "metadata": {},
   "outputs": [],
   "source": [
    "import numpy as np"
   ]
  },
  {
   "cell_type": "markdown",
   "metadata": {},
   "source": [
    "We use arrays all the time, in data science.\n",
    "\n",
    "One of the most common tasks we have to do on arrays, is to select values.\n",
    "\n",
    "We do this with *array slicing*.\n",
    "\n",
    "We do array slicing when we follow the array variable name with\n",
    "`[` (open square brackets), followed by something to specify\n",
    "which elements we want, followed by `]` (close square brackets.\n",
    "\n",
    "The simplest case is when we want a single element from a one-dimensional array.  In that case the thing between the `[` and the `]` is the *index* of the value that we want.\n",
    "\n",
    "The *index* of the first value is 0, the index of the second value is 2, and so on."
   ]
  },
  {
   "cell_type": "code",
   "execution_count": 2,
   "metadata": {},
   "outputs": [],
   "source": [
    "import pandas as pd"
   ]
  },
  {
   "cell_type": "code",
   "execution_count": 3,
   "metadata": {},
   "outputs": [
    {
     "data": {
      "text/plain": [
       "array(['Reading', 'Physical Education', 'Speech', 'Child Development',\n",
       "       'Theater', 'Music', 'Kinesiology', 'Hospitality',\n",
       "       'Criminal Justice', 'Nutrition'], dtype=object)"
      ]
     },
     "execution_count": 3,
     "metadata": {},
     "output_type": "execute_result"
    }
   ],
   "source": [
    "courses = pd.read_csv('rate_my_course.csv').sort_values(\n",
    "    'Easiness', ascending=False)\n",
    "disciplines = courses['Discipline'].values[:10]\n",
    "easiness = courses['Easiness'].values[:10]\n",
    "disciplines"
   ]
  },
  {
   "cell_type": "markdown",
   "metadata": {},
   "source": [
    "Here we get the first value.  This value is at index 0."
   ]
  },
  {
   "cell_type": "code",
   "execution_count": 4,
   "metadata": {},
   "outputs": [
    {
     "data": {
      "text/plain": [
       "'Reading'"
      ]
     },
     "execution_count": 4,
     "metadata": {},
     "output_type": "execute_result"
    }
   ],
   "source": [
    "# Get the first value (at index position 0)\n",
    "disciplines[0]"
   ]
  },
  {
   "cell_type": "code",
   "execution_count": 5,
   "metadata": {},
   "outputs": [
    {
     "data": {
      "text/plain": [
       "'Physical Education'"
      ]
     },
     "execution_count": 5,
     "metadata": {},
     "output_type": "execute_result"
    }
   ],
   "source": [
    "# Get the second value (at index position 1)\n",
    "disciplines[1]"
   ]
  },
  {
   "cell_type": "code",
   "execution_count": 6,
   "metadata": {},
   "outputs": [
    {
     "data": {
      "text/plain": [
       "'Speech'"
      ]
     },
     "execution_count": 6,
     "metadata": {},
     "output_type": "execute_result"
    }
   ],
   "source": [
    "# Get the third value (at index position 2)\n",
    "disciplines[2]"
   ]
  },
  {
   "cell_type": "markdown",
   "metadata": {},
   "source": [
    "At first this will take some time to get used to, that the first\n",
    "value is at index position 0.  There are good reasons for this,\n",
    "and many programming languages have this convention, but it does a while to get this habit of mind."
   ]
  },
  {
   "cell_type": "markdown",
   "metadata": {},
   "source": [
    "## Index with negative numbers"
   ]
  },
  {
   "cell_type": "markdown",
   "metadata": {},
   "source": [
    "If we know how many elements the array has, then we can get the last element by using the number of elements, minus one (why?).\n",
    "\n",
    "Here the number of elements is 10:"
   ]
  },
  {
   "cell_type": "code",
   "execution_count": 7,
   "metadata": {},
   "outputs": [
    {
     "data": {
      "text/plain": [
       "10"
      ]
     },
     "execution_count": 7,
     "metadata": {},
     "output_type": "execute_result"
    }
   ],
   "source": [
    "len(disciplines)"
   ]
  },
  {
   "cell_type": "markdown",
   "metadata": {},
   "source": [
    "So, the last element of the array is at index position 9:"
   ]
  },
  {
   "cell_type": "code",
   "execution_count": 8,
   "metadata": {},
   "outputs": [
    {
     "data": {
      "text/plain": [
       "'Nutrition'"
      ]
     },
     "execution_count": 8,
     "metadata": {},
     "output_type": "execute_result"
    }
   ],
   "source": [
    "disciplines[9]"
   ]
  },
  {
   "cell_type": "markdown",
   "metadata": {},
   "source": [
    "In fact, there is a short cut for getting elements at the end of the array, and that is to use an offset with a minus in front.  The number is then the offset from one past the last item.  For example, here is another way to get the last element:"
   ]
  },
  {
   "cell_type": "code",
   "execution_count": 9,
   "metadata": {},
   "outputs": [
    {
     "data": {
      "text/plain": [
       "'Nutrition'"
      ]
     },
     "execution_count": 9,
     "metadata": {},
     "output_type": "execute_result"
    }
   ],
   "source": [
    "disciplines[-1]"
   ]
  },
  {
   "cell_type": "markdown",
   "metadata": {},
   "source": [
    "The last but one element:"
   ]
  },
  {
   "cell_type": "code",
   "execution_count": 10,
   "metadata": {},
   "outputs": [
    {
     "data": {
      "text/plain": [
       "'Criminal Justice'"
      ]
     },
     "execution_count": 10,
     "metadata": {},
     "output_type": "execute_result"
    }
   ],
   "source": [
    "disciplines[-2]"
   ]
  },
  {
   "cell_type": "markdown",
   "metadata": {},
   "source": [
    "## Index with slices"
   ]
  },
  {
   "cell_type": "markdown",
   "metadata": {},
   "source": [
    "Sometimes we want more than one element from the array.  For example, we might want the first 5 elements from the array.  We can get these using an array *slice*.  It looks like this:"
   ]
  },
  {
   "cell_type": "code",
   "execution_count": 11,
   "metadata": {},
   "outputs": [
    {
     "data": {
      "text/plain": [
       "array(['Reading', 'Physical Education', 'Speech', 'Child Development',\n",
       "       'Theater'], dtype=object)"
      ]
     },
     "execution_count": 11,
     "metadata": {},
     "output_type": "execute_result"
    }
   ],
   "source": [
    "# All the elements from offset zero up to (not including) 5\n",
    "disciplines[0:5]"
   ]
  },
  {
   "cell_type": "code",
   "execution_count": 12,
   "metadata": {},
   "outputs": [
    {
     "data": {
      "text/plain": [
       "array(['Music', 'Kinesiology', 'Hospitality', 'Criminal Justice',\n",
       "       'Nutrition'], dtype=object)"
      ]
     },
     "execution_count": 12,
     "metadata": {},
     "output_type": "execute_result"
    }
   ],
   "source": [
    "# All the elements from offset 5 up to (not including) 10\n",
    "disciplines[5:10]"
   ]
  },
  {
   "cell_type": "markdown",
   "metadata": {},
   "source": [
    "You can omit the first number, if you mean to start at offset 0:"
   ]
  },
  {
   "cell_type": "code",
   "execution_count": 13,
   "metadata": {},
   "outputs": [
    {
     "data": {
      "text/plain": [
       "array(['Reading', 'Physical Education', 'Speech', 'Child Development',\n",
       "       'Theater'], dtype=object)"
      ]
     },
     "execution_count": 13,
     "metadata": {},
     "output_type": "execute_result"
    }
   ],
   "source": [
    "disciplines[:5]"
   ]
  },
  {
   "cell_type": "markdown",
   "metadata": {},
   "source": [
    "You can omit the last number if you mean to end at the last element of the array:"
   ]
  },
  {
   "cell_type": "code",
   "execution_count": 14,
   "metadata": {},
   "outputs": [
    {
     "data": {
      "text/plain": [
       "array(['Music', 'Kinesiology', 'Hospitality', 'Criminal Justice',\n",
       "       'Nutrition'], dtype=object)"
      ]
     },
     "execution_count": 14,
     "metadata": {},
     "output_type": "execute_result"
    }
   ],
   "source": [
    "disciplines[5:]"
   ]
  },
  {
   "cell_type": "markdown",
   "metadata": {},
   "source": [
    "## Indexing with Boolean arrays\n",
    "\n",
    "We often want to select several elements from an array according to some criterion.\n",
    "\n",
    "The most common way to do this, is to do array slicing, using\n",
    "a Boolean array between the square brackets.\n",
    "\n",
    "It may be easier to understand this by example.\n",
    "\n",
    "You have already come across Boolean arrays.\n",
    "\n",
    "These are arrays of `True` and `False` values."
   ]
  },
  {
   "cell_type": "code",
   "execution_count": 15,
   "metadata": {},
   "outputs": [
    {
     "data": {
      "text/plain": [
       "array([3.88263514, 3.83225025, 3.67470085, 3.60608187, 3.58450835,\n",
       "       3.54227291, 3.54143939, 3.47149813, 3.46944009, 3.46833333])"
      ]
     },
     "execution_count": 15,
     "metadata": {},
     "output_type": "execute_result"
    }
   ],
   "source": [
    "easiness"
   ]
  },
  {
   "cell_type": "markdown",
   "metadata": {},
   "source": [
    "Here is a Boolean array, created from applying a comparison to an array:"
   ]
  },
  {
   "cell_type": "code",
   "execution_count": 16,
   "metadata": {},
   "outputs": [
    {
     "data": {
      "text/plain": [
       "array([ True,  True,  True,  True,  True,  True,  True, False, False,\n",
       "       False])"
      ]
     },
     "execution_count": 16,
     "metadata": {},
     "output_type": "execute_result"
    }
   ],
   "source": [
    "greater_than_3p5 = easiness > 3.5\n",
    "greater_than_3p5"
   ]
  },
  {
   "cell_type": "markdown",
   "metadata": {},
   "source": [
    "As you have already seen, we can do things like count the number\n",
    "of `True` values in the Boolean array:"
   ]
  },
  {
   "cell_type": "code",
   "execution_count": 17,
   "metadata": {},
   "outputs": [
    {
     "data": {
      "text/plain": [
       "7"
      ]
     },
     "execution_count": 17,
     "metadata": {},
     "output_type": "execute_result"
    }
   ],
   "source": [
    "np.count_nonzero(greater_than_3p5)"
   ]
  },
  {
   "cell_type": "markdown",
   "metadata": {},
   "source": [
    "Now let us say that we wanted to get the elements from `randoms`\n",
    "that are less than 0.5.   That is, we want to get the elements\n",
    "in `randoms` for which the corresponding element in\n",
    "`less_than_0p5` is `True`.\n",
    "\n",
    "We can do this with *Boolean array indexing*.  The Boolean array goes between the square brackets, like this:"
   ]
  },
  {
   "cell_type": "code",
   "execution_count": 18,
   "metadata": {},
   "outputs": [
    {
     "data": {
      "text/plain": [
       "array([3.88263514, 3.83225025, 3.67470085, 3.60608187, 3.58450835,\n",
       "       3.54227291, 3.54143939])"
      ]
     },
     "execution_count": 18,
     "metadata": {},
     "output_type": "execute_result"
    }
   ],
   "source": [
    "easiness[greater_than_3p5]"
   ]
  },
  {
   "cell_type": "markdown",
   "metadata": {},
   "source": [
    "We have selected the numbers in `easiness` that are greater than 3.5."
   ]
  },
  {
   "cell_type": "markdown",
   "metadata": {},
   "source": [
    "We can use this same Boolean array to index into another array.  For example, here we show the discipline *names* corresponding to the courses that are easier than 3.5:"
   ]
  },
  {
   "cell_type": "code",
   "execution_count": 19,
   "metadata": {},
   "outputs": [
    {
     "data": {
      "text/plain": [
       "array(['Reading', 'Physical Education', 'Speech', 'Child Development',\n",
       "       'Theater', 'Music', 'Kinesiology'], dtype=object)"
      ]
     },
     "execution_count": 19,
     "metadata": {},
     "output_type": "execute_result"
    }
   ],
   "source": [
    "disciplines[greater_than_3p5]"
   ]
  },
  {
   "cell_type": "code",
   "execution_count": 20,
   "metadata": {},
   "outputs": [
    {
     "data": {
      "text/html": [
       "<div>\n",
       "<style scoped>\n",
       "    .dataframe tbody tr th:only-of-type {\n",
       "        vertical-align: middle;\n",
       "    }\n",
       "\n",
       "    .dataframe tbody tr th {\n",
       "        vertical-align: top;\n",
       "    }\n",
       "\n",
       "    .dataframe thead th {\n",
       "        text-align: right;\n",
       "    }\n",
       "</style>\n",
       "<table border=\"1\" class=\"dataframe\">\n",
       "  <thead>\n",
       "    <tr style=\"text-align: right;\">\n",
       "      <th></th>\n",
       "      <th>Discipline</th>\n",
       "      <th>Number of Professors</th>\n",
       "      <th>Clarity</th>\n",
       "      <th>Helpfulness</th>\n",
       "      <th>Overall Quality</th>\n",
       "      <th>Easiness</th>\n",
       "    </tr>\n",
       "  </thead>\n",
       "  <tbody>\n",
       "    <tr>\n",
       "      <th>64</th>\n",
       "      <td>Reading</td>\n",
       "      <td>148</td>\n",
       "      <td>4.159392</td>\n",
       "      <td>4.188919</td>\n",
       "      <td>4.177500</td>\n",
       "      <td>3.882635</td>\n",
       "    </tr>\n",
       "    <tr>\n",
       "      <th>36</th>\n",
       "      <td>Physical Education</td>\n",
       "      <td>991</td>\n",
       "      <td>4.078698</td>\n",
       "      <td>4.030797</td>\n",
       "      <td>4.057719</td>\n",
       "      <td>3.832250</td>\n",
       "    </tr>\n",
       "    <tr>\n",
       "      <th>49</th>\n",
       "      <td>Speech</td>\n",
       "      <td>351</td>\n",
       "      <td>4.133191</td>\n",
       "      <td>4.101197</td>\n",
       "      <td>4.119345</td>\n",
       "      <td>3.674701</td>\n",
       "    </tr>\n",
       "    <tr>\n",
       "      <th>61</th>\n",
       "      <td>Child Development</td>\n",
       "      <td>171</td>\n",
       "      <td>3.950585</td>\n",
       "      <td>4.008070</td>\n",
       "      <td>3.979766</td>\n",
       "      <td>3.606082</td>\n",
       "    </tr>\n",
       "    <tr>\n",
       "      <th>31</th>\n",
       "      <td>Theater</td>\n",
       "      <td>1078</td>\n",
       "      <td>3.876633</td>\n",
       "      <td>3.821503</td>\n",
       "      <td>3.851837</td>\n",
       "      <td>3.584508</td>\n",
       "    </tr>\n",
       "    <tr>\n",
       "      <th>19</th>\n",
       "      <td>Music</td>\n",
       "      <td>2455</td>\n",
       "      <td>3.844509</td>\n",
       "      <td>3.787804</td>\n",
       "      <td>3.818114</td>\n",
       "      <td>3.542273</td>\n",
       "    </tr>\n",
       "    <tr>\n",
       "      <th>67</th>\n",
       "      <td>Kinesiology</td>\n",
       "      <td>132</td>\n",
       "      <td>3.995000</td>\n",
       "      <td>3.972879</td>\n",
       "      <td>3.988712</td>\n",
       "      <td>3.541439</td>\n",
       "    </tr>\n",
       "    <tr>\n",
       "      <th>54</th>\n",
       "      <td>Hospitality</td>\n",
       "      <td>267</td>\n",
       "      <td>3.697228</td>\n",
       "      <td>3.744607</td>\n",
       "      <td>3.719476</td>\n",
       "      <td>3.471498</td>\n",
       "    </tr>\n",
       "    <tr>\n",
       "      <th>24</th>\n",
       "      <td>Criminal Justice</td>\n",
       "      <td>1786</td>\n",
       "      <td>4.056685</td>\n",
       "      <td>4.033779</td>\n",
       "      <td>4.046702</td>\n",
       "      <td>3.469440</td>\n",
       "    </tr>\n",
       "    <tr>\n",
       "      <th>68</th>\n",
       "      <td>Nutrition</td>\n",
       "      <td>120</td>\n",
       "      <td>3.815167</td>\n",
       "      <td>3.844333</td>\n",
       "      <td>3.831500</td>\n",
       "      <td>3.468333</td>\n",
       "    </tr>\n",
       "  </tbody>\n",
       "</table>\n",
       "</div>"
      ],
      "text/plain": [
       "            Discipline  Number of Professors   Clarity  Helpfulness  \\\n",
       "64             Reading                   148  4.159392     4.188919   \n",
       "36  Physical Education                   991  4.078698     4.030797   \n",
       "49              Speech                   351  4.133191     4.101197   \n",
       "61   Child Development                   171  3.950585     4.008070   \n",
       "31             Theater                  1078  3.876633     3.821503   \n",
       "19               Music                  2455  3.844509     3.787804   \n",
       "67         Kinesiology                   132  3.995000     3.972879   \n",
       "54         Hospitality                   267  3.697228     3.744607   \n",
       "24    Criminal Justice                  1786  4.056685     4.033779   \n",
       "68           Nutrition                   120  3.815167     3.844333   \n",
       "\n",
       "    Overall Quality  Easiness  \n",
       "64         4.177500  3.882635  \n",
       "36         4.057719  3.832250  \n",
       "49         4.119345  3.674701  \n",
       "61         3.979766  3.606082  \n",
       "31         3.851837  3.584508  \n",
       "19         3.818114  3.542273  \n",
       "67         3.988712  3.541439  \n",
       "54         3.719476  3.471498  \n",
       "24         4.046702  3.469440  \n",
       "68         3.831500  3.468333  "
      ]
     },
     "execution_count": 20,
     "metadata": {},
     "output_type": "execute_result"
    }
   ],
   "source": [
    "courses.head(10)"
   ]
  },
  {
   "cell_type": "markdown",
   "metadata": {},
   "source": [
    "## Exercises\n",
    "\n",
    "See the [array indexing exercises](../exercises/array_indexing)."
   ]
  }
 ],
 "metadata": {
  "jupytext": {
   "notebook_metadata_filter": "all,-language_info",
   "split_at_heading": true
  },
  "kernelspec": {
   "display_name": "Python 3",
   "language": "python",
   "name": "python3"
  },
  "language_info": {
   "codemirror_mode": {
    "name": "ipython",
    "version": 3
   },
   "file_extension": ".py",
   "mimetype": "text/x-python",
   "name": "python",
   "nbconvert_exporter": "python",
   "pygments_lexer": "ipython3",
   "version": "3.7.4"
  }
 },
 "nbformat": 4,
 "nbformat_minor": 2
}
