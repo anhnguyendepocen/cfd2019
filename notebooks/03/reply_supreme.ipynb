{
 "cells": [
  {
   "cell_type": "markdown",
   "metadata": {},
   "source": [
    "[Our task](../02/sampling_problem) has been to reply to the Supreme Court on\n",
    "their judgment in the appeal of Robert Swain."
   ]
  },
  {
   "cell_type": "markdown",
   "metadata": {},
   "source": [
    "Remember, Robert Swain appealed his death sentence, for rape, on the\n",
    "basis that the jury selection was biased against black people."
   ]
  },
  {
   "cell_type": "markdown",
   "metadata": {},
   "source": [
    "His trial had a jury pool, of 100, from which the jury had to be selected.\n",
    "That jury pool should be representative of the local population.\n",
    "\n",
    "The jury pool had 8 black people, but the local population was 26% black.\n",
    "\n",
    "If the jury pool was representative, we would expect about 26 of 100 people to\n",
    "be back.  Our question is what we mean by *about* 26 of 100.\n",
    "\n",
    "The Supreme Court thought that the difference between expected (26) and actual\n",
    "(8) was small. But was it?  Does 8 of 100 fit somewhere in our description of\n",
    "*about* 26 of 100?"
   ]
  },
  {
   "cell_type": "markdown",
   "metadata": {},
   "source": [
    "To answer this, we are going to *simulate* making a jury pool.\n",
    "\n",
    "Our *model* is that each juror has been randomly selected from the population.\n",
    "That is, for any one juror, there is a 0.26 probability that they are black.\n",
    "\n",
    "First we make one jury pool, of 100, to remind ourselves of the task.\n",
    "\n",
    "Then we make 10 jury pools of 100, to get warmed up.\n",
    "\n",
    "Finally we make 10000 jury pools, each of 100 members, and see what we get."
   ]
  },
  {
   "cell_type": "code",
   "execution_count": 1,
   "metadata": {},
   "outputs": [],
   "source": [
    "# Import the array library\n",
    "import numpy as np\n",
    "# Make the floating point numbers print nicely.\n",
    "# This does not affect the calculations, only the display.\n",
    "np.set_printoptions(precision=2, suppress=True)"
   ]
  },
  {
   "cell_type": "markdown",
   "metadata": {},
   "source": [
    "Here is one jury pool, and the number of black people we get in our simulation."
   ]
  },
  {
   "cell_type": "code",
   "execution_count": 2,
   "metadata": {},
   "outputs": [
    {
     "data": {
      "text/plain": [
       "26"
      ]
     },
     "execution_count": 2,
     "metadata": {},
     "output_type": "execute_result"
    }
   ],
   "source": [
    "# Make 100 random numbers between 0 and 1\n",
    "randoms = np.random.uniform(size=100)\n",
    "# Say values < 0.26 correspond to black jurors.\n",
    "black_yn = randoms < 0.26\n",
    "# We now have True for black jurors and False otherwise.\n",
    "# Count the number of Trues\n",
    "np.count_nonzero(black_yn)"
   ]
  },
  {
   "cell_type": "markdown",
   "metadata": {},
   "source": [
    "That is one estimate, for the number of black people we can expect, if our\n",
    "model is correct.  We can run that a few times to get a range of values.   If\n",
    "we run it only a few times, we might be unlucky, and get some results that are\n",
    "not representative.  It is safer to run it a huge number of times, to make sure\n",
    "we've got an idea of the variation."
   ]
  },
  {
   "cell_type": "markdown",
   "metadata": {},
   "source": [
    "We do that, by using a two-dimensional array.\n",
    "\n",
    "We will start by making 10 jury pools, to get warmed up.  Later we will use\n",
    "a much higher number."
   ]
  },
  {
   "cell_type": "code",
   "execution_count": 3,
   "metadata": {},
   "outputs": [],
   "source": [
    "# Make an array with 10 rows, and 100 columns.\n",
    "# Each row corresponds to one jury pool\n",
    "randoms_2d = np.random.uniform(size=(10, 100))"
   ]
  },
  {
   "cell_type": "markdown",
   "metadata": {},
   "source": [
    "Next we label each element in the array as `True` (black juror) or `False`\n",
    "(white juror)."
   ]
  },
  {
   "cell_type": "code",
   "execution_count": 4,
   "metadata": {},
   "outputs": [],
   "source": [
    "# Set True for black jurors\n",
    "black_yn_2d = randoms_2d < 0.26"
   ]
  },
  {
   "cell_type": "markdown",
   "metadata": {},
   "source": [
    "We count how many `True` values we have in each *row*:"
   ]
  },
  {
   "cell_type": "code",
   "execution_count": 5,
   "metadata": {},
   "outputs": [
    {
     "data": {
      "text/plain": [
       "array([26, 29, 24, 29, 22, 30, 24, 20, 30, 23])"
      ]
     },
     "execution_count": 5,
     "metadata": {},
     "output_type": "execute_result"
    }
   ],
   "source": [
    "black_counts = np.count_nonzero(black_yn_2d, axis=1)\n",
    "black_counts"
   ]
  },
  {
   "cell_type": "markdown",
   "metadata": {},
   "source": [
    "Each of these values is one estimate for how many black jurors we should\n",
    "expect, if our model is right.  Already we get the feeling that 8 is rather\n",
    "unlikely, if our model is correct.  But - how unlikely?"
   ]
  },
  {
   "cell_type": "markdown",
   "metadata": {},
   "source": [
    "To get a better estimate, let us do the same thing, but with 10000 jury pools,\n",
    "and therefore, 10000 estimates."
   ]
  },
  {
   "cell_type": "code",
   "execution_count": 6,
   "metadata": {},
   "outputs": [],
   "source": [
    "randoms_2d_big = np.random.uniform(size=(10000, 100))\n",
    "black_yn_big = randoms_2d_big < 0.26\n",
    "black_counts_big = np.count_nonzero(black_yn_big, axis=1)"
   ]
  },
  {
   "cell_type": "markdown",
   "metadata": {},
   "source": [
    "If you ran this cell yourself, you will notice that it runs very fast, in much\n",
    "less than a second, on a reasonable laptop."
   ]
  },
  {
   "cell_type": "markdown",
   "metadata": {},
   "source": [
    "We now have 10000 estimates, one for each row in the original array, and\n",
    "therefore, one for each simulated jury pool.\n",
    "\n",
    "Remember, the function `len` shows us the length of the array, and therefore,\n",
    "the number of values in this one-dimensional array."
   ]
  },
  {
   "cell_type": "code",
   "execution_count": 7,
   "metadata": {},
   "outputs": [
    {
     "data": {
      "text/plain": [
       "10000"
      ]
     },
     "execution_count": 7,
     "metadata": {},
     "output_type": "execute_result"
    }
   ],
   "source": [
    "len(black_counts_big)"
   ]
  },
  {
   "cell_type": "markdown",
   "metadata": {},
   "source": [
    "Next we want to have a look at the spread of these values.  To do this, we plot\n",
    "a histogram.  Here is how to do that, in Python:"
   ]
  },
  {
   "cell_type": "code",
   "execution_count": 8,
   "metadata": {},
   "outputs": [],
   "source": [
    "# Load the plotting library\n",
    "import matplotlib.pyplot as plt"
   ]
  },
  {
   "cell_type": "code",
   "execution_count": 9,
   "metadata": {},
   "outputs": [],
   "source": [
    "# A special command to tell the Notebook to show us\n",
    "# the plots inside the Notebook\n",
    "%matplotlib inline"
   ]
  },
  {
   "cell_type": "code",
   "execution_count": 10,
   "metadata": {},
   "outputs": [
    {
     "data": {
      "text/plain": [
       "(array([   35.,   196.,  1333.,  2215.,  2586.,  2553.,   768.,   286.,\n",
       "           24.,     4.]),\n",
       " array([ 11. ,  14.4,  17.8,  21.2,  24.6,  28. ,  31.4,  34.8,  38.2,\n",
       "         41.6,  45. ]),\n",
       " <a list of 10 Patch objects>)"
      ]
     },
     "execution_count": 10,
     "metadata": {},
     "output_type": "execute_result"
    },
    {
     "data": {
      "image/png": "[encoded data removed]",
      "text/plain": [
       "<Figure size 432x288 with 1 Axes>"
      ]
     },
     "metadata": {},
     "output_type": "display_data"
    }
   ],
   "source": [
    "# Do the histogram of our 10000 estimates.\n",
    "plt.hist(black_counts_big)"
   ]
  },
  {
   "cell_type": "markdown",
   "metadata": {},
   "source": [
    "It looks as if 8 is nowhere on the spread of our estimates.  How many times did\n",
    "we get a value less than or equal to 8, in all our 10000 estimates?"
   ]
  },
  {
   "cell_type": "code",
   "execution_count": 11,
   "metadata": {},
   "outputs": [
    {
     "data": {
      "text/plain": [
       "0"
      ]
     },
     "execution_count": 11,
     "metadata": {},
     "output_type": "execute_result"
    }
   ],
   "source": [
    "counts_are_low = black_counts_big < 9\n",
    "np.count_nonzero(counts_are_low)"
   ]
  },
  {
   "cell_type": "markdown",
   "metadata": {},
   "source": [
    "In 10000 random jury pools, we never see a value as low as 8.  We can ask Numpy\n",
    "to show us the minimum value that we do see, by using the `np.min` function:"
   ]
  },
  {
   "cell_type": "code",
   "execution_count": 12,
   "metadata": {},
   "outputs": [
    {
     "data": {
      "text/plain": [
       "11"
      ]
     },
     "execution_count": 12,
     "metadata": {},
     "output_type": "execute_result"
    }
   ],
   "source": [
    "np.min(black_counts_big)"
   ]
  },
  {
   "cell_type": "markdown",
   "metadata": {},
   "source": [
    "We have run an analysis assuming that the jurors were selected at random.  On\n",
    "that assumption, a count of 8 jurors in 1000 is incredibly unlikely.  It is so\n",
    "unlikely, that we never get a number as low as 8, in 10000 repeats.   That\n",
    "makes us think that the probability of getting 8 black people in a jury pool of\n",
    "100, is less than 1 in 10000 or:"
   ]
  },
  {
   "cell_type": "code",
   "execution_count": 13,
   "metadata": {},
   "outputs": [
    {
     "data": {
      "text/plain": [
       "0.0001"
      ]
     },
     "execution_count": 13,
     "metadata": {},
     "output_type": "execute_result"
    }
   ],
   "source": [
    "1 / 10000"
   ]
  }
 ],
 "metadata": {
  "jupytext": {
   "text_representation": {
    "extension": ".Rmd",
    "format_name": "rmarkdown",
    "format_version": "1.0",
    "jupytext_version": "0.8.1"
   }
  },
  "kernelspec": {
   "display_name": "Python 3",
   "language": "python",
   "name": "python3"
  },
  "language_info": {
   "codemirror_mode": {
    "name": "ipython",
    "version": 3
   },
   "file_extension": ".py",
   "mimetype": "text/x-python",
   "name": "python",
   "nbconvert_exporter": "python",
   "pygments_lexer": "ipython3",
   "version": "3.6.5"
  }
 },
 "nbformat": 4,
 "nbformat_minor": 2
}
