{
 "cells": [
  {
   "cell_type": "markdown",
   "metadata": {},
   "source": [
    "[Our task](../02/sampling_problem) has been to reply to the Supreme Court on\n",
    "their judgment in the appeal of Robert Swain."
   ]
  },
  {
   "cell_type": "markdown",
   "metadata": {},
   "source": [
    "Remember, Robert Swain appealed his death sentence, for rape, on the\n",
    "basis that the jury selection was biased against black people."
   ]
  },
  {
   "cell_type": "markdown",
   "metadata": {},
   "source": [
    "His trial had a jury pool, of 100, from which the jury had to be selected.\n",
    "That jury pool should have been representative of the local population.\n",
    "\n",
    "The jury pool had 8 black people, but the local population was 26% black.\n",
    "\n",
    "If the jury pool had been representative, we would expect about 26 of 100\n",
    "people to be black.  Our question is what we mean by *about* 26 of 100.\n",
    "\n",
    "The Supreme Court thought that the difference between expected (26) and actual\n",
    "(8) was small. But was it?  Does 8 of 100 fit somewhere in our description of\n",
    "*about* 26 of 100?"
   ]
  },
  {
   "cell_type": "markdown",
   "metadata": {},
   "source": [
    "To answer this, we are going to *simulate* making a jury pool.\n",
    "\n",
    "Our *model* is that each juror has been randomly selected from the population.\n",
    "That is, for any one juror, there is a 0.26 probability that they are black.\n",
    "\n",
    "First we make one jury pool, of 100, to remind ourselves of the task.\n",
    "\n",
    "Then we make 10 jury pools of 100, to get warmed up.\n",
    "\n",
    "Finally we make 10000 jury pools, each of 100 members, and see what we get."
   ]
  },
  {
   "cell_type": "code",
   "execution_count": 1,
   "metadata": {},
   "outputs": [],
   "source": [
    "# Import the array library\n",
    "import numpy as np"
   ]
  },
  {
   "cell_type": "markdown",
   "metadata": {},
   "source": [
    "Here is one jury pool, and the number of black people we get in our simulation."
   ]
  },
  {
   "cell_type": "code",
   "execution_count": 2,
   "metadata": {},
   "outputs": [
    {
     "data": {
      "text/plain": [
       "0"
      ]
     },
     "execution_count": 2,
     "metadata": {},
     "output_type": "execute_result"
    }
   ],
   "source": [
    "# Make 100 random integers from 0 through 99\n",
    "randoms = np.random.randint(0, 100, size=100)\n",
    "# Say values < 26 correspond to black jurors.\n",
    "black_yn = randoms < 0.26\n",
    "# We now have True for black jurors and False otherwise.\n",
    "# Count the number of Trues\n",
    "np.count_nonzero(black_yn)"
   ]
  },
  {
   "cell_type": "markdown",
   "metadata": {},
   "source": [
    "That is one estimate, for the number of black people we can expect, if our\n",
    "model is correct.  Call this one *trial*. We can run that a few times to get a\n",
    "range of values.   If we run it only a few times, we might be unlucky, and get\n",
    "some results that are not representative.  It is safer to run it a huge number\n",
    "of times, to make sure we've got an idea of the variation."
   ]
  },
  {
   "cell_type": "markdown",
   "metadata": {},
   "source": [
    "Next we get ready to store the results of each estimate."
   ]
  },
  {
   "cell_type": "code",
   "execution_count": 3,
   "metadata": {},
   "outputs": [],
   "source": [
    "# Make an empty counts array, to append to.\n",
    "counts = np.array([])"
   ]
  },
  {
   "cell_type": "markdown",
   "metadata": {},
   "source": [
    "We repeat the code from the cell above, but now, we append to the `counts` array:"
   ]
  },
  {
   "cell_type": "code",
   "execution_count": 4,
   "metadata": {},
   "outputs": [
    {
     "data": {
      "text/plain": [
       "array([0.])"
      ]
     },
     "execution_count": 4,
     "metadata": {},
     "output_type": "execute_result"
    }
   ],
   "source": [
    "randoms = np.random.randint(0, 100, size=100)\n",
    "black_yn = randoms < 0.26\n",
    "count = np.count_nonzero(black_yn)\n",
    "counts = np.append(counts, count)\n",
    "counts"
   ]
  },
  {
   "cell_type": "markdown",
   "metadata": {},
   "source": [
    "Run the cell above a few times, perhaps with Control-Enter, to see the `counts` array extending, for each time we run the cell."
   ]
  },
  {
   "cell_type": "markdown",
   "metadata": {},
   "source": [
    "Now we collect the result of many trials, by using a for loop.\n",
    "\n",
    "We will start by making 10 jury pools, to get warmed up.  Later we will use\n",
    "a much higher number."
   ]
  },
  {
   "cell_type": "code",
   "execution_count": 5,
   "metadata": {},
   "outputs": [
    {
     "data": {
      "text/plain": [
       "array([1., 0., 0., 2., 3., 0., 1., 0., 1., 0., 2., 2., 1., 0., 1., 1., 1.,\n",
       "       0., 2., 0., 2., 1., 1., 1., 2., 2., 2., 0., 0., 1., 1., 2., 7., 0.,\n",
       "       0., 1., 3., 4., 2., 0., 1., 1., 2., 2., 0., 0., 2., 0., 2., 3., 0.,\n",
       "       1., 0., 1., 1., 0., 1., 1., 2., 0., 0., 2., 0., 0., 2., 2., 0., 1.,\n",
       "       0., 2., 1., 0., 0., 2., 0., 1., 1., 0., 3., 3., 2., 1., 2., 2., 1.,\n",
       "       0., 1., 2., 2., 2., 0., 1., 0., 1., 0., 0., 2., 2., 0., 3.])"
      ]
     },
     "execution_count": 5,
     "metadata": {},
     "output_type": "execute_result"
    }
   ],
   "source": [
    "# Make a new empty counts array, to append to.\n",
    "counts = np.array([])\n",
    "for i in np.arange(100):\n",
    "    # This code is the same as the cell above, but indented,\n",
    "    # so we run it all, for each time through the for loop.\n",
    "    randoms = np.random.randint(0, 100, size=100)\n",
    "    black_yn = randoms < 0.26\n",
    "    count = np.count_nonzero(black_yn)\n",
    "    counts = np.append(counts, count)\n",
    "counts"
   ]
  },
  {
   "cell_type": "markdown",
   "metadata": {},
   "source": [
    "Each of these values is one estimate for how many black jurors we should\n",
    "expect, if our model is right.  Already we get the feeling that 8 is rather\n",
    "unlikely, if our model is correct.  But - how unlikely?"
   ]
  },
  {
   "cell_type": "markdown",
   "metadata": {},
   "source": [
    "To get a better estimate, let us do the same thing, but with 10000 jury pools,\n",
    "and therefore, 10000 estimates."
   ]
  },
  {
   "cell_type": "code",
   "execution_count": 6,
   "metadata": {},
   "outputs": [
    {
     "data": {
      "text/plain": [
       "array([0., 2., 1., ..., 4., 1., 0.])"
      ]
     },
     "execution_count": 6,
     "metadata": {},
     "output_type": "execute_result"
    }
   ],
   "source": [
    "# Make a new empty counts array, to append to.\n",
    "counts = np.array([])\n",
    "for i in np.arange(10000):\n",
    "    # This code is the same as the cell above, but indented,\n",
    "    # so we run it all, for each time through the for loop.\n",
    "    randoms = np.random.randint(0, 100, size=100)\n",
    "    black_yn = randoms < 0.26\n",
    "    count = np.count_nonzero(black_yn)\n",
    "    counts = np.append(counts, count)\n",
    "counts"
   ]
  },
  {
   "cell_type": "markdown",
   "metadata": {},
   "source": [
    "If you ran this cell yourself, you will notice that it runs very fast, in much\n",
    "less than a second, on a reasonable laptop."
   ]
  },
  {
   "cell_type": "markdown",
   "metadata": {},
   "source": [
    "We now have 10000 estimates, one for each row in the original array, and\n",
    "therefore, one for each simulated jury pool.\n",
    "\n",
    "Remember, the function `len` shows us the length of the array, and therefore,\n",
    "the number of values in this one-dimensional array."
   ]
  },
  {
   "cell_type": "code",
   "execution_count": 7,
   "metadata": {},
   "outputs": [
    {
     "data": {
      "text/plain": [
       "10000"
      ]
     },
     "execution_count": 7,
     "metadata": {},
     "output_type": "execute_result"
    }
   ],
   "source": [
    "len(counts)"
   ]
  },
  {
   "cell_type": "markdown",
   "metadata": {},
   "source": [
    "Next we want to have a look at the spread of these values.  To do this, we plot\n",
    "a histogram.  Here is how to do that, in Python.  Don't worry about the details, we will go into this more soon."
   ]
  },
  {
   "cell_type": "code",
   "execution_count": 8,
   "metadata": {},
   "outputs": [],
   "source": [
    "# Please don't worry about this bit of code for now.\n",
    "# It sets up plotting in the notebook.\n",
    "import matplotlib.pyplot as plt\n",
    "%matplotlib inline\n",
    "# Fancy plots\n",
    "plt.style.use('fivethirtyeight')"
   ]
  },
  {
   "cell_type": "markdown",
   "metadata": {},
   "source": [
    "Now show the histogram."
   ]
  },
  {
   "cell_type": "code",
   "execution_count": 9,
   "metadata": {},
   "outputs": [
    {
     "data": {
      "text/plain": [
       "(array([3604., 3735.,    0., 1870.,    0.,  606.,  147.,    0.,   34.,\n",
       "           4.]),\n",
       " array([0. , 0.6, 1.2, 1.8, 2.4, 3. , 3.6, 4.2, 4.8, 5.4, 6. ]),\n",
       " <a list of 10 Patch objects>)"
      ]
     },
     "execution_count": 9,
     "metadata": {},
     "output_type": "execute_result"
    },
    {
     "data": {
      "image/png": "[encoded data removed]",
      "text/plain": [
       "<Figure size 432x288 with 1 Axes>"
      ]
     },
     "metadata": {
      "needs_background": "light"
     },
     "output_type": "display_data"
    }
   ],
   "source": [
    "# Do the histogram of our 10000 estimates.\n",
    "plt.hist(counts)"
   ]
  },
  {
   "cell_type": "markdown",
   "metadata": {},
   "source": [
    "It looks as if 8 is nowhere on the spread of our estimates.  How many times did\n",
    "we get a value less than or equal to 8, in all our 10000 estimates?"
   ]
  },
  {
   "cell_type": "code",
   "execution_count": 10,
   "metadata": {},
   "outputs": [
    {
     "data": {
      "text/plain": [
       "10000"
      ]
     },
     "execution_count": 10,
     "metadata": {},
     "output_type": "execute_result"
    }
   ],
   "source": [
    "counts_are_low = counts <= 8\n",
    "np.count_nonzero(counts_are_low)"
   ]
  },
  {
   "cell_type": "markdown",
   "metadata": {},
   "source": [
    "In 10000 random jury pools, we never see a value as low as 8.  We can ask Numpy\n",
    "to show us the minimum value that we do see, by using the `np.min` function:"
   ]
  },
  {
   "cell_type": "code",
   "execution_count": 11,
   "metadata": {},
   "outputs": [
    {
     "data": {
      "text/plain": [
       "0.0"
      ]
     },
     "execution_count": 11,
     "metadata": {},
     "output_type": "execute_result"
    }
   ],
   "source": [
    "np.min(counts)"
   ]
  },
  {
   "cell_type": "markdown",
   "metadata": {},
   "source": [
    "We have run an analysis assuming that the jurors were selected at random.  On\n",
    "that assumption, a count of 8 jurors in 1000 is incredibly unlikely.  It is so\n",
    "unlikely, that we never get a number as low as 8, in 10000 repeats.   That\n",
    "makes us think that the probability of getting 8 black people in a jury pool of\n",
    "100, is less than 1 in 10000 or:"
   ]
  },
  {
   "cell_type": "code",
   "execution_count": 12,
   "metadata": {},
   "outputs": [
    {
     "data": {
      "text/plain": [
       "0.0001"
      ]
     },
     "execution_count": 12,
     "metadata": {},
     "output_type": "execute_result"
    }
   ],
   "source": [
    "1 / 10000"
   ]
  }
 ],
 "metadata": {
  "jupytext": {
   "text_representation": {
    "extension": ".Rmd",
    "format_name": "rmarkdown",
    "format_version": "1.0",
    "jupytext_version": "0.8.1"
   }
  },
  "kernelspec": {
   "display_name": "Python 3",
   "language": "python",
   "name": "python3"
  },
  "language_info": {
   "codemirror_mode": {
    "name": "ipython",
    "version": 3
   },
   "file_extension": ".py",
   "mimetype": "text/x-python",
   "name": "python",
   "nbconvert_exporter": "python",
   "pygments_lexer": "ipython3",
   "version": "3.7.0"
  }
 },
 "nbformat": 4,
 "nbformat_minor": 2
}
