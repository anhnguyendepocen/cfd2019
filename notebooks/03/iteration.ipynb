{
 "cells": [
  {
   "cell_type": "code",
   "execution_count": 1,
   "metadata": {},
   "outputs": [],
   "source": [
    "# Load the Numpy package, and rename to \"np\"\n",
    "import numpy as np"
   ]
  },
  {
   "cell_type": "markdown",
   "metadata": {},
   "source": [
    "### Iteration ###\n",
    "\n",
    "It is often the case in programming – especially when dealing with randomness\n",
    "– that we want to repeat a process multiple times.\n",
    "\n",
    "We know the numpy function `random.randint` claims to choose randomly\n",
    "between the integers in the range we specify.\n",
    "\n",
    "We have been choosing randomly between 0 and 1 with:"
   ]
  },
  {
   "cell_type": "code",
   "execution_count": 2,
   "metadata": {},
   "outputs": [
    {
     "data": {
      "text/plain": [
       "1"
      ]
     },
     "execution_count": 2,
     "metadata": {},
     "output_type": "execute_result"
    }
   ],
   "source": [
    "coin = np.random.randint(2)\n",
    "coin"
   ]
  },
  {
   "cell_type": "markdown",
   "metadata": {},
   "source": [
    "We might want to check this really does in fact pick 0 or 1 with\n",
    "about the same probability.  To do that, we could start by running\n",
    "the following cell many times to see if we get roughly equal numbers of\n",
    "0 and 1."
   ]
  },
  {
   "cell_type": "code",
   "execution_count": 3,
   "metadata": {},
   "outputs": [
    {
     "data": {
      "text/plain": [
       "1"
      ]
     },
     "execution_count": 3,
     "metadata": {},
     "output_type": "execute_result"
    }
   ],
   "source": [
    "np.random.randint(2)"
   ]
  },
  {
   "cell_type": "markdown",
   "metadata": {},
   "source": [
    "We might want to re-run code with slightly different input or other slightly\n",
    "different behavior. We could copy-paste the code multiple times, but that's\n",
    "tedious and prone to typos, and if we wanted to do it a thousand times or\n",
    "a million times, forget it.\n",
    "\n",
    "A more automated solution is to use a `for` statement to loop over the\n",
    "contents of a sequence. This is called *iteration*. A `for` statement begins\n",
    "with the word `for`, followed by a name we want to give each item in the\n",
    "sequence, followed by the word `in`, and ending with an expression that\n",
    "evaluates to a sequence. The indented body of the `for` statement is executed\n",
    "once *for each item in that sequence*."
   ]
  },
  {
   "cell_type": "code",
   "execution_count": 4,
   "metadata": {},
   "outputs": [
    {
     "name": "stdout",
     "output_type": "stream",
     "text": [
      "0\n",
      "1\n",
      "2\n"
     ]
    }
   ],
   "source": [
    "for i in np.arange(3):\n",
    "    print(i)"
   ]
  },
  {
   "cell_type": "markdown",
   "metadata": {},
   "source": [
    "## The idea behind a for loop\n",
    "\n",
    "The for loop takes a sequence of things (in our case, the sequence 0, 1, 2), and, for each element in the sequence, it does some task.   The task is the indented part of the for loop, also called the *body* of the for loop.\n",
    "\n",
    "This is a common pattern where we take a series of things, and perform the\n",
    "same steps on each.  For example, imagine a librarian describing the sequence\n",
    "of steps that he goes through, in issuing a stack of books.  He might say\n",
    "something like:\n",
    "\n",
    "    For each **book** in (the stack of books to issue):\n",
    "        Open **book** to first page\n",
    "        Stamp first page of **book**\n",
    "        Close **book**\n",
    "        Hand **book** to reader.\n",
    "\n",
    "Imagine a passport control officer describing their work:\n",
    "\n",
    "    For each **person** of (the people in the immigration line):\n",
    "        Ask **person** for their passport.\n",
    "        Check passport photo against face of **person**.\n",
    "        Scan passport to check against database.\n",
    "        Return passport to **person**.\n",
    "        Allow **person** through to customs.\n",
    "\n",
    "In either case, we take a sequence of things (books, people), and for each\n",
    "element in that sequence (each book, each person) we perform a task (issuing\n",
    "the book, checking the person's passport).  We have indented the steps of\n",
    "task that we perform for each (book, person); this is the *task definition*.  In the for loop, the task definition is also called the *body* of the for loop.\n",
    "\n",
    "In the loops above, we did something with each element in the sequence.  Fir the first loop, the element is one book. The librarian opened, stamped, moved the book.  In the second loop, the element is a person in the immigration line; the officer takes their passport and checks it, and then allows them through.\n",
    "\n",
    "This is not always the case - sometimes we just want to repeat some action a set amount of times.  For example, when you go on a flight, you may see a member of the cabin crew going through the cabin, clicking a clicker for each passenger.  This is to count the number of passengers.  That loop might be:\n",
    "\n",
    "    For each **passenger** of the (passengers in the aircraft):\n",
    "        Press the clicker\n",
    "\n",
    "Notice that the body of the loop is \"Press the clicker\", but that doesn't involve the particular **passenger**.  The loop, here, is just a way of repeating the same action multiple times.\n",
    "\n",
    "## Unrolling the loop\n",
    "\n",
    "Here is the actual Python for loop."
   ]
  },
  {
   "cell_type": "code",
   "execution_count": 5,
   "metadata": {},
   "outputs": [
    {
     "name": "stdout",
     "output_type": "stream",
     "text": [
      "0\n",
      "1\n",
      "2\n"
     ]
    }
   ],
   "source": [
    "for i in np.arange(3):\n",
    "    print(i)"
   ]
  },
  {
   "cell_type": "markdown",
   "metadata": {},
   "source": [
    "We can read that as:\n",
    "\n",
    "    For each value in the sequence `np.arange(3)`:\n",
    "        Put the value into the variable `i`\n",
    "        Execute the statement `print(i)`.\n",
    "\n",
    "* `i` is the *loop variable*;\n",
    "* `np.arange(3)` is the *sequence*;\n",
    "* `print(i)` is the *body* of the loop.\n",
    "\n",
    "It is instructive to imagine code that exactly replicates the `for` statement\n",
    "without the `for` statement.  (This is called *unrolling* the loop.)  A `for`\n",
    "statement simply replicates the code inside it, but before each iteration, it\n",
    "assigns a new value from the given sequence to the name we chose.  For\n",
    "example, here is an unrolled version of the loop above:"
   ]
  },
  {
   "cell_type": "code",
   "execution_count": 6,
   "metadata": {},
   "outputs": [
    {
     "name": "stdout",
     "output_type": "stream",
     "text": [
      "0\n",
      "1\n",
      "2\n"
     ]
    }
   ],
   "source": [
    "i = 0\n",
    "print(i)\n",
    "i = 1\n",
    "print(i)\n",
    "i = 2\n",
    "print(i)"
   ]
  },
  {
   "cell_type": "markdown",
   "metadata": {},
   "source": [
    "Notice that the name `i` is arbitrary, just like any name we assign with `=`.\n",
    "For example, the following `for` loop works in just the same way as the `for`\n",
    "loop above:"
   ]
  },
  {
   "cell_type": "code",
   "execution_count": 7,
   "metadata": {},
   "outputs": [
    {
     "name": "stdout",
     "output_type": "stream",
     "text": [
      "0\n",
      "1\n",
      "2\n"
     ]
    }
   ],
   "source": [
    "for my_variable in np.arange(3):\n",
    "    print(my_variable)"
   ]
  },
  {
   "cell_type": "markdown",
   "metadata": {},
   "source": [
    "* `my_variable` is the *loop variable*;\n",
    "* `np.arange(3)` is the *sequence*;\n",
    "* `print(my_variable)` is the *body* of the loop.\n",
    "\n",
    "As in the examples above, the body of the loop need not use the loop variable.  We might just use the loop to repeat something several times.  Here is an old-school comedy policeman:"
   ]
  },
  {
   "cell_type": "code",
   "execution_count": 8,
   "metadata": {},
   "outputs": [
    {
     "name": "stdout",
     "output_type": "stream",
     "text": [
      "Hello\n",
      "Hello\n",
      "Hello\n"
     ]
    }
   ],
   "source": [
    "for i in np.arange(3):\n",
    "    print(\"Hello\")"
   ]
  },
  {
   "cell_type": "markdown",
   "metadata": {},
   "source": [
    "* `i` is the *loop variable*;\n",
    "* `np.arange(3)` is the *sequence*;\n",
    "* `print(\"Hello\")` is the *body* of the loop.  It does not use the loop\n",
    "  variable.\n",
    "\n",
    "In the next example, we use a `for` statement in a more realistic way: we\n",
    "print the results of five random integers:"
   ]
  },
  {
   "cell_type": "code",
   "execution_count": 9,
   "metadata": {},
   "outputs": [
    {
     "name": "stdout",
     "output_type": "stream",
     "text": [
      "0\n",
      "0\n",
      "0\n",
      "1\n",
      "1\n"
     ]
    }
   ],
   "source": [
    "for i in np.arange(5):\n",
    "    print(np.random.randint(2))"
   ]
  },
  {
   "cell_type": "markdown",
   "metadata": {},
   "source": [
    "In this case, we simply perform exactly the same (random) action several\n",
    "times, so the code inside our `for` statement does not actually refer to the\n",
    "variable `i`.\n",
    "\n",
    "### Example: Counting the Number of Heads ###\n",
    "\n",
    "We can now simulate five tosses of a coin and place the results into\n",
    "an array. We will start by creating an empty array and then appending\n",
    "the result of each toss."
   ]
  },
  {
   "cell_type": "code",
   "execution_count": 10,
   "metadata": {},
   "outputs": [
    {
     "data": {
      "text/plain": [
       "array([0., 1., 0., 0., 1.])"
      ]
     },
     "execution_count": 10,
     "metadata": {},
     "output_type": "execute_result"
    }
   ],
   "source": [
    "# An empty array.\n",
    "tosses = np.array([])\n",
    "\n",
    "for i in np.arange(5):\n",
    "    tosses = np.append(tosses, np.random.randint(2))\n",
    "\n",
    "tosses"
   ]
  },
  {
   "cell_type": "markdown",
   "metadata": {},
   "source": [
    "Let us rewrite the cell with the `for` statement unrolled:"
   ]
  },
  {
   "cell_type": "code",
   "execution_count": 11,
   "metadata": {},
   "outputs": [
    {
     "data": {
      "text/plain": [
       "array([1., 1., 0., 0., 1.])"
      ]
     },
     "execution_count": 11,
     "metadata": {},
     "output_type": "execute_result"
    }
   ],
   "source": [
    "# An empty array.\n",
    "tosses = np.array([])\n",
    "\n",
    "i = 0\n",
    "tosses = np.append(tosses, np.random.randint(2))\n",
    "i = 1\n",
    "tosses = np.append(tosses, np.random.randint(2))\n",
    "i = 2\n",
    "tosses = np.append(tosses, np.random.randint(2))\n",
    "i = 3\n",
    "tosses = np.append(tosses, np.random.randint(2))\n",
    "i = 4\n",
    "tosses = np.append(tosses, np.random.randint(2))\n",
    "\n",
    "tosses"
   ]
  },
  {
   "cell_type": "markdown",
   "metadata": {},
   "source": [
    "Now we have an array, we can use `np.sum` to count the\n",
    "number of heads in the five tosses."
   ]
  },
  {
   "cell_type": "code",
   "execution_count": 12,
   "metadata": {},
   "outputs": [
    {
     "data": {
      "text/plain": [
       "3.0"
      ]
     },
     "execution_count": 12,
     "metadata": {},
     "output_type": "execute_result"
    }
   ],
   "source": [
    "np.sum(tosses)"
   ]
  },
  {
   "cell_type": "markdown",
   "metadata": {},
   "source": [
    "Iteration is a powerful technique. For example, by running exactly the\n",
    "same code for 1000 tosses instead of 5, we can count the number of\n",
    "heads in 1000 tosses."
   ]
  },
  {
   "cell_type": "code",
   "execution_count": 13,
   "metadata": {},
   "outputs": [
    {
     "data": {
      "text/plain": [
       "array([1., 1., 0., 0., 1., 0., 0., 1., 0., 0., 1., 1., 1., 0., 1., 1., 0.,\n",
       "       0., 0., 1., 1., 1., 0., 1., 1., 0., 0., 0., 1., 0., 1., 0., 0., 1.,\n",
       "       0., 1., 1., 0., 1., 1., 1., 0., 1., 1., 1., 1., 1., 0., 1., 0., 1.,\n",
       "       1., 0., 1., 1., 1., 1., 0., 1., 0., 1., 1., 0., 0., 0., 1., 1., 0.,\n",
       "       0., 1., 0., 1., 0., 1., 1., 0., 0., 0., 0., 1., 1., 1., 1., 0., 0.,\n",
       "       0., 0., 1., 1., 0., 1., 0., 0., 0., 1., 0., 1., 1., 0., 1., 0., 0.,\n",
       "       1., 1., 0., 0., 0., 1., 0., 1., 0., 1., 0., 1., 0., 0., 0., 1., 1.,\n",
       "       1., 0., 1., 1., 1., 1., 0., 0., 1., 1., 1., 0., 1., 1., 1., 0., 0.,\n",
       "       1., 1., 1., 1., 0., 0., 0., 0., 0., 1., 1., 1., 1., 0., 0., 1., 0.,\n",
       "       0., 1., 0., 0., 0., 0., 0., 1., 0., 0., 1., 1., 0., 1., 1., 1., 0.,\n",
       "       1., 1., 1., 0., 0., 0., 1., 1., 0., 1., 0., 1., 1., 1., 0., 1., 0.,\n",
       "       0., 0., 1., 1., 1., 1., 1., 1., 0., 0., 0., 1., 0., 0., 0., 1., 1.,\n",
       "       0., 0., 1., 1., 1., 1., 0., 0., 1., 0., 0., 0., 0., 0., 1., 1., 0.,\n",
       "       1., 1., 1., 1., 1., 1., 1., 0., 0., 0., 1., 0., 0., 0., 1., 1., 1.,\n",
       "       0., 0., 1., 0., 1., 1., 0., 1., 0., 1., 0., 0., 1., 0., 0., 0., 0.,\n",
       "       0., 0., 1., 0., 1., 1., 0., 0., 1., 0., 0., 1., 0., 0., 0., 1., 1.,\n",
       "       1., 0., 0., 0., 1., 0., 1., 1., 0., 1., 0., 0., 1., 0., 1., 1., 0.,\n",
       "       0., 0., 0., 0., 1., 0., 0., 1., 1., 0., 0., 0., 1., 1., 1., 0., 1.,\n",
       "       0., 0., 1., 0., 1., 0., 0., 1., 1., 1., 1., 0., 1., 0., 1., 0., 1.,\n",
       "       1., 1., 1., 0., 1., 1., 1., 1., 1., 0., 1., 0., 0., 0., 1., 0., 0.,\n",
       "       0., 0., 0., 0., 1., 1., 1., 1., 1., 1., 0., 1., 1., 1., 1., 0., 0.,\n",
       "       0., 1., 1., 0., 0., 1., 1., 1., 0., 0., 1., 1., 0., 1., 0., 0., 1.,\n",
       "       0., 1., 0., 1., 0., 0., 0., 1., 0., 1., 0., 0., 0., 1., 0., 0., 0.,\n",
       "       0., 1., 1., 0., 0., 0., 1., 0., 1., 1., 1., 1., 1., 1., 1., 0., 0.,\n",
       "       0., 1., 1., 1., 1., 0., 1., 0., 0., 0., 0., 1., 1., 0., 1., 1., 1.,\n",
       "       1., 1., 0., 1., 0., 0., 1., 0., 1., 1., 1., 1., 0., 0., 0., 0., 1.,\n",
       "       0., 1., 1., 1., 1., 1., 1., 0., 0., 1., 1., 1., 1., 0., 1., 1., 1.,\n",
       "       1., 0., 0., 1., 1., 0., 0., 1., 1., 0., 1., 0., 0., 1., 1., 0., 1.,\n",
       "       0., 0., 1., 0., 1., 1., 0., 0., 1., 1., 0., 0., 1., 1., 0., 1., 1.,\n",
       "       1., 0., 1., 0., 0., 0., 1., 1., 1., 0., 0., 0., 0., 0., 0., 1., 0.,\n",
       "       1., 1., 0., 0., 1., 1., 0., 1., 0., 1., 0., 1., 1., 1., 1., 0., 1.,\n",
       "       0., 0., 0., 0., 1., 1., 1., 1., 1., 1., 0., 0., 0., 0., 1., 1., 0.,\n",
       "       0., 1., 1., 0., 0., 0., 0., 1., 0., 1., 0., 1., 1., 1., 1., 1., 0.,\n",
       "       0., 1., 0., 0., 1., 1., 1., 0., 1., 1., 0., 0., 1., 1., 1., 0., 0.,\n",
       "       0., 1., 0., 0., 0., 0., 0., 1., 1., 0., 1., 1., 0., 0., 0., 0., 0.,\n",
       "       1., 0., 0., 1., 0., 1., 0., 1., 0., 1., 0., 0., 0., 0., 0., 1., 0.,\n",
       "       1., 1., 0., 1., 0., 1., 1., 1., 0., 0., 1., 0., 1., 1., 1., 0., 0.,\n",
       "       0., 1., 0., 1., 0., 1., 1., 0., 0., 0., 0., 1., 0., 1., 0., 0., 0.,\n",
       "       0., 0., 0., 0., 0., 1., 0., 0., 1., 1., 1., 0., 0., 1., 0., 0., 0.,\n",
       "       0., 0., 0., 1., 0., 0., 1., 0., 0., 0., 1., 1., 1., 0., 0., 0., 1.,\n",
       "       0., 1., 1., 0., 0., 0., 0., 0., 1., 1., 0., 1., 0., 1., 1., 0., 0.,\n",
       "       0., 1., 0., 1., 0., 1., 0., 0., 0., 0., 0., 1., 0., 1., 0., 1., 0.,\n",
       "       1., 0., 1., 0., 1., 0., 1., 0., 0., 0., 0., 0., 0., 0., 0., 1., 1.,\n",
       "       0., 0., 1., 0., 1., 1., 1., 1., 1., 0., 0., 0., 0., 1., 0., 0., 1.,\n",
       "       1., 1., 0., 0., 0., 1., 1., 1., 0., 0., 0., 1., 1., 1., 1., 1., 0.,\n",
       "       1., 0., 0., 1., 0., 1., 0., 0., 1., 1., 0., 1., 0., 0., 1., 1., 1.,\n",
       "       1., 0., 0., 0., 1., 0., 0., 0., 1., 1., 0., 0., 0., 0., 1., 0., 1.,\n",
       "       1., 0., 1., 0., 1., 0., 1., 0., 0., 0., 1., 1., 0., 1., 0., 0., 0.,\n",
       "       1., 0., 1., 1., 1., 0., 1., 1., 0., 1., 1., 0., 0., 1., 0., 1., 0.,\n",
       "       0., 1., 1., 1., 0., 0., 0., 1., 1., 1., 1., 0., 1., 0., 1., 1., 0.,\n",
       "       1., 0., 1., 1., 1., 0., 0., 0., 1., 0., 0., 0., 0., 0., 0., 1., 1.,\n",
       "       1., 1., 0., 0., 0., 1., 1., 1., 1., 1., 1., 0., 0., 0., 1., 1., 0.,\n",
       "       1., 1., 0., 1., 0., 1., 0., 0., 1., 1., 0., 1., 0., 0., 1., 0., 1.,\n",
       "       1., 1., 0., 0., 1., 0., 0., 0., 0., 0., 0., 0., 0., 1., 1., 1., 0.,\n",
       "       1., 0., 1., 0., 1., 1., 0., 0., 1., 1., 1., 1., 1., 1., 0., 1., 0.,\n",
       "       1., 0., 1., 1., 1., 0., 1., 0., 0., 1., 0., 1., 1., 1., 0., 0., 1.,\n",
       "       0., 1., 0., 1., 1., 0., 1., 0., 1., 1., 0., 1., 1., 0., 0., 0., 1.,\n",
       "       0., 1., 0., 1., 0., 0., 1., 0., 0., 0., 1., 0., 1., 1., 0., 0., 0.,\n",
       "       0., 0., 0., 0., 0., 0., 0., 1., 1., 0., 0., 0., 1., 1.])"
      ]
     },
     "execution_count": 13,
     "metadata": {},
     "output_type": "execute_result"
    }
   ],
   "source": [
    "# An empty array.\n",
    "tosses = np.array([])\n",
    "\n",
    "for i in np.arange(1000):\n",
    "    tosses = np.append(tosses, np.random.randint(2))\n",
    "\n",
    "tosses"
   ]
  },
  {
   "cell_type": "markdown",
   "metadata": {},
   "source": [
    "### Example: Number of Heads in 100 Tosses ###\n",
    "\n",
    "It is natural to expect that in 100 tosses of a coin, there will be 50\n",
    "heads, give or take a few.\n",
    "\n",
    "But how many is \"a few\"? What's the chance of getting exactly 50\n",
    "heads? Questions like these matter in data science not only because\n",
    "they are about interesting aspects of randomness, but also because\n",
    "they can be used in analyzing experiments where assignments to\n",
    "treatment and control groups are decided by the toss of a coin.\n",
    "\n",
    "In this example we will simulate 10,000 repetitions of the following\n",
    "experiment:\n",
    "\n",
    "- Toss a coin 100 times and record the number of heads.\n",
    "\n",
    "The histogram of our results will give us some insight into how many\n",
    "heads are likely."
   ]
  },
  {
   "cell_type": "markdown",
   "metadata": {},
   "source": [
    "As y'all have already seen, `np.randint` can take a `size` argument, to return an array of random integers:"
   ]
  },
  {
   "cell_type": "code",
   "execution_count": 14,
   "metadata": {},
   "outputs": [
    {
     "data": {
      "text/plain": [
       "array([1, 1, 0, 0, 1, 0, 1, 1, 1, 1])"
      ]
     },
     "execution_count": 14,
     "metadata": {},
     "output_type": "execute_result"
    }
   ],
   "source": [
    "np.random.randint(2, size=10)"
   ]
  },
  {
   "cell_type": "markdown",
   "metadata": {},
   "source": [
    "Now let's study 100 tosses. We will start by creating an empty array\n",
    "called `heads`. Then, in each of the 10,000 repetitions, we will toss\n",
    "a coin 100 times, count the number of heads, and append it to `heads`."
   ]
  },
  {
   "cell_type": "code",
   "execution_count": 15,
   "metadata": {},
   "outputs": [
    {
     "data": {
      "text/plain": [
       "array([45., 50., 44., ..., 49., 45., 52.])"
      ]
     },
     "execution_count": 15,
     "metadata": {},
     "output_type": "execute_result"
    }
   ],
   "source": [
    "N = 10000\n",
    "\n",
    "head_counts = np.array([])\n",
    "\n",
    "for i in np.arange(N):\n",
    "    tosses = np.random.randint(2, size=100)\n",
    "    n_heads = np.sum(tosses)\n",
    "    head_counts = np.append(head_counts, n_heads)\n",
    "\n",
    "head_counts"
   ]
  },
  {
   "cell_type": "markdown",
   "metadata": {},
   "source": [
    "Here is a histogram of the data, with bins of width 1 centered at each\n",
    "value of the number of heads.\n",
    "\n",
    "This is the first time we have used plotting, so please accept this piece of code to initialize the plotting first:"
   ]
  },
  {
   "cell_type": "code",
   "execution_count": 16,
   "metadata": {},
   "outputs": [],
   "source": [
    "# Please don't worry about this bit of code for now.\n",
    "# It sets up plotting in the notebook.\n",
    "import matplotlib.pyplot as plt\n",
    "%matplotlib inline\n",
    "# Fancy plots\n",
    "plt.style.use('fivethirtyeight')"
   ]
  },
  {
   "cell_type": "markdown",
   "metadata": {},
   "source": [
    "Now we do the histogram:"
   ]
  },
  {
   "cell_type": "code",
   "execution_count": 17,
   "metadata": {},
   "outputs": [
    {
     "data": {
      "image/png": "[encoded data removed]",
      "text/plain": [
       "<Figure size 432x288 with 1 Axes>"
      ]
     },
     "metadata": {
      "needs_background": "light"
     },
     "output_type": "display_data"
    }
   ],
   "source": [
    "# Again, don't worry about the details here.\n",
    "plt.hist(head_counts, bins=np.arange(30.5, 69.6, 1));"
   ]
  },
  {
   "cell_type": "markdown",
   "metadata": {},
   "source": [
    "Not surprisingly, the histogram looks roughly symmetric around 50\n",
    "heads. The height of the bar at 50 is about 8% per unit. Since each\n",
    "bin is 1 unit wide, this is the same as saying that about 8% of the\n",
    "repetitions produced exactly 50 heads. That's not a huge percent, but\n",
    "it's the largest compared to the percent at every other number of\n",
    "heads.\n",
    "\n",
    "The histogram also shows that in almost all of the repetitions, the\n",
    "number of heads in 100 tosses was somewhere between 35 and 65. Indeed,\n",
    "the bulk of the repetitions produced numbers of heads in the range 45\n",
    "to 55.\n",
    "\n",
    "While in theory it is *possible* that the number of heads can be\n",
    "anywhere between 0 and 100, the simulation shows that the range of\n",
    "*probable* values is much smaller.\n",
    "\n",
    "This is an instance of a more general phenomenon about the variability\n",
    "in coin tossing, as we will see later in the course.\n",
    "\n",
    "Now see [the for loop exercises](../exercises/for_loops).\n",
    "\n",
    "{% data8page Iteration %}"
   ]
  }
 ],
 "metadata": {
  "kernelspec": {
   "display_name": "Python 3",
   "language": "python",
   "name": "python3"
  },
  "language_info": {
   "codemirror_mode": {
    "name": "ipython",
    "version": 3
   },
   "file_extension": ".py",
   "mimetype": "text/x-python",
   "name": "python",
   "nbconvert_exporter": "python",
   "pygments_lexer": "ipython3",
   "version": "3.7.1"
  }
 },
 "nbformat": 4,
 "nbformat_minor": 2
}
