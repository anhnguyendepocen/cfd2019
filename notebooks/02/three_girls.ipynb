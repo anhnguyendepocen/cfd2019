{
 "cells": [
  {
   "cell_type": "code",
   "execution_count": 2,
   "metadata": {},
   "outputs": [],
   "source": [
    "# HIDDEN\n",
    "# The standard set of libraries we need\n",
    "import numpy as np\n",
    "import matplotlib.pyplot as plt\n",
    "%matplotlib inline\n",
    "\n",
    "# Make plots look a little bit more fancy\n",
    "plt.style.use('fivethirtyeight')"
   ]
  },
  {
   "cell_type": "markdown",
   "metadata": {},
   "source": [
    "# A simpler problem\n",
    "\n",
    "Imagine a family with four children.\n",
    "\n",
    "What is the probability that the family will have exactly three girls?\n",
    "\n",
    "There are various ways to answer this question.  One way, is to use\n",
    "*simulation*.\n",
    "\n",
    "Simulation makes a *model* of the problem.  We use the model to generate\n",
    "*simulated* data.  If the model is a good one, the simulated data should look\n",
    "like the real data.\n",
    "\n",
    "First we need to simulate a family of four children.\n",
    "\n",
    "Then we need to count the number of girls.\n",
    "\n",
    "We do this many many times, and see how often we get a count of 3."
   ]
  },
  {
   "cell_type": "code",
   "execution_count": 13,
   "metadata": {},
   "outputs": [
    {
     "data": {
      "text/plain": [
       "0.485136637823122"
      ]
     },
     "execution_count": 13,
     "metadata": {},
     "output_type": "execute_result"
    }
   ],
   "source": [
    "np.random.uniform()"
   ]
  },
  {
   "cell_type": "markdown",
   "metadata": {},
   "source": [
    "As we will soon see, we are using a *call expression* here.  `np.random.uniform()` *calls* the function, and returns a random number, between 0 and 1."
   ]
  },
  {
   "cell_type": "markdown",
   "metadata": {},
   "source": [
    "It's inconvenient to have to run this cell many times.   We really need some machinery to make the computer do that for us.  We need *expressions*, *names*, *call expressions, *comparisons* and *arrays*.  We will deal with those next."
   ]
  }
 ],
 "metadata": {
  "jupytext": {
   "formats": "Rmd:rmarkdown,ipynb",
   "text_representation": {
    "extension": ".Rmd",
    "format_name": "rmarkdown",
    "format_version": "1.0"
   }
  },
  "kernelspec": {
   "display_name": "Python 3",
   "language": "python",
   "name": "python3"
  },
  "language_info": {
   "codemirror_mode": {
    "name": "ipython",
    "version": 3
   },
   "file_extension": ".py",
   "mimetype": "text/x-python",
   "name": "python",
   "nbconvert_exporter": "python",
   "pygments_lexer": "ipython3",
   "version": "3.6.5"
  }
 },
 "nbformat": 4,
 "nbformat_minor": 2
}
