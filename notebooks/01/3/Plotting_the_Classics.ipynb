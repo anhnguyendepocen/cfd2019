{
 "cells": [
  {
   "cell_type": "code",
   "execution_count": 1,
   "metadata": {},
   "outputs": [],
   "source": [
    "# HIDDEN\n",
    "# The standard set of libraries we need\n",
    "import numpy as np\n",
    "import matplotlib.pyplot as plt\n",
    "%matplotlib inline\n",
    "\n",
    "# Make plots look a little bit more fancy\n",
    "plt.style.use('fivethirtyeight')\n",
    "\n",
    "# The standard library for data in tables\n",
    "import pandas as pd\n",
    "\n",
    "# A tiny function to read a file directly from a URL\n",
    "from urllib.request import urlopen\n",
    "\n",
    "def read_url(url):\n",
    "    return urlopen(url).read().decode()"
   ]
  },
  {
   "cell_type": "markdown",
   "metadata": {},
   "source": [
    "This page is largely derived from `Plotting_the_Classics` of the UC Berkeley\n",
    "course \\- see the license file on the main website.\n",
    "\n",
    "In this example, we will explore statistics for: *Alice's Adventures in\n",
    "Wonderland* by Lewis Carroll.  The text of any book can be read by a computer\n",
    "at great speed.  Books published before 1923 are currently in the *public\n",
    "domain*, meaning that everyone has the right to copy or use the text in any\n",
    "way. [Project Gutenberg](http://www.gutenberg.org/) is a website that\n",
    "publishes public domain books online. Using Python, we can load the text of\n",
    "these books directly from the web.\n",
    "\n",
    "This example is meant to illustrate some of the broad themes of this text.\n",
    "Don't worry if the details of the program don't yet make sense. Instead, focus\n",
    "on interpreting the images generated below. Later sections of the text will\n",
    "describe most of the features of the Python programming language used below.\n",
    "\n",
    "First, we read the text of of the book into the memory of the computer."
   ]
  },
  {
   "cell_type": "code",
   "execution_count": 2,
   "metadata": {},
   "outputs": [],
   "source": [
    "# Get the text for Alice in Wonderland\n",
    "alice_url = 'https://www.gutenberg.org/files/11/11-0.txt'\n",
    "alice_text = read_url(alice_url)"
   ]
  },
  {
   "cell_type": "markdown",
   "metadata": {},
   "source": [
    "On the last line, Python gets the text of the book (`read_url(alice_url)`) and\n",
    "gives it a name (`alice_text`). In Python, a name cannot contain any spaces,\n",
    "and so we will often use an underscore `_` to stand in for a space. The `=` in\n",
    "gives a name (on the left) to the result of some computation\n",
    "described on the right.\n",
    "\n",
    "A *uniform resource locator* or *URL* is an address on the Internet for some\n",
    "content; in this case, the text of a book. The `#` symbol starts a comment,\n",
    "which is ignored by the computer but helpful for people reading the code.\n",
    "\n",
    "Now we have the text attached to the name `alice_text`, we can ask Python to\n",
    "show us how the text starts:"
   ]
  },
  {
   "cell_type": "code",
   "execution_count": 3,
   "metadata": {},
   "outputs": [
    {
     "name": "stdout",
     "output_type": "stream",
     "text": [
      "﻿Project Gutenberg’s Alice’s Adventures in Wonderland, by Lewis Carroll\r\n",
      "\r\n",
      "This eBook is for the use of anyone anywhere at no cost and with\r\n",
      "almost no restrictions whatsoever.  You may copy it, give it away or\r\n",
      "re-use it under the terms of the Project Gutenberg License included\r\n",
      "with this eBook or online at www.gutenberg.org\r\n",
      "\r\n",
      "\r\n",
      "Title: Alice’s Adventures in Wonderland\r\n",
      "\r\n",
      "Author: Lewis Carroll\r\n",
      "\r\n",
      "Posting Date: June 25, 2008 [EBook #11]\r\n",
      "Release Date: March, 1994\r\n",
      "Last Updated: October 6, 2016\r\n",
      "\r\n"
     ]
    }
   ],
   "source": [
    "# Show the first 500 characters of the text\n",
    "print(alice_text[:500])"
   ]
  },
  {
   "cell_type": "markdown",
   "metadata": {},
   "source": [
    "You might want to check this is the same as the text you see by opening the\n",
    "URL in your browser:\n",
    "[https://www.gutenberg.org/files/11/11-0.txt](https://www.gutenberg.org/files/11/11-0.txt)."
   ]
  },
  {
   "cell_type": "markdown",
   "metadata": {},
   "source": [
    "Now we have the text in memory, we can start to analyze it.  First we break\n",
    "the text into chapters.  Don't worry about the details of the code, we will\n",
    "cover these in the rest of the course."
   ]
  },
  {
   "cell_type": "code",
   "execution_count": 4,
   "metadata": {},
   "outputs": [],
   "source": [
    "# Break the text into Chapters\n",
    "alice_chapters = alice_text.split('CHAPTER ')\n",
    "# Drop the first \"Chapter\" - it's the Project Gutenberg header\n",
    "alice_chapters = alice_chapters[1:]"
   ]
  },
  {
   "cell_type": "markdown",
   "metadata": {},
   "source": [
    "We can show the first half-line or so for each chapter, by putting the\n",
    "chapters into a *table*.  You will see these tables or *data frames* many\n",
    "times during this course."
   ]
  },
  {
   "cell_type": "code",
   "execution_count": 5,
   "metadata": {},
   "outputs": [
    {
     "data": {
      "text/html": [
       "<div>\n",
       "<style scoped>\n",
       "    .dataframe tbody tr th:only-of-type {\n",
       "        vertical-align: middle;\n",
       "    }\n",
       "\n",
       "    .dataframe tbody tr th {\n",
       "        vertical-align: top;\n",
       "    }\n",
       "\n",
       "    .dataframe thead th {\n",
       "        text-align: right;\n",
       "    }\n",
       "</style>\n",
       "<table border=\"1\" class=\"dataframe\">\n",
       "  <thead>\n",
       "    <tr style=\"text-align: right;\">\n",
       "      <th></th>\n",
       "      <th>Chapters</th>\n",
       "    </tr>\n",
       "  </thead>\n",
       "  <tbody>\n",
       "    <tr>\n",
       "      <th>0</th>\n",
       "      <td>I. Down the Rabbit-Hole\\r\\n\\r\\nAlice was begin...</td>\n",
       "    </tr>\n",
       "    <tr>\n",
       "      <th>1</th>\n",
       "      <td>II. The Pool of Tears\\r\\n\\r\\n‘Curiouser and cu...</td>\n",
       "    </tr>\n",
       "    <tr>\n",
       "      <th>2</th>\n",
       "      <td>III. A Caucus-Race and a Long Tale\\r\\n\\r\\nThey...</td>\n",
       "    </tr>\n",
       "    <tr>\n",
       "      <th>3</th>\n",
       "      <td>IV. The Rabbit Sends in a Little Bill\\r\\n\\r\\nI...</td>\n",
       "    </tr>\n",
       "    <tr>\n",
       "      <th>4</th>\n",
       "      <td>V. Advice from a Caterpillar\\r\\n\\r\\nThe Caterp...</td>\n",
       "    </tr>\n",
       "    <tr>\n",
       "      <th>5</th>\n",
       "      <td>VI. Pig and Pepper\\r\\n\\r\\nFor a minute or two ...</td>\n",
       "    </tr>\n",
       "    <tr>\n",
       "      <th>6</th>\n",
       "      <td>VII. A Mad Tea-Party\\r\\n\\r\\nThere was a table ...</td>\n",
       "    </tr>\n",
       "    <tr>\n",
       "      <th>7</th>\n",
       "      <td>VIII. The Queen’s Croquet-Ground\\r\\n\\r\\nA larg...</td>\n",
       "    </tr>\n",
       "    <tr>\n",
       "      <th>8</th>\n",
       "      <td>IX. The Mock Turtle’s Story\\r\\n\\r\\n‘You can’t ...</td>\n",
       "    </tr>\n",
       "    <tr>\n",
       "      <th>9</th>\n",
       "      <td>X. The Lobster Quadrille\\r\\n\\r\\nThe Mock Turtl...</td>\n",
       "    </tr>\n",
       "    <tr>\n",
       "      <th>10</th>\n",
       "      <td>XI. Who Stole the Tarts?\\r\\n\\r\\nThe King and Q...</td>\n",
       "    </tr>\n",
       "    <tr>\n",
       "      <th>11</th>\n",
       "      <td>XII. Alice’s Evidence\\r\\n\\r\\n\\r\\n‘Here!’ cried...</td>\n",
       "    </tr>\n",
       "  </tbody>\n",
       "</table>\n",
       "</div>"
      ],
      "text/plain": [
       "                                             Chapters\n",
       "0   I. Down the Rabbit-Hole\\r\\n\\r\\nAlice was begin...\n",
       "1   II. The Pool of Tears\\r\\n\\r\\n‘Curiouser and cu...\n",
       "2   III. A Caucus-Race and a Long Tale\\r\\n\\r\\nThey...\n",
       "3   IV. The Rabbit Sends in a Little Bill\\r\\n\\r\\nI...\n",
       "4   V. Advice from a Caterpillar\\r\\n\\r\\nThe Caterp...\n",
       "5   VI. Pig and Pepper\\r\\n\\r\\nFor a minute or two ...\n",
       "6   VII. A Mad Tea-Party\\r\\n\\r\\nThere was a table ...\n",
       "7   VIII. The Queen’s Croquet-Ground\\r\\n\\r\\nA larg...\n",
       "8   IX. The Mock Turtle’s Story\\r\\n\\r\\n‘You can’t ...\n",
       "9   X. The Lobster Quadrille\\r\\n\\r\\nThe Mock Turtl...\n",
       "10  XI. Who Stole the Tarts?\\r\\n\\r\\nThe King and Q...\n",
       "11  XII. Alice’s Evidence\\r\\n\\r\\n\\r\\n‘Here!’ cried..."
      ]
     },
     "execution_count": 5,
     "metadata": {},
     "output_type": "execute_result"
    }
   ],
   "source": [
    "# Show the first few words of each chapter in a table.\n",
    "pd.DataFrame(alice_chapters, columns=['Chapters'])"
   ]
  }
 ],
 "metadata": {
  "jupytext_format_version": "1.0",
  "jupytext_formats": "Rmd:rmarkdown",
  "kernelspec": {
   "display_name": "Python 3",
   "language": "python",
   "name": "python3"
  },
  "language_info": {
   "codemirror_mode": {
    "name": "ipython",
    "version": 3
   },
   "file_extension": ".py",
   "mimetype": "text/x-python",
   "name": "python",
   "nbconvert_exporter": "python",
   "pygments_lexer": "ipython3",
   "version": "3.6.5"
  }
 },
 "nbformat": 4,
 "nbformat_minor": 2
}
