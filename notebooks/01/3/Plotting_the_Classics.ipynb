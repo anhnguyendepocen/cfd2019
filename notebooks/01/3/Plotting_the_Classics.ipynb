{
 "cells": [
  {
   "cell_type": "code",
   "execution_count": null,
   "metadata": {},
   "outputs": [],
   "source": [
    "# HIDDEN\n",
    "# The standard set of libraries we need\n",
    "import numpy as np\n",
    "import matplotlib.pyplot as plt\n",
    "%matplotlib inline\n",
    "\n",
    "# Make plots look a little bit more fancy\n",
    "plt.style.use('fivethirtyeight')\n",
    "\n",
    "# The standard library for data in tables\n",
    "import pandas as pd\n",
    "\n",
    "# A tiny function to read a file directly from a URL\n",
    "from urllib.request import urlopen\n",
    "\n",
    "def read_url(url):\n",
    "    return urlopen(url).read().decode()"
   ]
  },
  {
   "cell_type": "markdown",
   "metadata": {},
   "source": [
    "In this example, we will explore statistics for: *Alice's Adventures in\n",
    "Wonderland* by Lewis Carroll.  The text of any book can be read by a computer\n",
    "at great speed.  Books published before 1923 are currently in the *public\n",
    "domain*, meaning that everyone has the right to copy or use the text in any\n",
    "way. [Project Gutenberg](http://www.gutenberg.org/) is a website that\n",
    "publishes public domain books online. Using Python, we can load the text of\n",
    "these books directly from the web.\n",
    "\n",
    "This example is meant to illustrate some of the broad themes of this text.\n",
    "Don't worry if the details of the program don't yet make sense. Instead, focus\n",
    "on interpreting the images generated below. Later sections of the text will\n",
    "describe most of the features of the Python programming language used below.\n",
    "\n",
    "First, we read the text of of the book into the memory of the computer."
   ]
  },
  {
   "cell_type": "code",
   "execution_count": null,
   "metadata": {},
   "outputs": [],
   "source": [
    "# Get the text for Alice in Wonderland\n",
    "alice_url = 'https://www.gutenberg.org/files/11/11-0.txt'\n",
    "alice_text = read_url(alice_url)"
   ]
  },
  {
   "cell_type": "markdown",
   "metadata": {},
   "source": [
    "On the last line, Python gets the text of the book (`read_url(alice_url)`) and\n",
    "gives it a name (`alice_text`). In Python, a name cannot contain any spaces,\n",
    "and so we will often use an underscore `_` to stand in for a space. The `=` in\n",
    "gives a name (on the left) to the result of some computation\n",
    "described on the right.\n",
    "\n",
    "A *uniform resource locator* or *URL* is an address on the Internet for some\n",
    "content; in this case, the text of a book. The `#` symbol starts a comment,\n",
    "which is ignored by the computer but helpful for people reading the code.\n",
    "\n",
    "Now we have the text attached to the name `alice_text`, we can ask Python to\n",
    "show us how the text starts:"
   ]
  },
  {
   "cell_type": "code",
   "execution_count": null,
   "metadata": {},
   "outputs": [],
   "source": [
    "# Show the first 500 characters of the text\n",
    "print(alice_text[:500])"
   ]
  },
  {
   "cell_type": "markdown",
   "metadata": {},
   "source": [
    "You might want to check this is the same as the text you see by opening the\n",
    "URL in your browser:\n",
    "[https://www.gutenberg.org/files/11/11-0.txt](https://www.gutenberg.org/files/11/11-0.txt)."
   ]
  },
  {
   "cell_type": "markdown",
   "metadata": {},
   "source": [
    "Now we have the text in memory, we can start to analyze it.  First we break\n",
    "the text into chapters.  Don't worry about the details of the code, we will\n",
    "cover these in the rest of the course."
   ]
  },
  {
   "cell_type": "code",
   "execution_count": null,
   "metadata": {},
   "outputs": [],
   "source": [
    "# Break the text into Chapters\n",
    "alice_chapters = alice_text.split('CHAPTER ')\n",
    "# Drop the first \"Chapter\" - it's the Project Gutenberg header\n",
    "alice_chapters = alice_chapters[1:]"
   ]
  },
  {
   "cell_type": "markdown",
   "metadata": {},
   "source": [
    "We can show the first half-line or so for each chapter, by putting the\n",
    "chapters into a *table*.  You will see these tables or *data frames* many\n",
    "times during this course."
   ]
  },
  {
   "cell_type": "code",
   "execution_count": null,
   "metadata": {},
   "outputs": [],
   "source": [
    "# Show the first few words of each chapter in a table.\n",
    "pd.DataFrame(alice_chapters, columns=['Chapters'])"
   ]
  }
 ],
 "metadata": {
  "jupytext_format_version": "1.0",
  "jupytext_formats": "Rmd:rmarkdown",
  "kernelspec": {
   "display_name": "Python 3",
   "language": "python",
   "name": "python3"
  },
  "language_info": {
   "codemirror_mode": {
    "name": "ipython",
    "version": 3
   },
   "file_extension": ".py",
   "mimetype": "text/x-python",
   "name": "python",
   "nbconvert_exporter": "python",
   "pygments_lexer": "ipython3",
   "version": "3.6.5"
  }
 },
 "nbformat": 4,
 "nbformat_minor": 2
}
