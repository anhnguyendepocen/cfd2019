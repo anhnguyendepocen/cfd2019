{
 "cells": [
  {
   "cell_type": "code",
   "execution_count": 1,
   "metadata": {},
   "outputs": [],
   "source": [
    "# HIDDEN\n",
    "# The standard set of libraries we need\n",
    "import numpy as np\n",
    "import matplotlib.pyplot as plt\n",
    "%matplotlib inline\n",
    "\n",
    "# Make plots look a little bit more fancy\n",
    "plt.style.use('fivethirtyeight')\n",
    "\n",
    "# The standard library for data in tables\n",
    "import pandas as pd\n",
    "\n",
    "# A tiny function to read a file directly from a URL\n",
    "from urllib.request import urlopen\n",
    "\n",
    "def read_url(url):\n",
    "    return urlopen(url).read().decode()"
   ]
  },
  {
   "cell_type": "markdown",
   "metadata": {},
   "source": [
    "This page is largely derived from `Another_Kind_Of_Character` of the UC\n",
    "Berkeley course \\- see the [license](./license) file."
   ]
  },
  {
   "cell_type": "code",
   "execution_count": 2,
   "metadata": {},
   "outputs": [],
   "source": [
    "# HIDDEN\n",
    "# Read the text of Alice, split into chapters.\n",
    "alice_url = 'https://www.gutenberg.org/files/11/11-0.txt'\n",
    "alice_text = read_url(alice_url)\n",
    "# Break the text into Chapters\n",
    "alice_chapters = alice_text.split('CHAPTER ')\n",
    "# Drop the first \"Chapter\" - it's the Project Gutenberg header\n",
    "alice_chapters = alice_chapters[1:]"
   ]
  },
  {
   "cell_type": "markdown",
   "metadata": {},
   "source": [
    "In some situations, the relationships between quantities allow us to make\n",
    "predictions. This text will explore how to make accurate predictions based on\n",
    "incomplete information and develop methods for combining multiple sources of\n",
    "uncertain information to make decisions.\n",
    "\n",
    "As an example of visualizing information derived from multiple sources, let us\n",
    "first use the computer to get some information that would be tedious to\n",
    "acquire by hand. In the context of novels, the word \"character\" has a second\n",
    "meaning: a printed symbol such as a letter or number or punctuation symbol.\n",
    "Here, we ask the computer to count the number of characters and the number of\n",
    "periods in each chapter of *Alice's Adventures in Wonderland*."
   ]
  },
  {
   "cell_type": "code",
   "execution_count": 3,
   "metadata": {},
   "outputs": [],
   "source": [
    "# In each chapter, count the number of all characters;\n",
    "# Also count the number of periods.\n",
    "chars_periods = pd.DataFrame.from_dict({\n",
    "        'Number of chars in chapter': [len(s) for s in alice_chapters],\n",
    "        'Number of periods': np.char.count(alice_chapters, '.')\n",
    "    })"
   ]
  },
  {
   "cell_type": "markdown",
   "metadata": {},
   "source": [
    "Here are the data. Each row of the table corresponds to one chapter of the\n",
    "novel and displays the number of characters as well as the number of periods\n",
    "in the chapter. Not surprisingly, chapters with fewer characters also tend to\n",
    "have fewer periods, in general – the shorter the chapter, the fewer sentences\n",
    "there tend to be, and vice versa. The relation is not entirely predictable,\n",
    "however, as sentences are of varying lengths and can involve other punctuation\n",
    "such as question marks."
   ]
  },
  {
   "cell_type": "code",
   "execution_count": 4,
   "metadata": {},
   "outputs": [
    {
     "data": {
      "text/html": [
       "<div>\n",
       "<style scoped>\n",
       "    .dataframe tbody tr th:only-of-type {\n",
       "        vertical-align: middle;\n",
       "    }\n",
       "\n",
       "    .dataframe tbody tr th {\n",
       "        vertical-align: top;\n",
       "    }\n",
       "\n",
       "    .dataframe thead th {\n",
       "        text-align: right;\n",
       "    }\n",
       "</style>\n",
       "<table border=\"1\" class=\"dataframe\">\n",
       "  <thead>\n",
       "    <tr style=\"text-align: right;\">\n",
       "      <th></th>\n",
       "      <th>Number of chars in chapter</th>\n",
       "      <th>Number of periods</th>\n",
       "    </tr>\n",
       "  </thead>\n",
       "  <tbody>\n",
       "    <tr>\n",
       "      <th>0</th>\n",
       "      <td>11664</td>\n",
       "      <td>44</td>\n",
       "    </tr>\n",
       "    <tr>\n",
       "      <th>1</th>\n",
       "      <td>11189</td>\n",
       "      <td>46</td>\n",
       "    </tr>\n",
       "    <tr>\n",
       "      <th>2</th>\n",
       "      <td>9798</td>\n",
       "      <td>63</td>\n",
       "    </tr>\n",
       "    <tr>\n",
       "      <th>3</th>\n",
       "      <td>14131</td>\n",
       "      <td>58</td>\n",
       "    </tr>\n",
       "    <tr>\n",
       "      <th>4</th>\n",
       "      <td>12281</td>\n",
       "      <td>74</td>\n",
       "    </tr>\n",
       "    <tr>\n",
       "      <th>5</th>\n",
       "      <td>14176</td>\n",
       "      <td>111</td>\n",
       "    </tr>\n",
       "    <tr>\n",
       "      <th>6</th>\n",
       "      <td>13026</td>\n",
       "      <td>122</td>\n",
       "    </tr>\n",
       "    <tr>\n",
       "      <th>7</th>\n",
       "      <td>13958</td>\n",
       "      <td>86</td>\n",
       "    </tr>\n",
       "    <tr>\n",
       "      <th>8</th>\n",
       "      <td>12934</td>\n",
       "      <td>113</td>\n",
       "    </tr>\n",
       "    <tr>\n",
       "      <th>9</th>\n",
       "      <td>11828</td>\n",
       "      <td>93</td>\n",
       "    </tr>\n",
       "    <tr>\n",
       "      <th>10</th>\n",
       "      <td>10637</td>\n",
       "      <td>92</td>\n",
       "    </tr>\n",
       "    <tr>\n",
       "      <th>11</th>\n",
       "      <td>31083</td>\n",
       "      <td>300</td>\n",
       "    </tr>\n",
       "  </tbody>\n",
       "</table>\n",
       "</div>"
      ],
      "text/plain": [
       "    Number of chars in chapter  Number of periods\n",
       "0                        11664                 44\n",
       "1                        11189                 46\n",
       "2                         9798                 63\n",
       "3                        14131                 58\n",
       "4                        12281                 74\n",
       "5                        14176                111\n",
       "6                        13026                122\n",
       "7                        13958                 86\n",
       "8                        12934                113\n",
       "9                        11828                 93\n",
       "10                       10637                 92\n",
       "11                       31083                300"
      ]
     },
     "execution_count": 4,
     "metadata": {},
     "output_type": "execute_result"
    }
   ],
   "source": [
    "chars_periods"
   ]
  },
  {
   "cell_type": "markdown",
   "metadata": {},
   "source": [
    "In the plot below, there is a dot for each chapter in the book. The horizontal\n",
    "axis represents the number of periods and the vertical axis represents the\n",
    "number of characters."
   ]
  },
  {
   "cell_type": "code",
   "execution_count": 5,
   "metadata": {},
   "outputs": [
    {
     "data": {
      "text/plain": [
       "<matplotlib.collections.PathCollection at 0x115c8b128>"
      ]
     },
     "execution_count": 5,
     "metadata": {},
     "output_type": "execute_result"
    },
    {
     "data": {
      "image/png": "[encoded data removed]",
      "text/plain": [
       "<Figure size 432x432 with 1 Axes>"
      ]
     },
     "metadata": {},
     "output_type": "display_data"
    }
   ],
   "source": [
    "plt.figure(figsize=(6, 6))\n",
    "plt.scatter(chars_periods['Number of periods'],\n",
    "            chars_periods['Number of chars in chapter'],\n",
    "            color='darkblue')"
   ]
  },
  {
   "cell_type": "markdown",
   "metadata": {},
   "source": [
    "Notice how the blue points are roughly clustered around a straight line.\n",
    "\n",
    "Now look at all the chapters that contain about 100 periods. The plot shows\n",
    "that those chapters contain about 10,000 characters to about 15,000\n",
    "characters, roughly. That's about 100 to 150 characters per period.\n",
    "\n",
    "Indeed, it appears from looking at the plot that the chapters tend to have\n",
    "somewhere between 100 and 150 characters between periods, as a very rough\n",
    "estimate. Perhaps these Lewis Carroll and Alice were announcing something\n",
    "familiar to us now: the original 140-character limit of Twitter."
   ]
  }
 ],
 "metadata": {
  "jupytext_format_version": "1.0",
  "jupytext_formats": "Rmd:rmarkdown",
  "kernelspec": {
   "display_name": "Python 3",
   "language": "python",
   "name": "python3"
  },
  "language_info": {
   "codemirror_mode": {
    "name": "ipython",
    "version": 3
   },
   "file_extension": ".py",
   "mimetype": "text/x-python",
   "name": "python",
   "nbconvert_exporter": "python",
   "pygments_lexer": "ipython3",
   "version": "3.6.5"
  }
 },
 "nbformat": 4,
 "nbformat_minor": 2
}
