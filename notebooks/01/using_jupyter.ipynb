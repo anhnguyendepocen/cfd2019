{
 "cells": [
  {
   "cell_type": "markdown",
   "metadata": {},
   "source": [
    "# Using Jupyter notebooks"
   ]
  },
  {
   "cell_type": "raw",
   "metadata": {},
   "source": [
    "This is a cell.\n",
    "\n",
    "It's a cell with text - a text cell.\n",
    "\n",
    "If you are in the classic Jupyter Notebook interface (rather than reading this in the textbook), you will see the Jupyter Menu near the top of the page, with headings \"File\", \"Edit\" and so on.\n",
    "\n",
    "Underneath that, by default, you may see a row of icons - the \"Toolbar\".\n",
    "\n",
    "In the toolbar, you may see icons to run the current cell, among others."
   ]
  },
  {
   "cell_type": "markdown",
   "metadata": {},
   "source": [
    "This is another text cell.\n",
    "\n",
    "The next cell is a code cell.\n",
    "\n",
    "We are going to use some code "
   ]
  },
  {
   "cell_type": "code",
   "execution_count": 1,
   "metadata": {},
   "outputs": [],
   "source": [
    "# Adding\n",
    "# Multiplying\n",
    "# Dividing\n",
    "# Comments"
   ]
  }
 ],
 "metadata": {
  "jupytext": {
   "split_at_heading": true
  },
  "kernelspec": {
   "display_name": "Python 3",
   "language": "python",
   "name": "python3"
  },
  "language_info": {
   "codemirror_mode": {
    "name": "ipython",
    "version": 3
   },
   "file_extension": ".py",
   "mimetype": "text/x-python",
   "name": "python",
   "nbconvert_exporter": "python",
   "pygments_lexer": "ipython3",
   "version": "3.7.1"
  }
 },
 "nbformat": 4,
 "nbformat_minor": 2
}
