{
 "cells": [
  {
   "cell_type": "markdown",
   "metadata": {},
   "source": [
    "In the [problem for the education minister]({{ site.baseurl\n",
    "}}/chapters/10/havana_math) we had a sample of fast-track-marked exams from\n",
    "2019, and we found that the mean mark was 58.74.  We wondered what we could say\n",
    "about the eventual mean of the marks for all 8000 or so students.\n",
    "\n",
    "After a bit of development, we found, in the [reverse probability with bars]({{\n",
    "site.baseurl }}/chapters/10/bayes_bars) page, that we could use some\n",
    "probability calculations to draw conclusions about the state of the world, from\n",
    "some result.  In that page, we calculated the probability of the state of the\n",
    "world (a box we have been given) from a result (drawing a red ball).\n",
    "\n",
    "Now we want to draw a conclusion about the state of the world (the eventual\n",
    "mean of all the 2019 exams) from a result (the mean of the fast-marked sample\n",
    "of 50 2019 exams).\n",
    "\n",
    "We will call the 50 fast-track-marked exams the *sample*.  When the 2019\n",
    "marking is finished, we will have around 8000 marks.  We will call this the\n",
    "*population*.  We want to draw conclusions about the *population* from the\n",
    "*sample*.   In particular we want to draw conclusions about the population mean\n",
    "from the sample mean.\n",
    "\n",
    "Let us start with the following problem:\n",
    "\n",
    "**Problem 1**: What is the probability that we will observe a *sample* mean of\n",
    "*around* 58.74, given that the *population* mean is 62.25?\n",
    "\n",
    "Referring back to our box and ball problem, this probability is the equivalent\n",
    "of the probability of getting a red ball from a given box.  Given a state of\n",
    "the world (the population mean) what the is the probability of the result (the\n",
    "sample mean).  Once we have probabilities like these, we will be able to use\n",
    "the logic you have already seen to get the *reverse* probability - how likely\n",
    "was any particular state of the world (population mean), given the result (the\n",
    "sample mean).\n",
    "\n",
    "Returning to our mathematics exam problem: how will we calculate the\n",
    "probability of a sample mean of around 58.74, given a population mean of 62.25?\n",
    "\n",
    "As usual, this is a problem of *sampling*.  If the mean of the population is\n",
    "62.25, and we draw a sample of 50 marks, then the mean of the sample will be\n",
    "vary somewhat depending on the sample. That is, the *sample mean* will be 62.25\n",
    "plus or minus a bit.  As usual, we need to quantify what we mean by \"a bit\"."
   ]
  },
  {
   "cell_type": "markdown",
   "metadata": {},
   "source": [
    "For example, remember the population of 2018 marks, that do have a mean of\n",
    "around 62.25."
   ]
  },
  {
   "cell_type": "code",
   "execution_count": 1,
   "metadata": {},
   "outputs": [],
   "source": [
    "import numpy as np\n",
    "# Clean up display of small numbers.\n",
    "np.set_printoptions(precision=4, suppress=True)\n",
    "import pandas as pd\n",
    "import matplotlib.pyplot as plt\n",
    "%matplotlib inline\n",
    "plt.style.use('fivethirtyeight')"
   ]
  },
  {
   "cell_type": "markdown",
   "metadata": {},
   "source": [
    "You can download the 2018 marks from [havana_math_2018.csv]({{ site.baseurl\n",
    "}}/data/havana_math_2018.csv)."
   ]
  },
  {
   "cell_type": "code",
   "execution_count": 2,
   "metadata": {},
   "outputs": [
    {
     "data": {
      "text/plain": [
       "65.25609088420477"
      ]
     },
     "execution_count": 2,
     "metadata": {},
     "output_type": "execute_result"
    }
   ],
   "source": [
    "havana_2018 = pd.read_csv('havana_math_2018.csv')\n",
    "# Drop missing marks.\n",
    "marks_2018 = havana_2018['mark'].dropna()\n",
    "mean_2018 = marks_2018.mean()\n",
    "mean_2018"
   ]
  },
  {
   "cell_type": "markdown",
   "metadata": {},
   "source": [
    "This was our sample of 50 marks from the 2019 examinations.  It has a mean of\n",
    "58.74.\n",
    "\n",
    "You can download the sample file from [havana_math_2019_sample.csv]({{\n",
    "site.baseurl }}/data/havana_math_2019_sample.csv)."
   ]
  },
  {
   "cell_type": "code",
   "execution_count": 3,
   "metadata": {},
   "outputs": [
    {
     "data": {
      "text/plain": [
       "58.74"
      ]
     },
     "execution_count": 3,
     "metadata": {},
     "output_type": "execute_result"
    }
   ],
   "source": [
    "havana_2019_sample = pd.read_csv('havana_math_2019_sample.csv')\n",
    "observed_sample_mean = np.mean(havana_2019_sample['mark'])\n",
    "observed_sample_mean"
   ]
  },
  {
   "cell_type": "markdown",
   "metadata": {},
   "source": [
    "To get the *sampling distribution* of the mean of a sample of 50, we would have\n",
    "to calculate the mean for every possible sample of 50 values from the 7300 or\n",
    "so marks.  As usual, we make do with an *estimate* of the sampling distribution\n",
    "by taking many thousands of samples."
   ]
  },
  {
   "cell_type": "code",
   "execution_count": 4,
   "metadata": {},
   "outputs": [
    {
     "data": {
      "text/plain": [
       "array([71.36, 62.3 , 71.7 , 64.46, 67.36])"
      ]
     },
     "execution_count": 4,
     "metadata": {},
     "output_type": "execute_result"
    }
   ],
   "source": [
    "# Take 100000 samples, calculate their means.\n",
    "n_samples = 100000\n",
    "sample_means = np.zeros(n_samples)\n",
    "for i in np.arange(n_samples):\n",
    "    sample = np.random.choice(marks_2018, size=50, replace=False)\n",
    "    sample_means[i] = np.mean(sample)\n",
    "sample_means[:5]"
   ]
  },
  {
   "cell_type": "markdown",
   "metadata": {},
   "source": [
    "As expected, the mean of the *sampling distribution* is very close to the mean\n",
    "of the population:"
   ]
  },
  {
   "cell_type": "code",
   "execution_count": 5,
   "metadata": {},
   "outputs": [
    {
     "data": {
      "text/plain": [
       "65.25597699999999"
      ]
     },
     "execution_count": 5,
     "metadata": {},
     "output_type": "execute_result"
    }
   ],
   "source": [
    "np.mean(sample_means)"
   ]
  },
  {
   "cell_type": "markdown",
   "metadata": {},
   "source": [
    "In what follows, we will ignore the small difference between the mean of the\n",
    "sampling distribution, and the mean of the population.\n",
    "\n",
    "The next cell has a histogram of the sampling distribution.  Notice that we\n",
    "have asked `plt.hist` to break the histogram into bins with *edges*\n",
    "`np.arange(50, 80, 0.5)`.  This means that each bin covers a range of 0.5 units\n",
    "--- so the first bin in the histogram gives the counts of all sample means that\n",
    "were between 50 and 50.5 (excluding 50.5), the second bin covers 50.5 up to\n",
    "(not including) 51, and so on."
   ]
  },
  {
   "cell_type": "code",
   "execution_count": 6,
   "metadata": {},
   "outputs": [
    {
     "data": {
      "image/png": "[encoded data removed]",
      "text/plain": [
       "<Figure size 432x288 with 1 Axes>"
      ]
     },
     "metadata": {
      "needs_background": "light"
     },
     "output_type": "display_data"
    }
   ],
   "source": [
    "bin_edges = np.arange(50, 80, 0.5)\n",
    "plt.hist(sample_means, bins=bin_edges)\n",
    "plt.xlabel('Mean mark for sample of 50')\n",
    "plt.title('Estimated sampling distribution for mean of 50 marks');"
   ]
  },
  {
   "cell_type": "markdown",
   "metadata": {},
   "source": [
    "Notice that the distribution has a very slightly longer left tail.\n",
    "\n",
    "We can use `plt.hist` to give us the counts for each of these bins, by storing\n",
    "the values that `plt.hist` returns, like this:"
   ]
  },
  {
   "cell_type": "code",
   "execution_count": 7,
   "metadata": {},
   "outputs": [
    {
     "data": {
      "text/plain": [
       "array([   2.,    3.,   12.,   10.,   16.,   21.,   54.,   56.,   80.,\n",
       "        132.,  152.,  222.,  327.,  406.,  585.,  731.,  956., 1167.,\n",
       "       1428., 1889., 2155., 2634., 3027., 3236., 3806., 4107., 4481.,\n",
       "       4939., 4935., 5287., 5253., 5188., 5174., 4946., 4639., 4291.,\n",
       "       3875., 3523., 3188., 2672., 2283., 1817., 1587., 1201.,  961.,\n",
       "        722.,  541.,  421.,  273.,  189.,  131.,  107.,   61.,   41.,\n",
       "         23.,   10.,   11.,    6.,    3.])"
      ]
     },
     "execution_count": 7,
     "metadata": {},
     "output_type": "execute_result"
    },
    {
     "data": {
      "image/png": "[encoded data removed]",
      "text/plain": [
       "<Figure size 432x288 with 1 Axes>"
      ]
     },
     "metadata": {
      "needs_background": "light"
     },
     "output_type": "display_data"
    }
   ],
   "source": [
    "# Store the values that plt.hist returns.\n",
    "hist_vals = plt.hist(sample_means, bins=bin_edges)\n",
    "# Counts per bin is the first returned value.\n",
    "counts = hist_vals[0]\n",
    "counts"
   ]
  },
  {
   "cell_type": "markdown",
   "metadata": {},
   "source": [
    "As we saw in the page on [using minimize]({{ site.baseurl\n",
    "}}/chapters/08/using_minimize#unpacking), we can get this value a little more\n",
    "neatly by *unpacking* the return values from `plt.hist`, like this:"
   ]
  },
  {
   "cell_type": "code",
   "execution_count": 8,
   "metadata": {},
   "outputs": [
    {
     "data": {
      "text/plain": [
       "array([   2.,    3.,   12.,   10.,   16.,   21.,   54.,   56.,   80.,\n",
       "        132.,  152.,  222.,  327.,  406.,  585.,  731.,  956., 1167.,\n",
       "       1428., 1889., 2155., 2634., 3027., 3236., 3806., 4107., 4481.,\n",
       "       4939., 4935., 5287., 5253., 5188., 5174., 4946., 4639., 4291.,\n",
       "       3875., 3523., 3188., 2672., 2283., 1817., 1587., 1201.,  961.,\n",
       "        722.,  541.,  421.,  273.,  189.,  131.,  107.,   61.,   41.,\n",
       "         23.,   10.,   11.,    6.,    3.])"
      ]
     },
     "execution_count": 8,
     "metadata": {},
     "output_type": "execute_result"
    },
    {
     "data": {
      "image/png": "[encoded data removed]",
      "text/plain": [
       "<Figure size 432x288 with 1 Axes>"
      ]
     },
     "metadata": {
      "needs_background": "light"
     },
     "output_type": "display_data"
    }
   ],
   "source": [
    "# Store the values that plt.hist returns.\n",
    "# We will only use the first of these.\n",
    "counts, edges, patches = plt.hist(sample_means, bins=bin_edges)\n",
    "# Counts per bin (again):\n",
    "counts"
   ]
  },
  {
   "cell_type": "markdown",
   "metadata": {},
   "source": [
    "If we show the counts as a bar graph, it is the same as the histogram, because\n",
    "it is using the same values.  We use the bin centers instead of the bin edges\n",
    "for the x axis, as the histogram routine does, internally."
   ]
  },
  {
   "cell_type": "code",
   "execution_count": 9,
   "metadata": {},
   "outputs": [
    {
     "data": {
      "text/plain": [
       "array([50.25, 50.75, 51.25, 51.75, 52.25, 52.75, 53.25, 53.75, 54.25,\n",
       "       54.75, 55.25, 55.75, 56.25, 56.75, 57.25, 57.75, 58.25, 58.75,\n",
       "       59.25, 59.75, 60.25, 60.75, 61.25, 61.75, 62.25, 62.75, 63.25,\n",
       "       63.75, 64.25, 64.75, 65.25, 65.75, 66.25, 66.75, 67.25, 67.75,\n",
       "       68.25, 68.75, 69.25, 69.75, 70.25, 70.75, 71.25, 71.75, 72.25,\n",
       "       72.75, 73.25, 73.75, 74.25, 74.75, 75.25, 75.75, 76.25, 76.75,\n",
       "       77.25, 77.75, 78.25, 78.75, 79.25])"
      ]
     },
     "execution_count": 9,
     "metadata": {},
     "output_type": "execute_result"
    }
   ],
   "source": [
    "# Get bin centers by dropping the right hand edge, add half bin width.\n",
    "bin_centers = bin_edges[:-1] + 0.25\n",
    "bin_centers"
   ]
  },
  {
   "cell_type": "code",
   "execution_count": 10,
   "metadata": {},
   "outputs": [
    {
     "data": {
      "image/png": "[encoded data removed]",
      "text/plain": [
       "<Figure size 432x288 with 1 Axes>"
      ]
     },
     "metadata": {
      "needs_background": "light"
     },
     "output_type": "display_data"
    }
   ],
   "source": [
    "plt.bar(bin_centers, counts)\n",
    "plt.title('Replicate sampling distribution using counts');"
   ]
  },
  {
   "cell_type": "markdown",
   "metadata": {},
   "source": [
    "For each bin, `counts` gives the count of the 10000 samples we took had a mean\n",
    "between the bin edges.  For example, the center of the bin at index 20 is:"
   ]
  },
  {
   "cell_type": "code",
   "execution_count": 11,
   "metadata": {},
   "outputs": [
    {
     "data": {
      "text/plain": [
       "60.25"
      ]
     },
     "execution_count": 11,
     "metadata": {},
     "output_type": "execute_result"
    }
   ],
   "source": [
    "bin_centers[20]"
   ]
  },
  {
   "cell_type": "markdown",
   "metadata": {},
   "source": [
    "This the bin counting all the sample mean values between 60 and 60.5.  It has a\n",
    "lower edge of 60, and an upper edge of 60.5."
   ]
  },
  {
   "cell_type": "code",
   "execution_count": 12,
   "metadata": {},
   "outputs": [
    {
     "name": "stdout",
     "output_type": "stream",
     "text": [
      "Lower edge: 60.0\n",
      "Upper edge (not included): 60.5\n"
     ]
    }
   ],
   "source": [
    "print('Lower edge:', bin_edges[20])\n",
    "print('Upper edge (not included):', bin_edges[21])"
   ]
  },
  {
   "cell_type": "markdown",
   "metadata": {},
   "source": [
    "The count in that bin is:"
   ]
  },
  {
   "cell_type": "code",
   "execution_count": 13,
   "metadata": {},
   "outputs": [
    {
     "data": {
      "text/plain": [
       "2155.0"
      ]
     },
     "execution_count": 13,
     "metadata": {},
     "output_type": "execute_result"
    }
   ],
   "source": [
    "counts[20]"
   ]
  },
  {
   "cell_type": "markdown",
   "metadata": {},
   "source": [
    "This is the count of the 100000 sample means from our estimated sampling\n",
    "distribution, that were from 60 up to, but not including, 60.5.\n",
    "\n",
    "Dividing the counts by the number of samples, we get the proportion of samples\n",
    "that fall in this range:"
   ]
  },
  {
   "cell_type": "code",
   "execution_count": 14,
   "metadata": {},
   "outputs": [
    {
     "data": {
      "text/plain": [
       "array([0.    , 0.    , 0.0001, 0.0001, 0.0002, 0.0002, 0.0005, 0.0006,\n",
       "       0.0008, 0.0013, 0.0015, 0.0022, 0.0033, 0.0041, 0.0059, 0.0073,\n",
       "       0.0096, 0.0117, 0.0143, 0.0189, 0.0215, 0.0263, 0.0303, 0.0324,\n",
       "       0.0381, 0.0411, 0.0448, 0.0494, 0.0493, 0.0529, 0.0525, 0.0519,\n",
       "       0.0517, 0.0495, 0.0464, 0.0429, 0.0387, 0.0352, 0.0319, 0.0267,\n",
       "       0.0228, 0.0182, 0.0159, 0.012 , 0.0096, 0.0072, 0.0054, 0.0042,\n",
       "       0.0027, 0.0019, 0.0013, 0.0011, 0.0006, 0.0004, 0.0002, 0.0001,\n",
       "       0.0001, 0.0001, 0.    ])"
      ]
     },
     "execution_count": 14,
     "metadata": {},
     "output_type": "execute_result"
    }
   ],
   "source": [
    "proportions = counts / n_samples\n",
    "proportions"
   ]
  },
  {
   "cell_type": "markdown",
   "metadata": {},
   "source": [
    "For example, here is the proportion of sample means that fell between 60 and\n",
    "60.5:"
   ]
  },
  {
   "cell_type": "code",
   "execution_count": 15,
   "metadata": {},
   "outputs": [
    {
     "data": {
      "text/plain": [
       "0.02155"
      ]
     },
     "execution_count": 15,
     "metadata": {},
     "output_type": "execute_result"
    }
   ],
   "source": [
    "proportions[20]"
   ]
  },
  {
   "cell_type": "markdown",
   "metadata": {},
   "source": [
    "In other words, given this estimated sampling distribution, for this world with\n",
    "a mean of 62.25, the probability of any one sample mean being between 60 and\n",
    "60.5 is:"
   ]
  },
  {
   "cell_type": "code",
   "execution_count": 16,
   "metadata": {},
   "outputs": [
    {
     "data": {
      "text/plain": [
       "0.02155"
      ]
     },
     "execution_count": 16,
     "metadata": {},
     "output_type": "execute_result"
    }
   ],
   "source": [
    "proportions[20]"
   ]
  },
  {
   "cell_type": "markdown",
   "metadata": {},
   "source": [
    "The bar graph of the proportions is the same as the histogram, but with the y\n",
    "values divided by the number of samples (100000):"
   ]
  },
  {
   "cell_type": "code",
   "execution_count": 17,
   "metadata": {},
   "outputs": [
    {
     "data": {
      "image/png": "[encoded data removed]",
      "text/plain": [
       "<Figure size 432x288 with 1 Axes>"
      ]
     },
     "metadata": {
      "needs_background": "light"
     },
     "output_type": "display_data"
    }
   ],
   "source": [
    "plt.bar(bin_centers, proportions)\n",
    "plt.title('Sampling distribution using proportions');"
   ]
  },
  {
   "cell_type": "markdown",
   "metadata": {},
   "source": [
    "Now we are in a position to answer something approaching our intermediate\n",
    "question:\n",
    "\n",
    "**Problem 1**: What is the probability that we will observe a *sample* mean of\n",
    "*around* 58.74, given that the *population* mean is 62.25.\n",
    "\n",
    "One difficulty with this question is that we do not know what the sampling\n",
    "distribution would be for this hypothetical 2019 full set of marks, where the\n",
    "population mean is 62.25.  For the moment, we will assume that the sampling\n",
    "distribution is *exactly the same as it was in 2018*; this is the sampling\n",
    "distribution we have already been using.\n",
    "\n",
    "We find the bin corresponding to the sample mean of 58.74; this is the bin with\n",
    "center 58.75, with edges 58.5 and 59.0.   It turns out this is the bin at index\n",
    "17."
   ]
  },
  {
   "cell_type": "code",
   "execution_count": 18,
   "metadata": {},
   "outputs": [
    {
     "data": {
      "text/plain": [
       "(array([17]),)"
      ]
     },
     "execution_count": 18,
     "metadata": {},
     "output_type": "execute_result"
    }
   ],
   "source": [
    "bin_58p75 = np.where(bin_centers == 58.75)\n",
    "bin_58p75"
   ]
  },
  {
   "cell_type": "markdown",
   "metadata": {},
   "source": [
    "Look back at [where and argmin]({{ site.baseurl\n",
    "}}/chapters/08/where_and_argmin) for the trick here of using `np.where` to find\n",
    "the index.\n",
    "\n",
    "We get the proportion at that index, to give the probability that we will see a\n",
    "sample mean between 58.5 and 59:"
   ]
  },
  {
   "cell_type": "code",
   "execution_count": 19,
   "metadata": {},
   "outputs": [
    {
     "data": {
      "text/plain": [
       "array([0.0117])"
      ]
     },
     "execution_count": 19,
     "metadata": {},
     "output_type": "execute_result"
    }
   ],
   "source": [
    "p_around_58p75 = proportions[bin_58p75]\n",
    "p_around_58p75"
   ]
  },
  {
   "cell_type": "markdown",
   "metadata": {},
   "source": [
    "We highlight this proportion in red:"
   ]
  },
  {
   "cell_type": "code",
   "execution_count": 20,
   "metadata": {},
   "outputs": [
    {
     "data": {
      "image/png": "[encoded data removed]",
      "text/plain": [
       "<Figure size 432x288 with 1 Axes>"
      ]
     },
     "metadata": {
      "needs_background": "light"
     },
     "output_type": "display_data"
    }
   ],
   "source": [
    "plt.bar(bin_centers, proportions)\n",
    "plt.bar(58.75, p_around_58p75, color='red')\n",
    "# Store the x and y axis limits for later\n",
    "xy_lims = plt.axis()\n",
    "plt.title('Proportion for the 58.75 bin');"
   ]
  },
  {
   "cell_type": "markdown",
   "metadata": {},
   "source": [
    "This is the probability of something close to our observed sample mean (58.74)\n",
    "given an eventual population mean of 62.25, and our assumed sampling\n",
    "distribution.  The probability we have just found corresponds to the population\n",
    "mean.  We start a new graph were we record the probability at its corresponding\n",
    "population mean:"
   ]
  },
  {
   "cell_type": "code",
   "execution_count": 21,
   "metadata": {},
   "outputs": [
    {
     "data": {
      "image/png": "[encoded data removed]",
      "text/plain": [
       "<Figure size 432x288 with 1 Axes>"
      ]
     },
     "metadata": {
      "needs_background": "light"
     },
     "output_type": "display_data"
    }
   ],
   "source": [
    "plt.bar(62.25, p_around_58p75, color='red')\n",
    "plt.axis(xy_lims)  # Use the axis limits from the previous plot.\n",
    "plt.title('Proportion against corresponding population mean');"
   ]
  },
  {
   "cell_type": "markdown",
   "metadata": {},
   "source": [
    "Let us try a slightly more difficult intermediate problem:\n",
    "\n",
    "**Problem 2**: What is the probability that we will observe a *sample* mean of\n",
    "*around* 58.74, given that the *population* mean is 61.75?\n",
    "\n",
    "Notice the new hypothetical population mean that is the population mean from\n",
    "2018, minus 0.5.\n",
    "\n",
    "For problem 1, we assumed the sampling distribution was the same as it was in\n",
    "2018, when the mean was, in fact, around 62.25.  Now we need the sampling\n",
    "distribution for the case where the mean is 0.5 less, at 61.75.\n",
    "\n",
    "We will assume that the *shape* of this hypothetical sampling distribution does\n",
    "not change from the one we have used from 2018, but the *center* does change,\n",
    "from 62.25 to 62.75. In other words, our assumed sampling distribution shifts\n",
    "0.5 to the left on the x axis:"
   ]
  },
  {
   "cell_type": "code",
   "execution_count": 22,
   "metadata": {},
   "outputs": [
    {
     "data": {
      "image/png": "[encoded data removed]",
      "text/plain": [
       "<Figure size 432x288 with 1 Axes>"
      ]
     },
     "metadata": {
      "needs_background": "light"
     },
     "output_type": "display_data"
    }
   ],
   "source": [
    "plt.bar(bin_centers, counts, alpha=0.5, color='blue',\n",
    "   label='Original')\n",
    "# Shift x values 0.5 (one bin) to the left.\n",
    "bin_centers_1 = bin_centers - 0.5\n",
    "plt.bar(bin_centers_1, counts, alpha=0.5, color='red',\n",
    "  label='Shifted')\n",
    "plt.legend()\n",
    "plt.title('Original, shifted 2018 sampling distribution');"
   ]
  },
  {
   "cell_type": "markdown",
   "metadata": {},
   "source": [
    "With the shifted sampling distribution, we just follow the same recipe as we\n",
    "did for the population mean of 62.25."
   ]
  },
  {
   "cell_type": "code",
   "execution_count": 23,
   "metadata": {},
   "outputs": [
    {
     "data": {
      "text/plain": [
       "(array([18]),)"
      ]
     },
     "execution_count": 23,
     "metadata": {},
     "output_type": "execute_result"
    }
   ],
   "source": [
    "bin_58p75_1 = np.where(bin_centers_1 == 58.75)\n",
    "bin_58p75_1"
   ]
  },
  {
   "cell_type": "markdown",
   "metadata": {},
   "source": [
    "This is the bin at index 18 instead of the bin at index 17, that we found last\n",
    "time.  We have shifted the distribution one bin width to the left, so our\n",
    "corresponding bin in the sampling distribution is one bin to the right.\n",
    "\n",
    "The proportion we want is:"
   ]
  },
  {
   "cell_type": "code",
   "execution_count": 24,
   "metadata": {},
   "outputs": [
    {
     "data": {
      "text/plain": [
       "array([0.0143])"
      ]
     },
     "execution_count": 24,
     "metadata": {},
     "output_type": "execute_result"
    }
   ],
   "source": [
    "p_around_58p75_1 = proportions[bin_58p75_1]\n",
    "p_around_58p75_1"
   ]
  },
  {
   "cell_type": "code",
   "execution_count": 25,
   "metadata": {},
   "outputs": [
    {
     "data": {
      "image/png": "[encoded data removed]",
      "text/plain": [
       "<Figure size 432x288 with 1 Axes>"
      ]
     },
     "metadata": {
      "needs_background": "light"
     },
     "output_type": "display_data"
    }
   ],
   "source": [
    "plt.bar(bin_centers_1, proportions)\n",
    "plt.bar(58.75, p_around_58p75_1, color='red')\n",
    "# Store the x and y axis limits for later\n",
    "xy_lims = plt.axis()\n",
    "plt.title('Proportion for 58.75 bin, pop mean 61.75');"
   ]
  },
  {
   "cell_type": "markdown",
   "metadata": {},
   "source": [
    "This is the probability of something close to our observed sample mean (58.74)\n",
    "given an eventual population mean of 61.75, and our assumed sampling\n",
    "distribution. The probability corresponds to the eventual population mean, so\n",
    "we add the probability value to the plot at this population mean:"
   ]
  },
  {
   "cell_type": "code",
   "execution_count": 26,
   "metadata": {},
   "outputs": [
    {
     "data": {
      "image/png": "[encoded data removed]",
      "text/plain": [
       "<Figure size 432x288 with 1 Axes>"
      ]
     },
     "metadata": {
      "needs_background": "light"
     },
     "output_type": "display_data"
    }
   ],
   "source": [
    "# The previous p we found for 62.25\n",
    "plt.bar(62.25, p_around_58p75, color='red')\n",
    "# The new p we found for 61.75\n",
    "plt.bar(61.75, p_around_58p75_1, color='red')\n",
    "plt.axis(xy_lims)  # Use the axis limits from the previous plot.\n",
    "plt.title('Proportion against corresponding population mean');"
   ]
  },
  {
   "cell_type": "markdown",
   "metadata": {},
   "source": [
    "You can probably see how this is going to pan out now, but let us do the 61.25\n",
    "bin for practice."
   ]
  },
  {
   "cell_type": "code",
   "execution_count": 27,
   "metadata": {},
   "outputs": [
    {
     "data": {
      "image/png": "[encoded data removed]",
      "text/plain": [
       "<Figure size 432x288 with 1 Axes>"
      ]
     },
     "metadata": {
      "needs_background": "light"
     },
     "output_type": "display_data"
    }
   ],
   "source": [
    "# Original distribution.\n",
    "plt.bar(bin_centers, counts, alpha=0.5, color='blue',\n",
    "   label='Original')\n",
    "# Shift x values by 1 (two bins) to the left.\n",
    "bin_centers_2 = bin_centers - 1\n",
    "plt.bar(bin_centers_2, counts, alpha=0.5, color='red',\n",
    "  label='Shifted by 2 bins')\n",
    "plt.legend()\n",
    "plt.title('Original, shifted-by-2 sampling distribution');"
   ]
  },
  {
   "cell_type": "code",
   "execution_count": 28,
   "metadata": {},
   "outputs": [
    {
     "data": {
      "text/plain": [
       "(array([19]),)"
      ]
     },
     "execution_count": 28,
     "metadata": {},
     "output_type": "execute_result"
    }
   ],
   "source": [
    "# We are now looking at the next bin to the right in the distribution.\n",
    "bin_58p75_2 = np.where(bin_centers_2 == 58.75)\n",
    "bin_58p75_2"
   ]
  },
  {
   "cell_type": "code",
   "execution_count": 29,
   "metadata": {},
   "outputs": [
    {
     "data": {
      "text/plain": [
       "array([0.0189])"
      ]
     },
     "execution_count": 29,
     "metadata": {},
     "output_type": "execute_result"
    }
   ],
   "source": [
    "p_around_58p75_2 = proportions[bin_58p75_2]\n",
    "p_around_58p75_2"
   ]
  },
  {
   "cell_type": "code",
   "execution_count": 30,
   "metadata": {},
   "outputs": [
    {
     "data": {
      "image/png": "[encoded data removed]",
      "text/plain": [
       "<Figure size 432x288 with 1 Axes>"
      ]
     },
     "metadata": {
      "needs_background": "light"
     },
     "output_type": "display_data"
    }
   ],
   "source": [
    "plt.bar(bin_centers_2, proportions)\n",
    "plt.bar(58.75, p_around_58p75_2, color='red')\n",
    "# Store the x and y axis limits for later\n",
    "xy_lims = plt.axis()\n",
    "plt.title('Proportion for 58.75 bin, pop mean 61.75');"
   ]
  },
  {
   "cell_type": "code",
   "execution_count": 31,
   "metadata": {},
   "outputs": [
    {
     "data": {
      "image/png": "[encoded data removed]",
      "text/plain": [
       "<Figure size 432x288 with 1 Axes>"
      ]
     },
     "metadata": {
      "needs_background": "light"
     },
     "output_type": "display_data"
    }
   ],
   "source": [
    "# The p we found for 62.25\n",
    "plt.bar(62.25, p_around_58p75, color='red')\n",
    "# The p we found for 61.75\n",
    "plt.bar(61.75, p_around_58p75_1, color='red')\n",
    "# The p we found for 61.25\n",
    "plt.bar(61.25, p_around_58p75_2, color='red')\n",
    "plt.axis(xy_lims)  # Use the axis limits from the previous plot.\n",
    "plt.title('Proportion against corresponding population mean');"
   ]
  },
  {
   "cell_type": "markdown",
   "metadata": {},
   "source": [
    "We can repeat this procedure for every population mean.  For every population\n",
    "mean, we shift the sampling distribution, and get the corresponding probability\n",
    "of getting something in the bin of the observed sample mean of 58.74. This is\n",
    "the bin between 58.5 and 59, centered on 58.75."
   ]
  },
  {
   "cell_type": "code",
   "execution_count": 32,
   "metadata": {},
   "outputs": [
    {
     "data": {
      "text/plain": [
       "array([42.75, 43.25, 43.75, 44.25, 44.75, 45.25, 45.75, 46.25, 46.75,\n",
       "       47.25, 47.75, 48.25, 48.75, 49.25, 49.75, 50.25, 50.75, 51.25,\n",
       "       51.75, 52.25, 52.75, 53.25, 53.75, 54.25, 54.75, 55.25, 55.75,\n",
       "       56.25, 56.75, 57.25, 57.75, 58.25, 58.75, 59.25, 59.75, 60.25,\n",
       "       60.75, 61.25, 61.75, 62.25, 62.75, 63.25, 63.75, 64.25, 64.75,\n",
       "       65.25, 65.75, 66.25, 66.75, 67.25])"
      ]
     },
     "execution_count": 32,
     "metadata": {},
     "output_type": "execute_result"
    }
   ],
   "source": [
    "# Bin centers at which to estimate probability.\n",
    "population_means = np.arange(42.75, 67.75, 0.5)\n",
    "population_means"
   ]
  },
  {
   "cell_type": "code",
   "execution_count": 33,
   "metadata": {},
   "outputs": [
    {
     "data": {
      "text/plain": [
       "array([0.0001, 0.0001, 0.0002, 0.0004, 0.0006, 0.0011, 0.0013, 0.0019,\n",
       "       0.0027, 0.0042, 0.0054, 0.0072, 0.0096, 0.012 , 0.0159, 0.0182,\n",
       "       0.0228, 0.0267, 0.0319, 0.0352, 0.0387, 0.0429, 0.0464, 0.0495,\n",
       "       0.0517, 0.0519, 0.0525, 0.0529, 0.0493, 0.0494, 0.0448, 0.0411,\n",
       "       0.0381, 0.0324, 0.0303, 0.0263, 0.0215, 0.0189, 0.0143, 0.0117,\n",
       "       0.0096, 0.0073, 0.0059, 0.0041, 0.0033, 0.0022, 0.0015, 0.0013,\n",
       "       0.0008, 0.0006])"
      ]
     },
     "execution_count": 33,
     "metadata": {},
     "output_type": "execute_result"
    }
   ],
   "source": [
    "n_means = len(population_means)\n",
    "ps_for_mean = np.zeros(n_means)\n",
    "for i in np.arange(n_means):\n",
    "    # Shift the x positions of the sampling distribution.\n",
    "    pop_mean = population_means[i]\n",
    "    mean_diff = 62.25 - pop_mean\n",
    "    new_bin_centers = bin_centers - mean_diff\n",
    "    # Find the bin corresponding to the sample mean.\n",
    "    is_our_bin = new_bin_centers == 58.75\n",
    "    # We might have gone too far, so there is no corresponding bin.\n",
    "    if np.count_nonzero(is_our_bin) == 0:\n",
    "        continue\n",
    "    # Store the probability for this population mean.\n",
    "    ps_for_mean[i] = proportions[is_our_bin]\n",
    "ps_for_mean"
   ]
  },
  {
   "cell_type": "code",
   "execution_count": 34,
   "metadata": {},
   "outputs": [
    {
     "data": {
      "image/png": "[encoded data removed]",
      "text/plain": [
       "<Figure size 432x288 with 1 Axes>"
      ]
     },
     "metadata": {
      "needs_background": "light"
     },
     "output_type": "display_data"
    }
   ],
   "source": [
    "plt.bar(population_means, ps_for_mean, color='red')\n",
    "plt.title('P values for sample mean around 58.75 given population means');"
   ]
  },
  {
   "cell_type": "markdown",
   "metadata": {},
   "source": [
    "For reasons that might be clear from the calculations above, this probability\n",
    "distribution is our original assumed sampling distribution, but:\n",
    "\n",
    "* Reversed so the right tail has become the left tail, and vice versa, and\n",
    "* Shifted so that the mean of the distribution sits over the observed sample\n",
    "  mean.\n",
    "\n",
    "We can put both distributions on the plot to show this more clearly:"
   ]
  },
  {
   "cell_type": "code",
   "execution_count": 35,
   "metadata": {},
   "outputs": [
    {
     "data": {
      "image/png": "[encoded data removed]",
      "text/plain": [
       "<Figure size 432x288 with 1 Axes>"
      ]
     },
     "metadata": {
      "needs_background": "light"
     },
     "output_type": "display_data"
    }
   ],
   "source": [
    "plt.bar(population_means, ps_for_mean, color='red',\n",
    "   alpha=0.5,\n",
    "   label='Probability of sample mean')\n",
    "plt.bar(bin_centers, proportions, color='blue',\n",
    "    alpha=0.5,\n",
    "    label='Original proportions')\n",
    "plt.legend(loc='lower left')\n",
    "plt.title('P values for sample mean and sampling distribution');"
   ]
  },
  {
   "cell_type": "markdown",
   "metadata": {},
   "source": [
    "## Reversing the probabilities\n",
    "\n",
    "Remember that each of the p values in shown on the y axis in our red\n",
    "distribution above are: The probability of seeing a sample mean of around 52.75\n",
    "given a population mean of the corresponding x value.\n",
    "\n",
    "We want to reverse this probability.  We want the probability that the\n",
    "population mean is a certain value (on the x axis), given that we have sample\n",
    "mean of around 58.75.\n",
    "\n",
    "To do this, we follow the rules in [reverse probability]({{ site.baseurl\n",
    "}}/chapters/10/first_bayes) and [Bayes bars]({{ site.baseurl\n",
    "}}/chapters/10/bayes_bars).\n",
    "\n",
    "These are:\n",
    "\n",
    "1. Get the probabilities of the sample mean given each population mean; these\n",
    "   are the red values in the plot above.  Call these the *forward*\n",
    "   probabilities.\n",
    "2. Scale the forward probabilities by the initial or *prior* probability of\n",
    "   each population mean (we will have to decide what those are).\n",
    "3. Divide the results by the sum of the results from step 2 to get the reverse\n",
    "   or *posterior* probabilities."
   ]
  },
  {
   "cell_type": "markdown",
   "metadata": {},
   "source": [
    "For step 2, we will assume that there is an equal prior (initial) probability\n",
    "for each of our possible population means."
   ]
  },
  {
   "cell_type": "code",
   "execution_count": 36,
   "metadata": {},
   "outputs": [
    {
     "data": {
      "text/plain": [
       "array([0.02, 0.02, 0.02, 0.02, 0.02, 0.02, 0.02, 0.02, 0.02, 0.02, 0.02,\n",
       "       0.02, 0.02, 0.02, 0.02, 0.02, 0.02, 0.02, 0.02, 0.02, 0.02, 0.02,\n",
       "       0.02, 0.02, 0.02, 0.02, 0.02, 0.02, 0.02, 0.02, 0.02, 0.02, 0.02,\n",
       "       0.02, 0.02, 0.02, 0.02, 0.02, 0.02, 0.02, 0.02, 0.02, 0.02, 0.02,\n",
       "       0.02, 0.02, 0.02, 0.02, 0.02, 0.02])"
      ]
     },
     "execution_count": 36,
     "metadata": {},
     "output_type": "execute_result"
    }
   ],
   "source": [
    "# All the population means we have tried have the same initial probability.\n",
    "prior_pop_mean_ps = np.ones(n_means) / n_means\n",
    "prior_pop_mean_ps"
   ]
  },
  {
   "cell_type": "markdown",
   "metadata": {},
   "source": [
    "Continuing with step 2, we scale the forward probabilities by the prior\n",
    "probabilities, and divide by the resulting sum, to get the posterior (reverse)\n",
    "probabilities:"
   ]
  },
  {
   "cell_type": "code",
   "execution_count": 37,
   "metadata": {},
   "outputs": [
    {
     "data": {
      "text/plain": [
       "array([0.0001, 0.0001, 0.0002, 0.0004, 0.0006, 0.0011, 0.0013, 0.0019,\n",
       "       0.0027, 0.0042, 0.0054, 0.0072, 0.0096, 0.012 , 0.0159, 0.0182,\n",
       "       0.0229, 0.0268, 0.0319, 0.0353, 0.0388, 0.043 , 0.0465, 0.0495,\n",
       "       0.0518, 0.0519, 0.0526, 0.0529, 0.0494, 0.0495, 0.0449, 0.0411,\n",
       "       0.0381, 0.0324, 0.0303, 0.0264, 0.0216, 0.0189, 0.0143, 0.0117,\n",
       "       0.0096, 0.0073, 0.0059, 0.0041, 0.0033, 0.0022, 0.0015, 0.0013,\n",
       "       0.0008, 0.0006])"
      ]
     },
     "execution_count": 37,
     "metadata": {},
     "output_type": "execute_result"
    }
   ],
   "source": [
    "prior_times_forwards = prior_pop_mean_ps * ps_for_mean\n",
    "posterior_ps = prior_times_forwards / np.sum(prior_times_forwards)\n",
    "posterior_ps"
   ]
  },
  {
   "cell_type": "markdown",
   "metadata": {},
   "source": [
    "These are now the probabilities of each population mean, given the sample mean\n",
    "of around 58.75."
   ]
  },
  {
   "cell_type": "code",
   "execution_count": 38,
   "metadata": {},
   "outputs": [
    {
     "data": {
      "image/png": "[encoded data removed]",
      "text/plain": [
       "<Figure size 432x288 with 1 Axes>"
      ]
     },
     "metadata": {
      "needs_background": "light"
     },
     "output_type": "display_data"
    }
   ],
   "source": [
    "plt.bar(population_means, posterior_ps, color='darkred')\n",
    "plt.title('P of given population mean, given sample mean');"
   ]
  },
  {
   "cell_type": "markdown",
   "metadata": {},
   "source": [
    "You might notice that this looks very much like the original plot (in red,\n",
    "above) of the probabilities of the sample mean, given the population means.\n",
    "\n",
    "In fact is it is the same, and this is because:\n",
    "\n",
    "* As you saw in [reverse probability]({{ site.baseurl\n",
    "  }}/chapters/10/first_bayes) and [Bayes bars]({{ site.baseurl\n",
    "  }}/chapters/10/bayes_bars), when all the prior (initial) probabilities are\n",
    "  the same, we can skip the step of multiplying the forward (red) values by the\n",
    "  prior (initial) probabilities.\n",
    "* The forward (red) values were proportions, and so all the red values add up\n",
    "  to 1, corresponding to all the sample means.  Therefore, step 3, dividing by\n",
    "  the sum, is dividing by 1, and doesn't change the values.\n",
    "\n",
    "The dark red distribution is very useful, because it can answer questions we are interested in.\n",
    "\n",
    "Remember that each value in this plot is the probability of the corresponding\n",
    "population means (on the x axis), given the observed sample mean of around\n",
    "58.75 (in fact the sample mean was 58.74, but we will ignore that small\n",
    "difference for now).\n",
    "\n",
    "Remember too that the \"population\" we are interested in here is the eventual\n",
    "7300 or so marks from 2019.\n",
    "\n",
    "We see quickly that our sample mean makes it perfectly plausible that the\n",
    "eventual population mean will be at or above the previous mean of 62 or so,\n",
    "because a substantial proportion the area of the distribution corresponds to\n",
    "values of 62 or greater.\n",
    "\n",
    "In fact, we could do better than this, and work out the population mean\n",
    "threshold, such that about 5% of the distribution is above threshold. Call this\n",
    "threshold `t`. Once we have found this value, `t`, we can say that there is\n",
    "about a 95% chance that the eventual population mean will be less than or equal\n",
    "to `t`.  We could call `t` the 5% upper *confidence limit*, because we are 95%\n",
    "confident that the eventual population mean will be less than or equal to this\n",
    "value.\n",
    "\n",
    "To get this value, we can use the `np.cumsum` function, first mentioned in the\n",
    "[arrays]({{ site.baseurl }}/chapters/03/Arrays) page. It takes an input array\n",
    "say `a`, and returns another array, say `b` that is the same size as `a`, but\n",
    "which has, at each element, the result of summing up all the elements in `a` up\n",
    "to the corresponding position.  This might be clearer by example:"
   ]
  },
  {
   "cell_type": "code",
   "execution_count": 39,
   "metadata": {},
   "outputs": [
    {
     "data": {
      "text/plain": [
       "array([ 1,  3,  8, 10, 10])"
      ]
     },
     "execution_count": 39,
     "metadata": {},
     "output_type": "execute_result"
    }
   ],
   "source": [
    "# np.cumsum - for each element, add all elements so far.\n",
    "a = np.array([1, 2, 5, 2, 0])\n",
    "np.cumsum(a)"
   ]
  },
  {
   "cell_type": "markdown",
   "metadata": {},
   "source": [
    "We can do the same with the posterior probabilities:"
   ]
  },
  {
   "cell_type": "code",
   "execution_count": 40,
   "metadata": {},
   "outputs": [
    {
     "data": {
      "text/plain": [
       "array([0.0001, 0.0002, 0.0004, 0.0009, 0.0015, 0.0025, 0.0038, 0.0057,\n",
       "       0.0085, 0.0127, 0.0181, 0.0253, 0.035 , 0.047 , 0.0629, 0.0811,\n",
       "       0.1039, 0.1307, 0.1626, 0.1979, 0.2367, 0.2797, 0.3261, 0.3756,\n",
       "       0.4274, 0.4794, 0.532 , 0.5849, 0.6344, 0.6838, 0.7287, 0.7698,\n",
       "       0.8079, 0.8403, 0.8706, 0.897 , 0.9186, 0.9375, 0.9518, 0.9635,\n",
       "       0.9731, 0.9804, 0.9862, 0.9903, 0.9936, 0.9958, 0.9973, 0.9986,\n",
       "       0.9994, 1.    ])"
      ]
     },
     "execution_count": 40,
     "metadata": {},
     "output_type": "execute_result"
    }
   ],
   "source": [
    "cumulative_post_ps = np.cumsum(posterior_ps)\n",
    "cumulative_post_ps"
   ]
  },
  {
   "cell_type": "markdown",
   "metadata": {},
   "source": [
    "Notice that, towards the end of this array, we reach 0.95; this means that the\n",
    "probability values up to this point add up to 0.95 or more; equivalently, that\n",
    "we already have 95% of the probability or more at this point.\n",
    "\n",
    "In the following code, we get True if we have not yet reached 0.95, and False\n",
    "after that."
   ]
  },
  {
   "cell_type": "code",
   "execution_count": 41,
   "metadata": {},
   "outputs": [
    {
     "data": {
      "text/plain": [
       "array([ True,  True,  True,  True,  True,  True,  True,  True,  True,\n",
       "        True,  True,  True,  True,  True,  True,  True,  True,  True,\n",
       "        True,  True,  True,  True,  True,  True,  True,  True,  True,\n",
       "        True,  True,  True,  True,  True,  True,  True,  True,  True,\n",
       "        True,  True, False, False, False, False, False, False, False,\n",
       "       False, False, False, False, False])"
      ]
     },
     "execution_count": 41,
     "metadata": {},
     "output_type": "execute_result"
    }
   ],
   "source": [
    "cum_ps_lte_0p95 = cumulative_post_ps <= 0.95\n",
    "cum_ps_lte_0p95"
   ]
  },
  {
   "cell_type": "markdown",
   "metadata": {},
   "source": [
    "We want the largest of the corresponding population mean values, to get our\n",
    "`t`."
   ]
  },
  {
   "cell_type": "code",
   "execution_count": 42,
   "metadata": {},
   "outputs": [
    {
     "data": {
      "text/plain": [
       "61.25"
      ]
     },
     "execution_count": 42,
     "metadata": {},
     "output_type": "execute_result"
    }
   ],
   "source": [
    "t = np.max(population_means[cum_ps_lte_0p95])\n",
    "t"
   ]
  },
  {
   "cell_type": "markdown",
   "metadata": {},
   "source": [
    "This calculation tells us that, *given our assumptions*, there is a 95% chance\n",
    "that the eventual population mean will be less than or equal to our found `t`.\n",
    "`t` is our 95% upper confidence limit.\n",
    "\n",
    "It looks like we are moderately confident that the mean of the marks will be\n",
    "less in 2019 than it was in 2018.\n"
   ]
  },
  {
   "cell_type": "markdown",
   "metadata": {},
   "source": [
    "## A short cut for the calculations\n",
    "\n",
    "In this exposition, we started by breaking up the sampling distribution into a\n",
    "counts values from a histogram; converting the counts into a proportions, and\n",
    "then transforming the proportions by shifting on the x axis, and reversing\n",
    "them.  We found this was our posterior probability distribution, and then we\n",
    "used the cumulative sum of this distribution to find our upper tail threshold.\n",
    "\n",
    "In fact we can do equivalent operations without having to break up the\n",
    "distribution into counts, by applying the same transformations to the values\n",
    "in the sampling distribution.\n",
    "\n",
    "Here is the sampling distribution (again):"
   ]
  },
  {
   "cell_type": "code",
   "execution_count": 43,
   "metadata": {},
   "outputs": [
    {
     "data": {
      "image/png": "[encoded data removed]",
      "text/plain": [
       "<Figure size 432x288 with 1 Axes>"
      ]
     },
     "metadata": {
      "needs_background": "light"
     },
     "output_type": "display_data"
    }
   ],
   "source": [
    "plt.hist(sample_means, bins=bin_edges)\n",
    "plt.xlabel('Mean mark for sample of 50')\n",
    "plt.title('Estimated sampling distribution for mean of 50 marks');"
   ]
  },
  {
   "cell_type": "markdown",
   "metadata": {},
   "source": [
    "As we did for the proportions, we will shift this distribution to have a mean\n",
    "at the observed sample mean, and take the mirror image around this point, like\n",
    "this:"
   ]
  },
  {
   "cell_type": "code",
   "execution_count": 44,
   "metadata": {},
   "outputs": [
    {
     "data": {
      "image/png": "[encoded data removed]",
      "text/plain": [
       "<Figure size 432x288 with 1 Axes>"
      ]
     },
     "metadata": {
      "needs_background": "light"
     },
     "output_type": "display_data"
    }
   ],
   "source": [
    "# Shift distribution to observed sample mean; take mirror image.\n",
    "# Move distribution mean point to zero.\n",
    "zero_centered = sample_means - 62.25\n",
    "# Mirror image around zero point.\n",
    "reversed = -zero_centered\n",
    "# Add back the observed sample mean.\n",
    "reversed_shifted = reversed + observed_sample_mean\n",
    "# Show a histogram (and store the counts).\n",
    "rs_counts, rs_edges, patches = plt.hist(reversed_shifted,\n",
    "    bins=np.arange(42.5, 67.75, 0.5),\n",
    "    color='darkgreen')\n",
    "plt.title('Reversed, shifted sampling distribution');"
   ]
  },
  {
   "cell_type": "markdown",
   "metadata": {},
   "source": [
    "Here's the same histogram, but built using the counts we got back from the\n",
    "call, just to show it is the same."
   ]
  },
  {
   "cell_type": "code",
   "execution_count": 45,
   "metadata": {},
   "outputs": [
    {
     "data": {
      "image/png": "[encoded data removed]",
      "text/plain": [
       "<Figure size 432x288 with 1 Axes>"
      ]
     },
     "metadata": {
      "needs_background": "light"
     },
     "output_type": "display_data"
    }
   ],
   "source": [
    "rs_centers = rs_edges[:-1] + 0.25\n",
    "plt.bar(rs_centers, rs_counts, color='darkgreen')\n",
    "plt.title('Reversed, shifted sampling distribution using counts');"
   ]
  },
  {
   "cell_type": "markdown",
   "metadata": {},
   "source": [
    "Notice that, if we divide the counts in this histogram by the number of\n",
    "samples, to get proportions, this looks very, very similar to the posterior\n",
    "probabilities we have just calculated.  The plot below shows the populations\n",
    "superimposed; they overlap so completely that you cannot distinguish the two."
   ]
  },
  {
   "cell_type": "code",
   "execution_count": 46,
   "metadata": {},
   "outputs": [
    {
     "data": {
      "image/png": "[encoded data removed]",
      "text/plain": [
       "<Figure size 432x288 with 1 Axes>"
      ]
     },
     "metadata": {
      "needs_background": "light"
     },
     "output_type": "display_data"
    }
   ],
   "source": [
    "plt.bar(rs_centers, rs_counts / n_samples,\n",
    "        color='darkblue',\n",
    "        alpha=0.5,\n",
    "        label='Reversed, shifted p')\n",
    "plt.bar(population_means, posterior_ps,\n",
    "        color='darkred',\n",
    "        alpha=0.5,\n",
    "        label='Posterior p')\n",
    "plt.title('Reversed shifted and posterior p')\n",
    "plt.legend(loc='lower left');"
   ]
  },
  {
   "cell_type": "markdown",
   "metadata": {},
   "source": [
    "Using this reversed shifted version, we can get our threshold rather easily, by\n",
    "asking for the percentiles of the distribution."
   ]
  },
  {
   "cell_type": "code",
   "execution_count": 47,
   "metadata": {},
   "outputs": [
    {
     "data": {
      "text/plain": [
       "61.97"
      ]
     },
     "execution_count": 47,
     "metadata": {},
     "output_type": "execute_result"
    }
   ],
   "source": [
    "rs_t = np.percentile(reversed_shifted, 95)\n",
    "rs_t"
   ]
  },
  {
   "cell_type": "markdown",
   "metadata": {},
   "source": [
    "This is the 95% percentile, so it is the value such that 95% of the values are\n",
    "less than this value, and 5% are greater than this value.\n",
    "\n",
    "The reversed-shifted calculation is very similar to something called the\n",
    "*Reverse Percentile Interval* for the *bootstrap* (see below, and [this\n",
    "Wikipedia\n",
    "section](https://en.wikipedia.org/wiki/Bootstrapping_%28statistics%29#Deriving_confidence_intervals_from_the_bootstrap_distribution) \n",
    "\n",
    "As you see, the result is near identical to the approximation we used above\n",
    "when we broke the distribution into counts and used this for the posterior p\n",
    "calculation."
   ]
  },
  {
   "cell_type": "markdown",
   "metadata": {},
   "source": [
    "## Estimating the sampling distribution\n",
    "\n",
    "We emphasized *given our assumptions*.  One big assumption that we made was\n",
    "that the sampling distribution of the mean was the same as that for 2018.  That\n",
    "seems like a strong assumption; the sampling distribution of the mean will\n",
    "depend on the distribution of the values, and that may have changed in 2019.\n",
    "\n",
    "To be more general, we might also want to deal with a situation where we do not\n",
    "have a roughly equivalent population to help us.  Here we had the distribution\n",
    "of marks from 2018, but we will often be in the situation where we have a\n",
    "sample mean, and no population to compare against.  What can we do to estimate\n",
    "the sampling distribution, if all we have is the sample --- in our case, the\n",
    "sample of 50 marks from 2019?\n",
    "\n",
    "Enter the [bootstrap]({{ site.baseurl }}/chapters/10/bootstrap)."
   ]
  }
 ],
 "metadata": {
  "jupytext": {
   "notebook_metadata_filter": "all,-language_info",
   "split_at_heading": true,
   "text_representation": {
    "extension": ".Rmd",
    "format_name": "rmarkdown",
    "format_version": "1.1",
    "jupytext_version": "1.2.4"
   }
  },
  "kernelspec": {
   "display_name": "Python 3",
   "language": "python",
   "name": "python3"
  },
  "language_info": {
   "codemirror_mode": {
    "name": "ipython",
    "version": 3
   },
   "file_extension": ".py",
   "mimetype": "text/x-python",
   "name": "python",
   "nbconvert_exporter": "python",
   "pygments_lexer": "ipython3",
   "version": "3.7.6"
  }
 },
 "nbformat": 4,
 "nbformat_minor": 2
}
