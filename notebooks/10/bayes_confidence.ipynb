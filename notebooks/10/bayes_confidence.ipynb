{
 "cells": [
  {
   "cell_type": "markdown",
   "metadata": {},
   "source": [
    "In the [problem for the education minister]({{ site.baseurl\n",
    "}}/chapters/10/havana_math) we had a sample of fast-track-marked exams from\n",
    "2019, and we found that the median mark was 60.  We wondered what we could say\n",
    "about the eventual median when we have the marks for all 8000 or so students.\n",
    "\n",
    "After a bit of development, we found, in the [reverse probability with\n",
    "bars]({{ site.baseurl }}/chapters/10/bayes_bars) page, that we could use some\n",
    "probability calculations to draw conclusions about the state of the world, from some result.  In that page, we calculated the probability of the state of the world (a box we have been given) from a result (drawing a red ball).\n",
    "\n",
    "Now we want to draw a conclusion about the state of the world (the eventual median of all the 2019 exams) from a result (the median of the fast-marked sample of 50 2019 exams).\n",
    "\n",
    "We will call the 50 fast-track-marked exams the *sample*.  When the 2019\n",
    "marking is finished, we will have around 8000 marks.  We will call this the\n",
    "*population*.  We want to draw conclusions about the *population* from the\n",
    "*sample*.   In particular we want to draw conclusions about the population\n",
    "median from the sample median.\n",
    "\n",
    "Let us start with the following problem:  what is the probability that we will\n",
    "observe a *sample* median of 60, given that the *population* median is 69.\n",
    "\n",
    "Referring back to our box and ball problem, this probability is the equivalent\n",
    "of the probability of getting a red ball from a given box.  Given a state of\n",
    "the world (the population median) what the is the probability of the result\n",
    "(the sample median).  Once we have probabilities like these, we will be able\n",
    "to use the logic you have already seen to get the *reverse* probability - how\n",
    "likely was any particular state of the world (population median), given the\n",
    "result (the sample median).\n",
    "\n",
    "Returning our problem: how will we calculate the probability of a sample median of 60, given a population median of 69?\n",
    "\n",
    "As usual, this is a problem of *sampling*.  If the median of the population is\n",
    "69, and we draw a sample of 50 marks, then the median of the sample will be\n",
    "vary somewhat depending on the sample. That is, the *sample median* will be 69\n",
    "plus or minus a bit.  As usual, we need to quantify what we mean by \"a bit\"."
   ]
  },
  {
   "cell_type": "markdown",
   "metadata": {},
   "source": [
    "For example, remember the population of 2018 marks, that do have a median of 69."
   ]
  },
  {
   "cell_type": "code",
   "execution_count": 1,
   "metadata": {},
   "outputs": [],
   "source": [
    "import numpy as np\n",
    "import pandas as pd\n",
    "import matplotlib.pyplot as plt\n",
    "%matplotlib inline\n",
    "plt.style.use('fivethirtyeight')"
   ]
  },
  {
   "cell_type": "code",
   "execution_count": 2,
   "metadata": {},
   "outputs": [
    {
     "data": {
      "text/plain": [
       "69.0"
      ]
     },
     "execution_count": 2,
     "metadata": {},
     "output_type": "execute_result"
    }
   ],
   "source": [
    "havana_2018 = pd.read_csv('havana_math_2018.csv')\n",
    "marks_2018 = havana_2018['mark'].dropna()\n",
    "marks_2018.median()"
   ]
  },
  {
   "cell_type": "markdown",
   "metadata": {},
   "source": [
    "To get the sampling distribution of the median of a sample of 50, we would have to calculate the median for every possible sample of 50 values from the 8000 or so marks.  As usual, we make do with an *estimate* of the sampling distribution by taking many thousands of samples."
   ]
  },
  {
   "cell_type": "code",
   "execution_count": 3,
   "metadata": {},
   "outputs": [
    {
     "data": {
      "text/plain": [
       "array([74. , 60. , 50.5, 76. , 71. ])"
      ]
     },
     "execution_count": 3,
     "metadata": {},
     "output_type": "execute_result"
    }
   ],
   "source": [
    "# Take 10000 samples, calculate their medians.\n",
    "n_iters = 10000\n",
    "sample_medians = np.zeros(n_iters)\n",
    "for i in np.arange(n_iters):\n",
    "    sample = np.random.choice(marks_2018, size=50, replace=False)\n",
    "    sample_medians[i] = np.median(sample)\n",
    "sample_medians[:5]"
   ]
  },
  {
   "cell_type": "markdown",
   "metadata": {},
   "source": [
    "The sampling distribution looks like this:"
   ]
  },
  {
   "cell_type": "code",
   "execution_count": 4,
   "metadata": {},
   "outputs": [
    {
     "data": {
      "image/png": "[encoded data removed]",
      "text/plain": [
       "<Figure size 432x288 with 1 Axes>"
      ]
     },
     "metadata": {
      "needs_background": "light"
     },
     "output_type": "display_data"
    }
   ],
   "source": [
    "plt.hist(sample_medians, bins=np.arange(50, 90, 0.5))\n",
    "plt.xlabel('Median mark for sample of 50')\n",
    "plt.title('Estimated sampling distribution');"
   ]
  },
  {
   "cell_type": "code",
   "execution_count": null,
   "metadata": {},
   "outputs": [],
   "source": []
  }
 ],
 "metadata": {
  "jupytext": {
   "notebook_metadata_filter": "all,-language_info",
   "split_at_heading": true,
   "text_representation": {
    "extension": ".Rmd",
    "format_name": "rmarkdown",
    "format_version": "1.1",
    "jupytext_version": "1.2.4"
   }
  },
  "kernelspec": {
   "display_name": "Python 3",
   "language": "python",
   "name": "python3"
  },
  "language_info": {
   "codemirror_mode": {
    "name": "ipython",
    "version": 3
   },
   "file_extension": ".py",
   "mimetype": "text/x-python",
   "name": "python",
   "nbconvert_exporter": "python",
   "pygments_lexer": "ipython3",
   "version": "3.7.6"
  }
 },
 "nbformat": 4,
 "nbformat_minor": 2
}
