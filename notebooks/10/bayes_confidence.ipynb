{
 "cells": [
  {
   "cell_type": "markdown",
   "metadata": {},
   "source": [
    "In the [problem for the education minister]({{ site.baseurl\n",
    "}}/chapters/10/havana_math) we had a sample of fast-track-marked exams from\n",
    "2019, and we found that the median mark was 60.  We wondered what we could say\n",
    "about the eventual median when we have the marks for all 8000 or so students.\n",
    "\n",
    "For example, we might wonder how likely it is that the eventual median will be\n",
    "69, as it was in 2018.  Or we might wonder whether we could be say that the\n",
    "eventual median for all the papers will be the sample median 60, plus or minus\n",
    "a bit.   If so, what value should we give to \"a bit\".\n",
    "\n",
    "This kind of problem can be called a problem of *reverse probability*.  We\n",
    "have observed some outcome from our sample -- 60 -- and we want to be able to\n",
    "say something about the *population* from which the sample came -- in our\n",
    "case, the population of all 8000 or so exam marks."
   ]
  }
 ],
 "metadata": {
  "jupytext": {
   "notebook_metadata_filter": "all,-language_info",
   "text_representation": {
    "extension": ".Rmd",
    "format_name": "rmarkdown",
    "format_version": "1.0",
    "jupytext_version": "0.8.6"
   }
  },
  "kernelspec": {
   "display_name": "Python 3",
   "language": "python",
   "name": "python3"
  },
  "language_info": {
   "codemirror_mode": {
    "name": "ipython",
    "version": 3
   },
   "file_extension": ".py",
   "mimetype": "text/x-python",
   "name": "python",
   "nbconvert_exporter": "python",
   "pygments_lexer": "ipython3",
   "version": "3.7.6"
  }
 },
 "nbformat": 4,
 "nbformat_minor": 2
}
