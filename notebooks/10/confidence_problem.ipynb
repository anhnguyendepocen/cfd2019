{
 "cells": [
  {
   "cell_type": "markdown",
   "metadata": {},
   "source": [
    "Imagine for a moment that you are the person who supervises recruitment for the\n",
    "New York City police department.\n",
    "\n",
    "Anyone who wants to be a police officer in New York City, has take a [written\n",
    "exam](https://www1.nyc.gov/site/nypd/careers/police-officers/po-exam.page). The\n",
    "city puts on this exam every year or so.\n",
    "\n",
    "There was a written exam in early 2017; over 10000 people took this exam.\n",
    "\n",
    "Now it is 2019.   This new iteration of the written exam has just finished, and\n",
    "you know that about 13000 people took the exam, but the results are not out\n",
    "yet.  Of course you do have the results from 2017.\n",
    "\n",
    "You are particularly interested in this year's results, because you are worried\n",
    "that candidates are starting to find the exam too easy, especially with all the\n",
    "exam preparation materials that candidates can find and buy.\n",
    "\n",
    "In order to plan for the year ahead, you need to know if the results are\n",
    "holding steady.   But, as things stand, you won't get the full results for 2019\n",
    "for another month.\n",
    "\n",
    "To help your decision-making, you very much want to get an idea of how good the\n",
    "results are this year.   Being wise, you decided to take a random sample of 50\n",
    "from all the exam papers from this year (2019).  You get them marked quickly.\n",
    "But - how much information will this sample give you about the eventual results\n",
    "for 2019?"
   ]
  },
  {
   "cell_type": "code",
   "execution_count": 1,
   "metadata": {},
   "outputs": [],
   "source": [
    "import numpy as np\n",
    "import pandas as pd\n",
    "import matplotlib.pyplot as plt\n",
    "%matplotlib inline\n",
    "plt.style.use('fivethirtyeight')"
   ]
  },
  {
   "cell_type": "markdown",
   "metadata": {},
   "source": [
    "Here are the\n",
    "[actual](https://github.com/matthew-brett/datasets/tree/22203c1/nyc_civil_list)\n",
    "examination results from the big 2017 police written exam."
   ]
  },
  {
   "cell_type": "markdown",
   "metadata": {},
   "source": [
    "You can download the file from [nyc_police_exam_sept_2017.csv]({{ site.baseurl\n",
    "}}/data/nyc_police_exam_sept_2017.csv)"
   ]
  },
  {
   "cell_type": "code",
   "execution_count": 2,
   "metadata": {},
   "outputs": [
    {
     "data": {
      "text/html": [
       "<div>\n",
       "<style scoped>\n",
       "    .dataframe tbody tr th:only-of-type {\n",
       "        vertical-align: middle;\n",
       "    }\n",
       "\n",
       "    .dataframe tbody tr th {\n",
       "        vertical-align: top;\n",
       "    }\n",
       "\n",
       "    .dataframe thead th {\n",
       "        text-align: right;\n",
       "    }\n",
       "</style>\n",
       "<table border=\"1\" class=\"dataframe\">\n",
       "  <thead>\n",
       "    <tr style=\"text-align: right;\">\n",
       "      <th></th>\n",
       "      <th>First Name</th>\n",
       "      <th>MI</th>\n",
       "      <th>Last Name</th>\n",
       "      <th>Adj. FA</th>\n",
       "    </tr>\n",
       "  </thead>\n",
       "  <tbody>\n",
       "    <tr>\n",
       "      <th>0</th>\n",
       "      <td>RICARDO</td>\n",
       "      <td>J</td>\n",
       "      <td>CRUZ</td>\n",
       "      <td>71.77</td>\n",
       "    </tr>\n",
       "    <tr>\n",
       "      <th>1</th>\n",
       "      <td>PATRICK</td>\n",
       "      <td>M</td>\n",
       "      <td>CARLIN</td>\n",
       "      <td>71.77</td>\n",
       "    </tr>\n",
       "    <tr>\n",
       "      <th>2</th>\n",
       "      <td>QUDUS</td>\n",
       "      <td>NaN</td>\n",
       "      <td>ADEBOWALE</td>\n",
       "      <td>71.77</td>\n",
       "    </tr>\n",
       "    <tr>\n",
       "      <th>3</th>\n",
       "      <td>ERIC</td>\n",
       "      <td>C</td>\n",
       "      <td>ALLBRIGHT</td>\n",
       "      <td>71.77</td>\n",
       "    </tr>\n",
       "    <tr>\n",
       "      <th>4</th>\n",
       "      <td>CRISTIAN</td>\n",
       "      <td>NaN</td>\n",
       "      <td>BENITEZ</td>\n",
       "      <td>71.77</td>\n",
       "    </tr>\n",
       "  </tbody>\n",
       "</table>\n",
       "</div>"
      ],
      "text/plain": [
       "  First Name   MI  Last Name  Adj. FA\n",
       "0    RICARDO    J       CRUZ    71.77\n",
       "1    PATRICK    M     CARLIN    71.77\n",
       "2      QUDUS  NaN  ADEBOWALE    71.77\n",
       "3       ERIC    C  ALLBRIGHT    71.77\n",
       "4   CRISTIAN  NaN    BENITEZ    71.77"
      ]
     },
     "execution_count": 2,
     "metadata": {},
     "output_type": "execute_result"
    }
   ],
   "source": [
    "police_2017 = pd.read_csv('nyc_police_exam_sept_2017.csv')\n",
    "police_2017.head()"
   ]
  },
  {
   "cell_type": "markdown",
   "metadata": {},
   "source": [
    "The exam mark is in the column named `Adj. FA`, short for \"Adjusted Final\n",
    "Average\".\n",
    "\n",
    "For convenience, we round the exam scores to the nearest integer:"
   ]
  },
  {
   "cell_type": "code",
   "execution_count": 3,
   "metadata": {},
   "outputs": [],
   "source": [
    "police_2017['Adj. FA'] = police_2017['Adj. FA'].round()"
   ]
  },
  {
   "cell_type": "markdown",
   "metadata": {},
   "source": [
    "There are about 13000 marks in this table:"
   ]
  },
  {
   "cell_type": "code",
   "execution_count": 4,
   "metadata": {
    "lines_to_next_cell": 2
   },
   "outputs": [
    {
     "data": {
      "text/plain": [
       "10987"
      ]
     },
     "execution_count": 4,
     "metadata": {},
     "output_type": "execute_result"
    }
   ],
   "source": [
    "len(police_2017)"
   ]
  },
  {
   "cell_type": "markdown",
   "metadata": {},
   "source": [
    "Here is the histogram:"
   ]
  },
  {
   "cell_type": "code",
   "execution_count": 17,
   "metadata": {
    "lines_to_next_cell": 2
   },
   "outputs": [
    {
     "data": {
      "image/png": "[encoded data removed]",
      "text/plain": [
       "<Figure size 432x288 with 1 Axes>"
      ]
     },
     "metadata": {
      "needs_background": "light"
     },
     "output_type": "display_data"
    }
   ],
   "source": [
    "police_2017.hist('Adj. FA');"
   ]
  },
  {
   "cell_type": "markdown",
   "metadata": {},
   "source": [
    "Here are the various statistics for the 2017 marks:"
   ]
  },
  {
   "cell_type": "code",
   "execution_count": 18,
   "metadata": {},
   "outputs": [
    {
     "data": {
      "text/plain": [
       "count    10987.000000\n",
       "mean        89.166378\n",
       "std          7.037466\n",
       "min         71.000000\n",
       "25%         85.000000\n",
       "50%         90.000000\n",
       "75%         94.000000\n",
       "max        114.000000\n",
       "Name: Adj. FA, dtype: float64"
      ]
     },
     "execution_count": 18,
     "metadata": {},
     "output_type": "execute_result"
    }
   ],
   "source": [
    "police_2017['Adj. FA'].describe()"
   ]
  },
  {
   "cell_type": "markdown",
   "metadata": {},
   "source": [
    "We are particularly interested in the median.  As you remember, this is the 50% percentile, that you see in the table above."
   ]
  },
  {
   "cell_type": "code",
   "execution_count": 19,
   "metadata": {},
   "outputs": [
    {
     "data": {
      "text/plain": [
       "90.0"
      ]
     },
     "execution_count": 19,
     "metadata": {},
     "output_type": "execute_result"
    }
   ],
   "source": [
    "# Median mark in 2017.\n",
    "mark_med_2017 = police_2017['Adj. FA'].median()\n",
    "mark_med_2017"
   ]
  },
  {
   "cell_type": "markdown",
   "metadata": {},
   "source": [
    "Now we look at the sample of 50 exams from 2019 that you marked quickly.\n",
    "\n",
    "You can download the sample file from [nyc_police_exam_2019_sample.csv]({{\n",
    "site.baseurl }}/data/nyc_police_exam_2019_sample.csv)"
   ]
  },
  {
   "cell_type": "code",
   "execution_count": 41,
   "metadata": {},
   "outputs": [
    {
     "data": {
      "text/html": [
       "<div>\n",
       "<style scoped>\n",
       "    .dataframe tbody tr th:only-of-type {\n",
       "        vertical-align: middle;\n",
       "    }\n",
       "\n",
       "    .dataframe tbody tr th {\n",
       "        vertical-align: top;\n",
       "    }\n",
       "\n",
       "    .dataframe thead th {\n",
       "        text-align: right;\n",
       "    }\n",
       "</style>\n",
       "<table border=\"1\" class=\"dataframe\">\n",
       "  <thead>\n",
       "    <tr style=\"text-align: right;\">\n",
       "      <th></th>\n",
       "      <th>First Name</th>\n",
       "      <th>MI</th>\n",
       "      <th>Last Name</th>\n",
       "      <th>Adj. FA</th>\n",
       "    </tr>\n",
       "  </thead>\n",
       "  <tbody>\n",
       "    <tr>\n",
       "      <th>0</th>\n",
       "      <td>ADRIAN</td>\n",
       "      <td>F</td>\n",
       "      <td>SHAMY</td>\n",
       "      <td>85.0</td>\n",
       "    </tr>\n",
       "    <tr>\n",
       "      <th>1</th>\n",
       "      <td>SHANICE</td>\n",
       "      <td>NaN</td>\n",
       "      <td>WALTERS</td>\n",
       "      <td>81.0</td>\n",
       "    </tr>\n",
       "    <tr>\n",
       "      <th>2</th>\n",
       "      <td>SAHIL</td>\n",
       "      <td>K</td>\n",
       "      <td>SHARMA</td>\n",
       "      <td>80.0</td>\n",
       "    </tr>\n",
       "    <tr>\n",
       "      <th>3</th>\n",
       "      <td>THOMAS</td>\n",
       "      <td>P</td>\n",
       "      <td>ROTHMUND</td>\n",
       "      <td>86.0</td>\n",
       "    </tr>\n",
       "    <tr>\n",
       "      <th>4</th>\n",
       "      <td>MICHELLE</td>\n",
       "      <td>L</td>\n",
       "      <td>PREZ</td>\n",
       "      <td>107.0</td>\n",
       "    </tr>\n",
       "  </tbody>\n",
       "</table>\n",
       "</div>"
      ],
      "text/plain": [
       "  First Name   MI Last Name  Adj. FA\n",
       "0     ADRIAN    F     SHAMY     85.0\n",
       "1    SHANICE  NaN   WALTERS     81.0\n",
       "2      SAHIL    K    SHARMA     80.0\n",
       "3     THOMAS    P  ROTHMUND     86.0\n",
       "4   MICHELLE    L      PREZ    107.0"
      ]
     },
     "execution_count": 41,
     "metadata": {},
     "output_type": "execute_result"
    }
   ],
   "source": [
    "police_2019_sample = pd.read_csv('nyc_police_exam_2019_sample.csv')\n",
    "# Round marks to nearest integer again.\n",
    "police_2019_sample['Adj. FA'] = police_2019_sample['Adj. FA'].round()\n",
    "police_2019_sample.head()"
   ]
  },
  {
   "cell_type": "code",
   "execution_count": 42,
   "metadata": {},
   "outputs": [
    {
     "data": {
      "text/plain": [
       "50"
      ]
     },
     "execution_count": 42,
     "metadata": {},
     "output_type": "execute_result"
    }
   ],
   "source": [
    "len(police_2019_sample)"
   ]
  },
  {
   "cell_type": "code",
   "execution_count": 43,
   "metadata": {},
   "outputs": [
    {
     "data": {
      "image/png": "[encoded data removed]",
      "text/plain": [
       "<Figure size 432x288 with 1 Axes>"
      ]
     },
     "metadata": {
      "needs_background": "light"
     },
     "output_type": "display_data"
    }
   ],
   "source": [
    "police_2019_sample.hist('Adj. FA');"
   ]
  },
  {
   "cell_type": "code",
   "execution_count": 44,
   "metadata": {},
   "outputs": [
    {
     "data": {
      "text/plain": [
       "count     50.000000\n",
       "mean      90.580000\n",
       "std        6.749422\n",
       "min       77.000000\n",
       "25%       86.000000\n",
       "50%       92.000000\n",
       "75%       95.750000\n",
       "max      107.000000\n",
       "Name: Adj. FA, dtype: float64"
      ]
     },
     "execution_count": 44,
     "metadata": {},
     "output_type": "execute_result"
    }
   ],
   "source": [
    "police_2019_sample['Adj. FA'].describe()"
   ]
  },
  {
   "cell_type": "code",
   "execution_count": 45,
   "metadata": {},
   "outputs": [
    {
     "data": {
      "text/plain": [
       "92.0"
      ]
     },
     "execution_count": 45,
     "metadata": {},
     "output_type": "execute_result"
    }
   ],
   "source": [
    "# Median mark in 2019 sample.\n",
    "mark_med_2019_samp = police_2019_sample['Adj. FA'].median()\n",
    "mark_med_2019_samp"
   ]
  },
  {
   "cell_type": "markdown",
   "metadata": {},
   "source": [
    "The median here is 60.  That seems a bit lower than the 2017 median --- but\n",
    "have I been deceived by the sample?  Was I just unlucky?   How confident can\n",
    "I be that the median from the full results will in fact be near 60, rather than\n",
    "the 69 of the previous year?"
   ]
  },
  {
   "cell_type": "markdown",
   "metadata": {},
   "source": [
    "We now enter the territory of *confidence intervals*.\n",
    "\n",
    "The sample median is 60, but how close is that median likely to be to the eventual median, once I have all 8000 or so results for 2019?  How *confident* can I be in this median of around 60?"
   ]
  }
 ],
 "metadata": {
  "jupytext": {
   "split_at_heading": true
  },
  "kernelspec": {
   "display_name": "Python 3",
   "language": "python",
   "name": "python3"
  },
  "language_info": {
   "codemirror_mode": {
    "name": "ipython",
    "version": 3
   },
   "file_extension": ".py",
   "mimetype": "text/x-python",
   "name": "python",
   "nbconvert_exporter": "python",
   "pygments_lexer": "ipython3",
   "version": "3.7.6"
  }
 },
 "nbformat": 4,
 "nbformat_minor": 2
}
