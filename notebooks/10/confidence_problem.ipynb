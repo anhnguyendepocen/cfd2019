{
 "cells": [
  {
   "cell_type": "markdown",
   "metadata": {},
   "source": [
    "Imagine for a moment that you are the person who supervises recruitment for the\n",
    "New York City police department.\n",
    "\n",
    "Anyone who wants to be a police officer in New York City, has take a [written\n",
    "exam](https://www1.nyc.gov/site/nypd/careers/police-officers/po-exam.page). The\n",
    "city puts on this exam every year or so.\n",
    "\n",
    "There was a written exam in early 2017; over 10000 people took this exam.\n",
    "\n",
    "Now it is 2019.   This new iteration of the written exam has just finished, and\n",
    "you know that about 13000 people took the exam, but the results are not out\n",
    "yet.  Of course you do have the results from 2017.\n",
    "You are particularly interested in this year's results, because you are worried\n",
    "that candidates are starting to find the exam too easy, especially with all the\n",
    "exam preparation materials that candidates can find and buy.\n",
    "\n",
    "In order to plan for the year ahead, you need to know if the results are\n",
    "holding steady.   But, as things stand, you won't get the full results for 2019\n",
    "for another month.\n",
    "\n",
    "To help your decision-making, you very much want to get an idea of how good the\n",
    "results are this year.  You decide to take a random sample of 55\n",
    "from all the exam papers from this year (2019).  You get them marked quickly.\n",
    "But - how much information will this sample give you about the eventual results\n",
    "for 2019?"
   ]
  },
  {
   "cell_type": "code",
   "execution_count": 1,
   "metadata": {},
   "outputs": [],
   "source": [
    "import numpy as np\n",
    "import pandas as pd\n",
    "import matplotlib.pyplot as plt\n",
    "%matplotlib inline\n",
    "plt.style.use('fivethirtyeight')"
   ]
  },
  {
   "cell_type": "markdown",
   "metadata": {},
   "source": [
    "Here are the\n",
    "[actual](https://github.com/matthew-brett/datasets/tree/22203c1/nyc_civil_list)\n",
    "examination results from the big 2017 police written exam."
   ]
  },
  {
   "cell_type": "markdown",
   "metadata": {},
   "source": [
    "You can download the file from [nyc_police_exam_sept_2017.csv]({{ site.baseurl\n",
    "}}/data/nyc_police_exam_sept_2017.csv)"
   ]
  },
  {
   "cell_type": "code",
   "execution_count": 2,
   "metadata": {},
   "outputs": [
    {
     "data": {
      "text/html": [
       "<div>\n",
       "<style scoped>\n",
       "    .dataframe tbody tr th:only-of-type {\n",
       "        vertical-align: middle;\n",
       "    }\n",
       "\n",
       "    .dataframe tbody tr th {\n",
       "        vertical-align: top;\n",
       "    }\n",
       "\n",
       "    .dataframe thead th {\n",
       "        text-align: right;\n",
       "    }\n",
       "</style>\n",
       "<table border=\"1\" class=\"dataframe\">\n",
       "  <thead>\n",
       "    <tr style=\"text-align: right;\">\n",
       "      <th></th>\n",
       "      <th>First Name</th>\n",
       "      <th>MI</th>\n",
       "      <th>Last Name</th>\n",
       "      <th>Adj. FA</th>\n",
       "    </tr>\n",
       "  </thead>\n",
       "  <tbody>\n",
       "    <tr>\n",
       "      <th>0</th>\n",
       "      <td>RICARDO</td>\n",
       "      <td>J</td>\n",
       "      <td>CRUZ</td>\n",
       "      <td>71.77</td>\n",
       "    </tr>\n",
       "    <tr>\n",
       "      <th>1</th>\n",
       "      <td>PATRICK</td>\n",
       "      <td>M</td>\n",
       "      <td>CARLIN</td>\n",
       "      <td>71.77</td>\n",
       "    </tr>\n",
       "    <tr>\n",
       "      <th>2</th>\n",
       "      <td>QUDUS</td>\n",
       "      <td>NaN</td>\n",
       "      <td>ADEBOWALE</td>\n",
       "      <td>71.77</td>\n",
       "    </tr>\n",
       "    <tr>\n",
       "      <th>3</th>\n",
       "      <td>ERIC</td>\n",
       "      <td>C</td>\n",
       "      <td>ALLBRIGHT</td>\n",
       "      <td>71.77</td>\n",
       "    </tr>\n",
       "    <tr>\n",
       "      <th>4</th>\n",
       "      <td>CRISTIAN</td>\n",
       "      <td>NaN</td>\n",
       "      <td>BENITEZ</td>\n",
       "      <td>71.77</td>\n",
       "    </tr>\n",
       "  </tbody>\n",
       "</table>\n",
       "</div>"
      ],
      "text/plain": [
       "  First Name   MI  Last Name  Adj. FA\n",
       "0    RICARDO    J       CRUZ    71.77\n",
       "1    PATRICK    M     CARLIN    71.77\n",
       "2      QUDUS  NaN  ADEBOWALE    71.77\n",
       "3       ERIC    C  ALLBRIGHT    71.77\n",
       "4   CRISTIAN  NaN    BENITEZ    71.77"
      ]
     },
     "execution_count": 2,
     "metadata": {},
     "output_type": "execute_result"
    }
   ],
   "source": [
    "police_2017 = pd.read_csv('nyc_police_exam_sept_2017.csv')\n",
    "police_2017.head()"
   ]
  },
  {
   "cell_type": "markdown",
   "metadata": {},
   "source": [
    "The exam mark is in the column named `Adj. FA`, short for \"Adjusted Final\n",
    "Average\".\n",
    "\n",
    "For convenience, we round the exam scores to the nearest 0.5:"
   ]
  },
  {
   "cell_type": "code",
   "execution_count": 20,
   "metadata": {},
   "outputs": [],
   "source": [
    "def round_to_p5(vals):\n",
    "    \"\"\" Round values in `vals` to nearest 0.5\n",
    "    \"\"\"\n",
    "    # Multiply by 2, round to nearest integer, and divide by 2 again.\n",
    "    return np.round(vals * 2) / 2"
   ]
  },
  {
   "cell_type": "code",
   "execution_count": 37,
   "metadata": {},
   "outputs": [],
   "source": [
    "marks_2017 = police_2017['Adj. FA']"
   ]
  },
  {
   "cell_type": "markdown",
   "metadata": {},
   "source": [
    "There are about 10000 marks in this table:"
   ]
  },
  {
   "cell_type": "code",
   "execution_count": 38,
   "metadata": {
    "lines_to_next_cell": 2
   },
   "outputs": [
    {
     "data": {
      "text/plain": [
       "10987"
      ]
     },
     "execution_count": 38,
     "metadata": {},
     "output_type": "execute_result"
    }
   ],
   "source": [
    "len(marks_2017)"
   ]
  },
  {
   "cell_type": "markdown",
   "metadata": {},
   "source": [
    "Here is the histogram:"
   ]
  },
  {
   "cell_type": "code",
   "execution_count": 39,
   "metadata": {
    "lines_to_next_cell": 2
   },
   "outputs": [
    {
     "data": {
      "image/png": "[encoded data removed]",
      "text/plain": [
       "<Figure size 432x288 with 1 Axes>"
      ]
     },
     "metadata": {
      "needs_background": "light"
     },
     "output_type": "display_data"
    }
   ],
   "source": [
    "marks_2017.hist(bins=100);"
   ]
  },
  {
   "cell_type": "markdown",
   "metadata": {},
   "source": [
    "Here are the various statistics for the 2017 marks:"
   ]
  },
  {
   "cell_type": "code",
   "execution_count": 40,
   "metadata": {},
   "outputs": [
    {
     "data": {
      "text/plain": [
       "count    10987.000000\n",
       "mean        89.164978\n",
       "std          7.054645\n",
       "min         70.590000\n",
       "25%         84.710000\n",
       "50%         89.710000\n",
       "75%         94.410000\n",
       "max        114.410000\n",
       "Name: Adj. FA, dtype: float64"
      ]
     },
     "execution_count": 40,
     "metadata": {},
     "output_type": "execute_result"
    }
   ],
   "source": [
    "marks_2017.describe()"
   ]
  },
  {
   "cell_type": "markdown",
   "metadata": {},
   "source": [
    "We are particularly interested in the median.  As you remember, this is the 50% percentile, that you see in the table above."
   ]
  },
  {
   "cell_type": "code",
   "execution_count": 41,
   "metadata": {},
   "outputs": [
    {
     "data": {
      "text/plain": [
       "89.16497770091928"
      ]
     },
     "execution_count": 41,
     "metadata": {},
     "output_type": "execute_result"
    }
   ],
   "source": [
    "# Median mark in 2017.\n",
    "med_2017 = marks_2017.mean()\n",
    "med_2017"
   ]
  },
  {
   "cell_type": "markdown",
   "metadata": {},
   "source": [
    "Now we look at the sample of 55 exams from 2019 that you marked quickly.\n",
    "\n",
    "You can download the sample file from [nyc_police_exam_2019_sample.csv]({{\n",
    "site.baseurl }}/data/nyc_police_exam_2019_sample.csv)"
   ]
  },
  {
   "cell_type": "code",
   "execution_count": 43,
   "metadata": {},
   "outputs": [
    {
     "data": {
      "text/plain": [
       "0    105.0\n",
       "1     97.0\n",
       "2     78.0\n",
       "3     81.0\n",
       "4     92.0\n",
       "Name: Adj. FA, dtype: float64"
      ]
     },
     "execution_count": 43,
     "metadata": {},
     "output_type": "execute_result"
    }
   ],
   "source": [
    "police_2019_sample = pd.read_csv('nyc_police_exam_2019_sample.csv')\n",
    "# Round marks to nearest 0.5 again.\n",
    "marks_2019_sample = police_2019_sample['Adj. FA']\n",
    "marks_2019_sample.head()"
   ]
  },
  {
   "cell_type": "code",
   "execution_count": 28,
   "metadata": {},
   "outputs": [
    {
     "data": {
      "text/plain": [
       "55"
      ]
     },
     "execution_count": 28,
     "metadata": {},
     "output_type": "execute_result"
    }
   ],
   "source": [
    "len(marks_2019_sample)"
   ]
  },
  {
   "cell_type": "code",
   "execution_count": 44,
   "metadata": {},
   "outputs": [
    {
     "data": {
      "image/png": "[encoded data removed]",
      "text/plain": [
       "<Figure size 432x288 with 1 Axes>"
      ]
     },
     "metadata": {
      "needs_background": "light"
     },
     "output_type": "display_data"
    }
   ],
   "source": [
    "marks_2019_sample.hist(bins=20);"
   ]
  },
  {
   "cell_type": "code",
   "execution_count": 30,
   "metadata": {},
   "outputs": [
    {
     "data": {
      "text/plain": [
       "count     55.000000\n",
       "mean      91.200000\n",
       "std        6.786151\n",
       "min       78.000000\n",
       "25%       86.500000\n",
       "50%       92.000000\n",
       "75%       95.500000\n",
       "max      109.000000\n",
       "Name: Adj. FA, dtype: float64"
      ]
     },
     "execution_count": 30,
     "metadata": {},
     "output_type": "execute_result"
    }
   ],
   "source": [
    "marks_2019_sample.describe()"
   ]
  },
  {
   "cell_type": "code",
   "execution_count": 45,
   "metadata": {},
   "outputs": [
    {
     "data": {
      "text/plain": [
       "91.2"
      ]
     },
     "execution_count": 45,
     "metadata": {},
     "output_type": "execute_result"
    }
   ],
   "source": [
    "# Median mark in 2019 sample.\n",
    "med_2019_samp = marks_2019_sample.mean()\n",
    "med_2019_samp"
   ]
  },
  {
   "cell_type": "markdown",
   "metadata": {},
   "source": [
    "The median here is 92.  That seems a bit higher than the 2017 median --- but\n",
    "have I been deceived by the sample?  Was I just unlucky?   How confident can I\n",
    "be that the median from the full results will be 91, or 92, or 93, rather than\n",
    "the 90 of the previous year?"
   ]
  },
  {
   "cell_type": "markdown",
   "metadata": {},
   "source": [
    "We now enter the territory of *confidence intervals*.\n",
    "\n",
    "The sample median is 92, but how close is that median likely to be to the\n",
    "eventual median, once I have all 13000 or so results for 2019?  How *confident*\n",
    "can I be in this median of around 92?"
   ]
  }
 ],
 "metadata": {
  "jupytext": {
   "split_at_heading": true
  },
  "kernelspec": {
   "display_name": "Python 3",
   "language": "python",
   "name": "python3"
  },
  "language_info": {
   "codemirror_mode": {
    "name": "ipython",
    "version": 3
   },
   "file_extension": ".py",
   "mimetype": "text/x-python",
   "name": "python",
   "nbconvert_exporter": "python",
   "pygments_lexer": "ipython3",
   "version": "3.7.6"
  }
 },
 "nbformat": 4,
 "nbformat_minor": 2
}
