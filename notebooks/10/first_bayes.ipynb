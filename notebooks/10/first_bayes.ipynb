{
 "cells": [
  {
   "cell_type": "markdown",
   "metadata": {},
   "source": [
    "In the [problem for the education minister]({{ site.baseurl\n",
    "}}/chapters/10/havana_math) we had a sample of fast-track-marked exams from\n",
    "2019, and we found that the median mark was 60.  We wondered what we could say\n",
    "about the eventual median when we have the marks for all 8000 or so students.\n",
    "\n",
    "For example, we might wonder how likely it is that the eventual median will be\n",
    "69, as it was in 2018.  Or we might wonder whether we could be say that the\n",
    "eventual median for all the papers will be the sample median 60, plus or minus\n",
    "a bit.   If so, what value should we give to \"a bit\".\n",
    "\n",
    "This kind of problem can be called a problem of *reverse probability*.  We\n",
    "have observed some outcome from our sample -- 60 -- and we want to be able to\n",
    "say something about the *population* from which the sample came -- in our\n",
    "case, the population of all 8000 or so exam marks."
   ]
  },
  {
   "cell_type": "markdown",
   "metadata": {},
   "source": [
    "## A reverse probability game\n",
    "\n",
    "Imagine I offer you one of two boxes.\n",
    "\n",
    "One box has four red balls and one green ball.  Call this 'box4'.\n",
    "\n",
    "The other box has two red balls and three green balls.  Call this 'box2'.\n",
    "\n",
    "I haven't told you which box I gave you, but I do tell you that I chose the\n",
    "box at random, so you have a 50% chance that I gave you 'box4' and a 50%\n",
    "chance I gave you 'box2'.\n",
    "\n",
    "Now let's say that you shake the box to shuffle the balls, then close your\n",
    "eyes, and take out one ball.  You open your eyes to find you have a red ball.\n",
    "\n",
    "What is the chance that I gave you 'box4'?\n",
    "\n",
    "Notice that this is *reverse probability* problem.  You are working back from what you see (the red ball) to what I gave you.\n",
    "\n",
    "In our exam mark problem, we are working back from what we saw (the median of\n",
    "60) to the eventual median for all the exams.\n",
    "\n",
    "How are we going to solve the box4, box2 reverse probability problem?  Simulation!"
   ]
  },
  {
   "cell_type": "code",
   "execution_count": 1,
   "metadata": {},
   "outputs": [],
   "source": [
    "import numpy as np\n",
    "import pandas as pd\n",
    "import matplotlib.pyplot as plt\n",
    "%matplotlib inline"
   ]
  },
  {
   "cell_type": "code",
   "execution_count": 2,
   "metadata": {},
   "outputs": [
    {
     "data": {
      "text/plain": [
       "array(['red', 'red', 'red', 'red', 'green'], dtype='<U5')"
      ]
     },
     "execution_count": 2,
     "metadata": {},
     "output_type": "execute_result"
    }
   ],
   "source": [
    "# Make a box with 4 red balls and 1 green ball\n",
    "box4 = np.repeat(['red', 'green'], [4, 1])\n",
    "box4"
   ]
  },
  {
   "cell_type": "code",
   "execution_count": 3,
   "metadata": {},
   "outputs": [
    {
     "data": {
      "text/plain": [
       "array(['red', 'red', 'green', 'green', 'green'], dtype='<U5')"
      ]
     },
     "execution_count": 3,
     "metadata": {},
     "output_type": "execute_result"
    }
   ],
   "source": [
    "# Make a box with 2 red balls and 3 green balls\n",
    "box2 = np.repeat(['red', 'green'], [2, 3])\n",
    "box2"
   ]
  },
  {
   "cell_type": "markdown",
   "metadata": {},
   "source": [
    "Now we make 10000 trials, where we:\n",
    "\n",
    "* Choose box2 or box4 at random;\n",
    "* Choose a ball at random from the resulting box."
   ]
  },
  {
   "cell_type": "code",
   "execution_count": 4,
   "metadata": {},
   "outputs": [],
   "source": [
    "n_iters = 10000\n",
    "box_nos = np.repeat([1], n_iters)\n",
    "ball_colors = np.repeat(['green'], n_iters)\n",
    "for i in np.arange(n_iters):\n",
    "    # Choose a box number randomly from box4, box2.\n",
    "    box_no = np.random.choice([4, 2])\n",
    "    # Choose a ball at random from the box.\n",
    "    if box_no == 4:\n",
    "        # Choose a ball at random from box4.\n",
    "        ball_color = np.random.choice(box4)\n",
    "    else:  # box 4\n",
    "        # Choose a ball at random from box2.\n",
    "        ball_color = np.random.choice(box2)\n",
    "    # Store the results.\n",
    "    box_nos[i] = box_no\n",
    "    ball_colors[i] = ball_color"
   ]
  },
  {
   "cell_type": "markdown",
   "metadata": {},
   "source": [
    "Last we put the results into a data frame for convenience:"
   ]
  },
  {
   "cell_type": "code",
   "execution_count": 5,
   "metadata": {},
   "outputs": [
    {
     "data": {
      "text/html": [
       "<div>\n",
       "<style scoped>\n",
       "    .dataframe tbody tr th:only-of-type {\n",
       "        vertical-align: middle;\n",
       "    }\n",
       "\n",
       "    .dataframe tbody tr th {\n",
       "        vertical-align: top;\n",
       "    }\n",
       "\n",
       "    .dataframe thead th {\n",
       "        text-align: right;\n",
       "    }\n",
       "</style>\n",
       "<table border=\"1\" class=\"dataframe\">\n",
       "  <thead>\n",
       "    <tr style=\"text-align: right;\">\n",
       "      <th></th>\n",
       "      <th>box no</th>\n",
       "      <th>ball color</th>\n",
       "    </tr>\n",
       "  </thead>\n",
       "  <tbody>\n",
       "    <tr>\n",
       "      <th>0</th>\n",
       "      <td>2</td>\n",
       "      <td>green</td>\n",
       "    </tr>\n",
       "    <tr>\n",
       "      <th>1</th>\n",
       "      <td>2</td>\n",
       "      <td>green</td>\n",
       "    </tr>\n",
       "    <tr>\n",
       "      <th>2</th>\n",
       "      <td>4</td>\n",
       "      <td>red</td>\n",
       "    </tr>\n",
       "    <tr>\n",
       "      <th>3</th>\n",
       "      <td>2</td>\n",
       "      <td>green</td>\n",
       "    </tr>\n",
       "    <tr>\n",
       "      <th>4</th>\n",
       "      <td>4</td>\n",
       "      <td>red</td>\n",
       "    </tr>\n",
       "  </tbody>\n",
       "</table>\n",
       "</div>"
      ],
      "text/plain": [
       "   box no ball color\n",
       "0       2      green\n",
       "1       2      green\n",
       "2       4        red\n",
       "3       2      green\n",
       "4       4        red"
      ]
     },
     "execution_count": 5,
     "metadata": {},
     "output_type": "execute_result"
    }
   ],
   "source": [
    "# Make these into a data frame.\n",
    "trial_results = pd.DataFrame()\n",
    "trial_results['box no'] = box_nos\n",
    "trial_results['ball color'] = ball_colors\n",
    "trial_results.head()"
   ]
  },
  {
   "cell_type": "markdown",
   "metadata": {},
   "source": [
    "Now we can see the proportion of trials on which we got a red ball, where the box we had got was box4."
   ]
  },
  {
   "cell_type": "code",
   "execution_count": 6,
   "metadata": {},
   "outputs": [
    {
     "data": {
      "text/plain": [
       "0.6756122106675613"
      ]
     },
     "execution_count": 6,
     "metadata": {},
     "output_type": "execute_result"
    }
   ],
   "source": [
    "# Of the trials giving a red ball, what proportion came from box 4?\n",
    "red_ball_trials = trial_results[trial_results['ball color'] == 'red']\n",
    "p_box4 = np.count_nonzero(red_ball_trials['box no'] == 4) / len(red_ball_trials)\n",
    "p_box4"
   ]
  },
  {
   "cell_type": "markdown",
   "metadata": {},
   "source": [
    "Of the trials giving a red ball about 66% came from box4.   If we see a red ball, there is a 66% chance we have sampled from box4.\n",
    "\n",
    "You have just solved your first problem in reverse probability.  The problem\n",
    "will soon reveal a simple calculation in probability called [Bayes\n",
    "theorem](https://en.wikipedia.org/wiki/Bayes'_theorem).\n",
    "\n",
    "This is a fundamental building block, so let's go back over the simulation, to think about why we got this number.\n",
    "\n",
    "We can think of all these trials as coming about from a branching tree.\n",
    "\n",
    "At the first branching point, we split into two branches, each of width 0.5,\n",
    "one for box4 and one for box2.  Thus, about 50% of the trials are \"box4\"\n",
    "trials, and around 50% are \"box2\" trials:"
   ]
  },
  {
   "cell_type": "code",
   "execution_count": 7,
   "metadata": {},
   "outputs": [
    {
     "name": "stdout",
     "output_type": "stream",
     "text": [
      "Box4 proportion 0.5013\n",
      "Box2 proportion 0.4987\n"
     ]
    }
   ],
   "source": [
    "box4_trials = trial_results[trial_results['box no'] == 4]\n",
    "box2_trials = trial_results[trial_results['box no'] == 2]\n",
    "n_trials = len(trial_results)\n",
    "print('Box4 proportion', len(box4_trials) / n_trials)\n",
    "print('Box2 proportion', len(box2_trials) / n_trials)"
   ]
  },
  {
   "cell_type": "markdown",
   "metadata": {},
   "source": [
    "At the second branching point, each branch splits into two.\n",
    "\n",
    "* The box4 branch splits into a \"red\" branch, which carries 4/5 (0.8, 80%) of\n",
    "  the box4 trials, and a \"green\" branch, that carries 1/5 (0.2, 20%) of the\n",
    "  box4 trials, because the probability of getting a red ball from box4 is 4 in\n",
    "  5.\n",
    "* The box2 branch splits into a \"red\" branch, which carries 2/5 (0.4, 40%) of\n",
    "  the box2 trials, and a \"green\" branch, which carries 3/5 (0.6, 60%) of the\n",
    "  box2 trials, because the probability of getting a red ball from box2 is 2 in\n",
    "  5.\n",
    "\n",
    "Thus the proportion of trials that are *both* from box4 *and* give a red ball\n",
    "is 0.5 (the width of the box4 branch) * 0.8 (the proportion of box4 trials\n",
    "that give red) = 0.4."
   ]
  },
  {
   "cell_type": "code",
   "execution_count": 8,
   "metadata": {},
   "outputs": [
    {
     "name": "stdout",
     "output_type": "stream",
     "text": [
      "Box4 and red proportion 0.4028\n"
     ]
    }
   ],
   "source": [
    "box4_and_red = box4_trials[box4_trials['ball color'] == 'red']\n",
    "prop_box4_and_red = len(box4_and_red) / n_trials\n",
    "print('Box4 and red proportion', prop_box4_and_red)"
   ]
  },
  {
   "cell_type": "markdown",
   "metadata": {},
   "source": [
    "The proportion of trials that are *both* from box2 *and* give a red ball\n",
    "is 0.5 (the width of the box2 branch) * 0.4 (the proportion of box2 trials\n",
    "that give red) = 0.2."
   ]
  },
  {
   "cell_type": "code",
   "execution_count": 9,
   "metadata": {},
   "outputs": [
    {
     "name": "stdout",
     "output_type": "stream",
     "text": [
      "Box2 and red proportion 0.1934\n"
     ]
    }
   ],
   "source": [
    "box2_and_red = box2_trials[box2_trials['ball color'] == 'red']\n",
    "prop_box2_and_red = len(box2_and_red) / n_trials\n",
    "print('Box2 and red proportion', prop_box2_and_red)"
   ]
  },
  {
   "cell_type": "markdown",
   "metadata": {},
   "source": [
    "We get the overall proportion of red by adding the proportion that is box4 *and* red to the proportion that is box2 *and* red, because these are all the red trials.  This is 0.4 + 0.2 = 0.6."
   ]
  },
  {
   "cell_type": "code",
   "execution_count": 10,
   "metadata": {},
   "outputs": [
    {
     "name": "stdout",
     "output_type": "stream",
     "text": [
      "Overall proportion of red 0.5962\n"
     ]
    }
   ],
   "source": [
    "n_red = len(box4_and_red) + len(box2_and_red)\n",
    "prop_red = n_red / n_trials\n",
    "print('Overall proportion of red', prop_red)"
   ]
  },
  {
   "cell_type": "markdown",
   "metadata": {},
   "source": [
    "We've already discovered about that 0.4 (40%) of all trials are box4 *and* red.  So the proportion of *all* red trials, that are box4 *and* red, is 0.4 / 0.6 = 0.666."
   ]
  },
  {
   "cell_type": "code",
   "execution_count": 11,
   "metadata": {},
   "outputs": [
    {
     "name": "stdout",
     "output_type": "stream",
     "text": [
      "Proportion of all red trials that are box4 0.6756122106675613\n"
     ]
    }
   ],
   "source": [
    "print('Proportion of all red trials that are box4', (prop_box4_and_red / prop_red))"
   ]
  },
  {
   "cell_type": "markdown",
   "metadata": {},
   "source": [
    "To go over the logic again:\n",
    "\n",
    "* We want the proportion of \"red\" trials that came from box4.\n",
    "* To do this, we calculate the proportion of trials that are *both* box4 and\n",
    "  red, and divide by the overall proportion of red trials.\n",
    "* The proportion of red trials that are *both* box4 *and* red is the\n",
    "  proportion of box4 trials multiplied by (the proportion of box4 trials that\n",
    "  are red).\n",
    "\n",
    "We have just [discovered Bayes theorem]({{ site.baseurl\n",
    "}}/chapters/10/bayes_theorem)."
   ]
  }
 ],
 "metadata": {
  "jupytext": {
   "notebook_metadata_filter": "all,-language_info",
   "split_at_heading": true,
   "text_representation": {
    "extension": ".Rmd",
    "format_name": "rmarkdown",
    "format_version": "1.1",
    "jupytext_version": "1.2.4"
   }
  },
  "kernelspec": {
   "display_name": "Python 3",
   "language": "python",
   "name": "python3"
  },
  "language_info": {
   "codemirror_mode": {
    "name": "ipython",
    "version": 3
   },
   "file_extension": ".py",
   "mimetype": "text/x-python",
   "name": "python",
   "nbconvert_exporter": "python",
   "pygments_lexer": "ipython3",
   "version": "3.7.6"
  }
 },
 "nbformat": 4,
 "nbformat_minor": 2
}
