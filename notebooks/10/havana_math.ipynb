{
 "cells": [
  {
   "cell_type": "markdown",
   "metadata": {},
   "source": [
    "Imagine for a moment that you are the minister of education in Cuba.\n",
    "\n",
    "It is 2019.   The final school exams have just finished, but the results are not\n",
    "out yet.  Of course you do have the results from 2018.\n",
    "\n",
    "You are particularly interested in this year's results in Havana, because of\n",
    "recent problems that you have had with loss of teachers due to emigration.\n",
    "\n",
    "In order to plan for the year ahead, you need to know if the mathematics\n",
    "results are holding steady.   But the marking will take time, you won't get\n",
    "the full results for 2019 for another month.\n",
    "\n",
    "To help your decision-making, you very much want to get an idea of how good\n",
    "the results are this year.   Being wise, you decided to take a random sample\n",
    "of 50 from all the exam papers from Havana this year (2019).  You get them\n",
    "marked quickly.   But - how much information will this sample give you about\n",
    "the eventual results for 2019?"
   ]
  },
  {
   "cell_type": "code",
   "execution_count": 1,
   "metadata": {},
   "outputs": [],
   "source": [
    "import numpy as np\n",
    "# Make printing of numbers a bit neater.\n",
    "np.set_printoptions(precision=4, suppress=True)\n",
    "import pandas as pd\n",
    "import matplotlib.pyplot as plt\n",
    "%matplotlib inline\n",
    "plt.style.use('fivethirtyeight')"
   ]
  },
  {
   "cell_type": "markdown",
   "metadata": {},
   "source": [
    "Here are the\n",
    "[actual](https://github.com/matthew-brett/datasets/tree/abb224b/havana_exams)\n",
    "school-leaver mathematics examination results from 2018."
   ]
  },
  {
   "cell_type": "markdown",
   "metadata": {},
   "source": [
    "You can download the file from\n",
    "[havana_math_2018.csv]({{ site.baseurl }}/data/havana_math_2018.csv)."
   ]
  },
  {
   "cell_type": "code",
   "execution_count": 2,
   "metadata": {},
   "outputs": [
    {
     "data": {
      "text/html": [
       "<div>\n",
       "<style scoped>\n",
       "    .dataframe tbody tr th:only-of-type {\n",
       "        vertical-align: middle;\n",
       "    }\n",
       "\n",
       "    .dataframe tbody tr th {\n",
       "        vertical-align: top;\n",
       "    }\n",
       "\n",
       "    .dataframe thead th {\n",
       "        text-align: right;\n",
       "    }\n",
       "</style>\n",
       "<table border=\"1\" class=\"dataframe\">\n",
       "  <thead>\n",
       "    <tr style=\"text-align: right;\">\n",
       "      <th></th>\n",
       "      <th>school</th>\n",
       "      <th>school_type</th>\n",
       "      <th>id</th>\n",
       "      <th>name</th>\n",
       "      <th>mark</th>\n",
       "    </tr>\n",
       "  </thead>\n",
       "  <tbody>\n",
       "    <tr>\n",
       "      <th>0</th>\n",
       "      <td>2300-VLADIMIR I. LENIN</td>\n",
       "      <td>Institutos Preuniversitarios</td>\n",
       "      <td>92066898</td>\n",
       "      <td>ABREU ALBA DANIELA</td>\n",
       "      <td>99.0</td>\n",
       "    </tr>\n",
       "    <tr>\n",
       "      <th>1</th>\n",
       "      <td>2300-VLADIMIR I. LENIN</td>\n",
       "      <td>Institutos Preuniversitarios</td>\n",
       "      <td>51166516</td>\n",
       "      <td>ACEN RAVELO THALIA</td>\n",
       "      <td>98.0</td>\n",
       "    </tr>\n",
       "    <tr>\n",
       "      <th>2</th>\n",
       "      <td>2300-VLADIMIR I. LENIN</td>\n",
       "      <td>Institutos Preuniversitarios</td>\n",
       "      <td>121568242</td>\n",
       "      <td>ACOSTA MERIÑO YORDAN CESAR</td>\n",
       "      <td>85.0</td>\n",
       "    </tr>\n",
       "    <tr>\n",
       "      <th>3</th>\n",
       "      <td>2300-VLADIMIR I. LENIN</td>\n",
       "      <td>Institutos Preuniversitarios</td>\n",
       "      <td>51975208</td>\n",
       "      <td>AGUADO VALDEZ IRAN DE JESUS</td>\n",
       "      <td>98.0</td>\n",
       "    </tr>\n",
       "    <tr>\n",
       "      <th>4</th>\n",
       "      <td>2300-VLADIMIR I. LENIN</td>\n",
       "      <td>Institutos Preuniversitarios</td>\n",
       "      <td>122867542</td>\n",
       "      <td>AGUILAR CESPEDES DANILO</td>\n",
       "      <td>100.0</td>\n",
       "    </tr>\n",
       "  </tbody>\n",
       "</table>\n",
       "</div>"
      ],
      "text/plain": [
       "                   school                   school_type         id  \\\n",
       "0  2300-VLADIMIR I. LENIN  Institutos Preuniversitarios   92066898   \n",
       "1  2300-VLADIMIR I. LENIN  Institutos Preuniversitarios   51166516   \n",
       "2  2300-VLADIMIR I. LENIN  Institutos Preuniversitarios  121568242   \n",
       "3  2300-VLADIMIR I. LENIN  Institutos Preuniversitarios   51975208   \n",
       "4  2300-VLADIMIR I. LENIN  Institutos Preuniversitarios  122867542   \n",
       "\n",
       "                          name   mark  \n",
       "0           ABREU ALBA DANIELA   99.0  \n",
       "1           ACEN RAVELO THALIA   98.0  \n",
       "2   ACOSTA MERIÑO YORDAN CESAR   85.0  \n",
       "3  AGUADO VALDEZ IRAN DE JESUS   98.0  \n",
       "4      AGUILAR CESPEDES DANILO  100.0  "
      ]
     },
     "execution_count": 2,
     "metadata": {},
     "output_type": "execute_result"
    }
   ],
   "source": [
    "havana_2018 = pd.read_csv('havana_math_2018.csv')\n",
    "# Drop missing marks.\n",
    "havana_2018 = havana_2018.dropna()\n",
    "havana_2018.head()"
   ]
  },
  {
   "cell_type": "markdown",
   "metadata": {},
   "source": [
    "There are about 7300 marks in this table:"
   ]
  },
  {
   "cell_type": "code",
   "execution_count": 3,
   "metadata": {},
   "outputs": [
    {
     "data": {
      "text/plain": [
       "7306"
      ]
     },
     "execution_count": 3,
     "metadata": {},
     "output_type": "execute_result"
    }
   ],
   "source": [
    "len(havana_2018)"
   ]
  },
  {
   "cell_type": "markdown",
   "metadata": {},
   "source": [
    "Here is the histogram, split into 100 bins to show more detail of the\n",
    "distribution --- the default is 10 bins (question --- how would you check\n",
    "this?)."
   ]
  },
  {
   "cell_type": "code",
   "execution_count": 4,
   "metadata": {},
   "outputs": [
    {
     "data": {
      "image/png": "[encoded data removed]",
      "text/plain": [
       "<Figure size 432x288 with 1 Axes>"
      ]
     },
     "metadata": {
      "needs_background": "light"
     },
     "output_type": "display_data"
    }
   ],
   "source": [
    "havana_2018.hist('mark', bins=100);"
   ]
  },
  {
   "cell_type": "markdown",
   "metadata": {},
   "source": [
    "Notice this is much unlike a normal distribution,  In particular, you can see\n",
    "that the marks near 50% - appear to have been pushed upwards to 60%.  Maybe the\n",
    "markers are being generous to students close to the pass mark."
   ]
  },
  {
   "cell_type": "markdown",
   "metadata": {},
   "source": [
    "Here are the various statistics for the 2018 marks:"
   ]
  },
  {
   "cell_type": "code",
   "execution_count": 5,
   "metadata": {},
   "outputs": [
    {
     "data": {
      "text/plain": [
       "count    7306.000000\n",
       "mean       65.256091\n",
       "std        26.697986\n",
       "min         0.000000\n",
       "25%        45.000000\n",
       "50%        69.000000\n",
       "75%        90.000000\n",
       "max       100.000000\n",
       "Name: mark, dtype: float64"
      ]
     },
     "execution_count": 5,
     "metadata": {},
     "output_type": "execute_result"
    }
   ],
   "source": [
    "havana_2018['mark'].describe()"
   ]
  },
  {
   "cell_type": "markdown",
   "metadata": {},
   "source": [
    "We are particularly interested in the mean."
   ]
  },
  {
   "cell_type": "code",
   "execution_count": 6,
   "metadata": {},
   "outputs": [
    {
     "data": {
      "text/plain": [
       "65.25609088420477"
      ]
     },
     "execution_count": 6,
     "metadata": {},
     "output_type": "execute_result"
    }
   ],
   "source": [
    "# Mean mark in 2018.\n",
    "math_med_2018 = havana_2018['mark'].mean()\n",
    "math_med_2018"
   ]
  },
  {
   "cell_type": "markdown",
   "metadata": {},
   "source": [
    "Now we look at the sample of 50 exams from 2019 that you marked quickly.\n",
    "\n",
    "You can download the sample file from\n",
    "[havana_math_2019_sample.csv]({{ site.baseurl }}/data/havana_math_2019_sample.csv)."
   ]
  },
  {
   "cell_type": "code",
   "execution_count": 7,
   "metadata": {},
   "outputs": [
    {
     "data": {
      "text/html": [
       "<div>\n",
       "<style scoped>\n",
       "    .dataframe tbody tr th:only-of-type {\n",
       "        vertical-align: middle;\n",
       "    }\n",
       "\n",
       "    .dataframe tbody tr th {\n",
       "        vertical-align: top;\n",
       "    }\n",
       "\n",
       "    .dataframe thead th {\n",
       "        text-align: right;\n",
       "    }\n",
       "</style>\n",
       "<table border=\"1\" class=\"dataframe\">\n",
       "  <thead>\n",
       "    <tr style=\"text-align: right;\">\n",
       "      <th></th>\n",
       "      <th>school</th>\n",
       "      <th>school_type</th>\n",
       "      <th>id</th>\n",
       "      <th>name</th>\n",
       "      <th>mark</th>\n",
       "    </tr>\n",
       "  </thead>\n",
       "  <tbody>\n",
       "    <tr>\n",
       "      <th>0</th>\n",
       "      <td>2308-JOSE MARTI (H.VIEJA)</td>\n",
       "      <td>Institutos Preuniversitarios</td>\n",
       "      <td>1092468439</td>\n",
       "      <td>GONZALEZ CHAO SUANY DE LAS MERCEDES</td>\n",
       "      <td>52.0</td>\n",
       "    </tr>\n",
       "    <tr>\n",
       "      <th>1</th>\n",
       "      <td>2304-SAUL DELGADO</td>\n",
       "      <td>Institutos Preuniversitarios</td>\n",
       "      <td>1120268571</td>\n",
       "      <td>LODEIRO CHANG AIMEE</td>\n",
       "      <td>79.0</td>\n",
       "    </tr>\n",
       "    <tr>\n",
       "      <th>2</th>\n",
       "      <td>2315-12 DE SEPTIEMBRE</td>\n",
       "      <td>Institutos Preuniversitarios</td>\n",
       "      <td>1112967200</td>\n",
       "      <td>BORREGO CABRERA MIGUEL ANGEL</td>\n",
       "      <td>99.0</td>\n",
       "    </tr>\n",
       "    <tr>\n",
       "      <th>3</th>\n",
       "      <td>2323-ROSALIA ABREU</td>\n",
       "      <td>Institutos Preuniversitarios</td>\n",
       "      <td>1110168046</td>\n",
       "      <td>PEREZ MATOS CRISTIAN</td>\n",
       "      <td>88.0</td>\n",
       "    </tr>\n",
       "    <tr>\n",
       "      <th>4</th>\n",
       "      <td>2335-RAMON PADRON</td>\n",
       "      <td>Institutos Preuniversitarios</td>\n",
       "      <td>1100267571</td>\n",
       "      <td>MUSA MEDINA IRENE</td>\n",
       "      <td>67.0</td>\n",
       "    </tr>\n",
       "  </tbody>\n",
       "</table>\n",
       "</div>"
      ],
      "text/plain": [
       "                      school                   school_type          id  \\\n",
       "0  2308-JOSE MARTI (H.VIEJA)  Institutos Preuniversitarios  1092468439   \n",
       "1          2304-SAUL DELGADO  Institutos Preuniversitarios  1120268571   \n",
       "2      2315-12 DE SEPTIEMBRE  Institutos Preuniversitarios  1112967200   \n",
       "3         2323-ROSALIA ABREU  Institutos Preuniversitarios  1110168046   \n",
       "4          2335-RAMON PADRON  Institutos Preuniversitarios  1100267571   \n",
       "\n",
       "                                  name  mark  \n",
       "0  GONZALEZ CHAO SUANY DE LAS MERCEDES  52.0  \n",
       "1                  LODEIRO CHANG AIMEE  79.0  \n",
       "2         BORREGO CABRERA MIGUEL ANGEL  99.0  \n",
       "3                 PEREZ MATOS CRISTIAN  88.0  \n",
       "4                    MUSA MEDINA IRENE  67.0  "
      ]
     },
     "execution_count": 7,
     "metadata": {},
     "output_type": "execute_result"
    }
   ],
   "source": [
    "havana_2019_sample = pd.read_csv('havana_math_2019_sample.csv')\n",
    "havana_2019_sample.head()"
   ]
  },
  {
   "cell_type": "code",
   "execution_count": 8,
   "metadata": {},
   "outputs": [
    {
     "data": {
      "text/plain": [
       "50"
      ]
     },
     "execution_count": 8,
     "metadata": {},
     "output_type": "execute_result"
    }
   ],
   "source": [
    "len(havana_2019_sample)"
   ]
  },
  {
   "cell_type": "code",
   "execution_count": 9,
   "metadata": {},
   "outputs": [
    {
     "data": {
      "text/plain": [
       "count    50.000000\n",
       "mean     58.740000\n",
       "std      22.898899\n",
       "min       0.000000\n",
       "25%      40.250000\n",
       "50%      61.000000\n",
       "75%      71.750000\n",
       "max      99.000000\n",
       "Name: mark, dtype: float64"
      ]
     },
     "execution_count": 9,
     "metadata": {},
     "output_type": "execute_result"
    }
   ],
   "source": [
    "havana_2019_sample['mark'].describe()"
   ]
  },
  {
   "cell_type": "code",
   "execution_count": 10,
   "metadata": {},
   "outputs": [
    {
     "data": {
      "text/plain": [
       "58.74"
      ]
     },
     "execution_count": 10,
     "metadata": {},
     "output_type": "execute_result"
    }
   ],
   "source": [
    "# Mean mark in 2019 sample.\n",
    "math_med_2019_samp = havana_2019_sample['mark'].mean()\n",
    "math_med_2019_samp"
   ]
  },
  {
   "cell_type": "markdown",
   "metadata": {},
   "source": [
    "The mean here is 58.74.  That seems a bit lower than the 2018 mean --- but have\n",
    "I been deceived by the sample?  Was I just unlucky?   How confident can I be\n",
    "that the mean from the full results will in fact be near 58.74, rather than the\n",
    "65.25 or so of the previous year?"
   ]
  },
  {
   "cell_type": "markdown",
   "metadata": {},
   "source": [
    "We now enter the territory of *confidence intervals*.\n",
    "\n",
    "My question is: how close is my *sample mean* of 58.74 likely to be to the\n",
    "eventual mean, once I have all 7000 or so results for 2019?  How *confident*\n",
    "can I be in this sample mean of around 58.74?"
   ]
  }
 ],
 "metadata": {
  "jupytext": {
   "split_at_heading": true,
   "text_representation": {
    "extension": ".Rmd",
    "format_name": "rmarkdown",
    "format_version": "1.2",
    "jupytext_version": "1.4.2"
   }
  },
  "kernelspec": {
   "display_name": "Python 3",
   "language": "python",
   "name": "python3"
  },
  "language_info": {
   "codemirror_mode": {
    "name": "ipython",
    "version": 3
   },
   "file_extension": ".py",
   "mimetype": "text/x-python",
   "name": "python",
   "nbconvert_exporter": "python",
   "pygments_lexer": "ipython3",
   "version": "3.7.6"
  }
 },
 "nbformat": 4,
 "nbformat_minor": 2
}
