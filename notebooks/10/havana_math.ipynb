{
 "cells": [
  {
   "cell_type": "markdown",
   "metadata": {},
   "source": [
    "Imagine for a moment that you are the minister of education in Cuba.\n",
    "\n",
    "It is 2019.   The final school exams have just finished, but the results are not out yet.  Of course you do have the results from 2018.\n",
    "\n",
    "You are particularly interested in this year's results in Havana, because of recent problems that you have had with loss of teachers due to emigration.\n",
    "\n",
    "In order to plan for the year ahead, you need to know if the mathematics results are holding steady.   But, as things stand, you won't get the full results for 2019 for another month.\n",
    "\n",
    "To help your decision-making, you very much want to get an idea of how good the results are this year.   Being wise, you decided to take a random sample of 50 from all the exam papers from Havana this year (2019).  You get them marked quickly.   But - how much information will this sample give you about the eventual results for 2019?"
   ]
  },
  {
   "cell_type": "code",
   "execution_count": 1,
   "metadata": {},
   "outputs": [],
   "source": [
    "import numpy as np\n",
    "import pandas as pd\n",
    "import matplotlib.pyplot as plt\n",
    "%matplotlib inline\n",
    "plt.style.use('fivethirtyeight')"
   ]
  },
  {
   "cell_type": "markdown",
   "metadata": {},
   "source": [
    "Here are the [actual](https://github.com/matthew-brett/datasets/tree/abb224b/havana_exams) school-leaver mathematics examination results from 2018."
   ]
  },
  {
   "cell_type": "markdown",
   "metadata": {},
   "source": [
    "You can download the file from\n",
    "[havana_math_2018.csv]({{ site.baseurl }}/data/havana_math_2018.csv)."
   ]
  },
  {
   "cell_type": "code",
   "execution_count": 2,
   "metadata": {},
   "outputs": [
    {
     "data": {
      "text/html": [
       "<div>\n",
       "<style scoped>\n",
       "    .dataframe tbody tr th:only-of-type {\n",
       "        vertical-align: middle;\n",
       "    }\n",
       "\n",
       "    .dataframe tbody tr th {\n",
       "        vertical-align: top;\n",
       "    }\n",
       "\n",
       "    .dataframe thead th {\n",
       "        text-align: right;\n",
       "    }\n",
       "</style>\n",
       "<table border=\"1\" class=\"dataframe\">\n",
       "  <thead>\n",
       "    <tr style=\"text-align: right;\">\n",
       "      <th></th>\n",
       "      <th>school</th>\n",
       "      <th>school_type</th>\n",
       "      <th>id</th>\n",
       "      <th>name</th>\n",
       "      <th>mark</th>\n",
       "    </tr>\n",
       "  </thead>\n",
       "  <tbody>\n",
       "    <tr>\n",
       "      <th>0</th>\n",
       "      <td>2300-VLADIMIR I. LENIN</td>\n",
       "      <td>Institutos Preuniversitarios</td>\n",
       "      <td>92066898</td>\n",
       "      <td>ABREU ALBA DANIELA</td>\n",
       "      <td>99.0</td>\n",
       "    </tr>\n",
       "    <tr>\n",
       "      <th>1</th>\n",
       "      <td>2300-VLADIMIR I. LENIN</td>\n",
       "      <td>Institutos Preuniversitarios</td>\n",
       "      <td>51166516</td>\n",
       "      <td>ACEN RAVELO THALIA</td>\n",
       "      <td>98.0</td>\n",
       "    </tr>\n",
       "    <tr>\n",
       "      <th>2</th>\n",
       "      <td>2300-VLADIMIR I. LENIN</td>\n",
       "      <td>Institutos Preuniversitarios</td>\n",
       "      <td>121568242</td>\n",
       "      <td>ACOSTA MERIÑO YORDAN CESAR</td>\n",
       "      <td>85.0</td>\n",
       "    </tr>\n",
       "    <tr>\n",
       "      <th>3</th>\n",
       "      <td>2300-VLADIMIR I. LENIN</td>\n",
       "      <td>Institutos Preuniversitarios</td>\n",
       "      <td>51975208</td>\n",
       "      <td>AGUADO VALDEZ IRAN DE JESUS</td>\n",
       "      <td>98.0</td>\n",
       "    </tr>\n",
       "    <tr>\n",
       "      <th>4</th>\n",
       "      <td>2300-VLADIMIR I. LENIN</td>\n",
       "      <td>Institutos Preuniversitarios</td>\n",
       "      <td>122867542</td>\n",
       "      <td>AGUILAR CESPEDES DANILO</td>\n",
       "      <td>100.0</td>\n",
       "    </tr>\n",
       "  </tbody>\n",
       "</table>\n",
       "</div>"
      ],
      "text/plain": [
       "                   school                   school_type         id  \\\n",
       "0  2300-VLADIMIR I. LENIN  Institutos Preuniversitarios   92066898   \n",
       "1  2300-VLADIMIR I. LENIN  Institutos Preuniversitarios   51166516   \n",
       "2  2300-VLADIMIR I. LENIN  Institutos Preuniversitarios  121568242   \n",
       "3  2300-VLADIMIR I. LENIN  Institutos Preuniversitarios   51975208   \n",
       "4  2300-VLADIMIR I. LENIN  Institutos Preuniversitarios  122867542   \n",
       "\n",
       "                          name   mark  \n",
       "0           ABREU ALBA DANIELA   99.0  \n",
       "1           ACEN RAVELO THALIA   98.0  \n",
       "2   ACOSTA MERIÑO YORDAN CESAR   85.0  \n",
       "3  AGUADO VALDEZ IRAN DE JESUS   98.0  \n",
       "4      AGUILAR CESPEDES DANILO  100.0  "
      ]
     },
     "execution_count": 2,
     "metadata": {},
     "output_type": "execute_result"
    }
   ],
   "source": [
    "havana_2018 = pd.read_csv('havana_math_2018.csv')\n",
    "havana_2018.head()"
   ]
  },
  {
   "cell_type": "markdown",
   "metadata": {},
   "source": [
    "There are about 8000 marks in this table:"
   ]
  },
  {
   "cell_type": "code",
   "execution_count": 3,
   "metadata": {},
   "outputs": [
    {
     "data": {
      "text/plain": [
       "7995"
      ]
     },
     "execution_count": 3,
     "metadata": {},
     "output_type": "execute_result"
    }
   ],
   "source": [
    "len(havana_2018)"
   ]
  },
  {
   "cell_type": "markdown",
   "metadata": {},
   "source": [
    "Here is the histogram, split into 100 bins to show more detail of the distribution --- the default is 10 bins (question --- how would you check this?)."
   ]
  },
  {
   "cell_type": "code",
   "execution_count": 4,
   "metadata": {},
   "outputs": [
    {
     "data": {
      "image/png": "[encoded data removed]",
      "text/plain": [
       "<Figure size 432x288 with 1 Axes>"
      ]
     },
     "metadata": {
      "needs_background": "light"
     },
     "output_type": "display_data"
    }
   ],
   "source": [
    "havana_2018.hist('mark', bins=50);"
   ]
  },
  {
   "cell_type": "markdown",
   "metadata": {},
   "source": [
    "Notice this is much unlike a normal distribution,  In particular, you can see that the marks near 50% - appear to have been pushed upwards to 60%.  Are the markers being generous to students close to the pass mark?"
   ]
  },
  {
   "cell_type": "markdown",
   "metadata": {},
   "source": [
    "Here are the various statistics for the 2018 marks:"
   ]
  },
  {
   "cell_type": "code",
   "execution_count": 5,
   "metadata": {},
   "outputs": [
    {
     "data": {
      "text/plain": [
       "count    7306.000000\n",
       "mean       65.256091\n",
       "std        26.697986\n",
       "min         0.000000\n",
       "25%        45.000000\n",
       "50%        69.000000\n",
       "75%        90.000000\n",
       "max       100.000000\n",
       "Name: mark, dtype: float64"
      ]
     },
     "execution_count": 5,
     "metadata": {},
     "output_type": "execute_result"
    }
   ],
   "source": [
    "havana_2018['mark'].describe()"
   ]
  },
  {
   "cell_type": "markdown",
   "metadata": {},
   "source": [
    "We are particularly interested in the median.  As you remember, this is the 50% percentile, that you see in the table above."
   ]
  },
  {
   "cell_type": "code",
   "execution_count": 6,
   "metadata": {},
   "outputs": [
    {
     "data": {
      "text/plain": [
       "69.0"
      ]
     },
     "execution_count": 6,
     "metadata": {},
     "output_type": "execute_result"
    }
   ],
   "source": [
    "# Median mark in 2018.\n",
    "math_med_2018 = havana_2018['mark'].median()\n",
    "math_med_2018"
   ]
  },
  {
   "cell_type": "markdown",
   "metadata": {},
   "source": [
    "Now we look at the sample of 50 exams from 2019 that you marked quickly.\n",
    "\n",
    "You can download the sample file from\n",
    "[havana_math_2019_sample.csv]({{ site.baseurl }}/data/havana_math_2019_sample.csv)."
   ]
  },
  {
   "cell_type": "code",
   "execution_count": 7,
   "metadata": {},
   "outputs": [
    {
     "data": {
      "text/html": [
       "<div>\n",
       "<style scoped>\n",
       "    .dataframe tbody tr th:only-of-type {\n",
       "        vertical-align: middle;\n",
       "    }\n",
       "\n",
       "    .dataframe tbody tr th {\n",
       "        vertical-align: top;\n",
       "    }\n",
       "\n",
       "    .dataframe thead th {\n",
       "        text-align: right;\n",
       "    }\n",
       "</style>\n",
       "<table border=\"1\" class=\"dataframe\">\n",
       "  <thead>\n",
       "    <tr style=\"text-align: right;\">\n",
       "      <th></th>\n",
       "      <th>school</th>\n",
       "      <th>school_type</th>\n",
       "      <th>id</th>\n",
       "      <th>name</th>\n",
       "      <th>mark</th>\n",
       "    </tr>\n",
       "  </thead>\n",
       "  <tbody>\n",
       "    <tr>\n",
       "      <th>0</th>\n",
       "      <td>2327-PRESENCIA DE CELIA</td>\n",
       "      <td>Institutos Preuniversitarios</td>\n",
       "      <td>1101168160</td>\n",
       "      <td>RAMIREZ SANCHEZ NEYDER</td>\n",
       "      <td>89.0</td>\n",
       "    </tr>\n",
       "    <tr>\n",
       "      <th>1</th>\n",
       "      <td>2305-JOSE MIGUEL PEREZ</td>\n",
       "      <td>Institutos Preuniversitarios</td>\n",
       "      <td>1101066782</td>\n",
       "      <td>LEIVA RAMOS SAMUEL ALEJANDRO</td>\n",
       "      <td>84.0</td>\n",
       "    </tr>\n",
       "    <tr>\n",
       "      <th>2</th>\n",
       "      <td>2313-VILMA ESPIN</td>\n",
       "      <td>Institutos Preuniversitarios</td>\n",
       "      <td>1101167635</td>\n",
       "      <td>NODARSE CASTRO JENNIFER</td>\n",
       "      <td>25.0</td>\n",
       "    </tr>\n",
       "    <tr>\n",
       "      <th>3</th>\n",
       "      <td>2324-MANOLITO AGUIAR</td>\n",
       "      <td>Institutos Preuniversitarios</td>\n",
       "      <td>1033165197</td>\n",
       "      <td>SCULL ORTIZ JESSICA</td>\n",
       "      <td>30.0</td>\n",
       "    </tr>\n",
       "    <tr>\n",
       "      <th>4</th>\n",
       "      <td>2306-TOMAS DAVID ROYO</td>\n",
       "      <td>Institutos Preuniversitarios</td>\n",
       "      <td>1102668498</td>\n",
       "      <td>HERRERA GARCIA REGINA TERESA</td>\n",
       "      <td>97.0</td>\n",
       "    </tr>\n",
       "  </tbody>\n",
       "</table>\n",
       "</div>"
      ],
      "text/plain": [
       "                    school                   school_type          id  \\\n",
       "0  2327-PRESENCIA DE CELIA  Institutos Preuniversitarios  1101168160   \n",
       "1   2305-JOSE MIGUEL PEREZ  Institutos Preuniversitarios  1101066782   \n",
       "2         2313-VILMA ESPIN  Institutos Preuniversitarios  1101167635   \n",
       "3     2324-MANOLITO AGUIAR  Institutos Preuniversitarios  1033165197   \n",
       "4    2306-TOMAS DAVID ROYO  Institutos Preuniversitarios  1102668498   \n",
       "\n",
       "                           name  mark  \n",
       "0        RAMIREZ SANCHEZ NEYDER  89.0  \n",
       "1  LEIVA RAMOS SAMUEL ALEJANDRO  84.0  \n",
       "2       NODARSE CASTRO JENNIFER  25.0  \n",
       "3           SCULL ORTIZ JESSICA  30.0  \n",
       "4  HERRERA GARCIA REGINA TERESA  97.0  "
      ]
     },
     "execution_count": 7,
     "metadata": {},
     "output_type": "execute_result"
    }
   ],
   "source": [
    "havana_2019_sample = pd.read_csv('havana_math_2019_sample.csv')\n",
    "havana_2019_sample.head()"
   ]
  },
  {
   "cell_type": "code",
   "execution_count": 8,
   "metadata": {},
   "outputs": [
    {
     "data": {
      "text/plain": [
       "50"
      ]
     },
     "execution_count": 8,
     "metadata": {},
     "output_type": "execute_result"
    }
   ],
   "source": [
    "len(havana_2019_sample)"
   ]
  },
  {
   "cell_type": "code",
   "execution_count": 9,
   "metadata": {},
   "outputs": [
    {
     "data": {
      "text/plain": [
       "count    45.000000\n",
       "mean     54.511111\n",
       "std      24.015736\n",
       "min       4.000000\n",
       "25%      30.000000\n",
       "50%      60.000000\n",
       "75%      72.000000\n",
       "max      97.000000\n",
       "Name: mark, dtype: float64"
      ]
     },
     "execution_count": 9,
     "metadata": {},
     "output_type": "execute_result"
    }
   ],
   "source": [
    "havana_2019_sample['mark'].describe()"
   ]
  },
  {
   "cell_type": "code",
   "execution_count": 10,
   "metadata": {},
   "outputs": [
    {
     "data": {
      "text/plain": [
       "60.0"
      ]
     },
     "execution_count": 10,
     "metadata": {},
     "output_type": "execute_result"
    }
   ],
   "source": [
    "# Median mark in 2019 sample.\n",
    "math_med_2019_samp = havana_2019_sample['mark'].median()\n",
    "math_med_2019_samp"
   ]
  },
  {
   "cell_type": "markdown",
   "metadata": {},
   "source": [
    "The median here is 60.  That seems a bit lower than the 2018 median --- but have I been decieved by the sample?  Was I just unlucky?   How confident can I be that the median from the full results will in fact be near 60, rather than the 69 of the previous year?"
   ]
  },
  {
   "cell_type": "markdown",
   "metadata": {},
   "source": [
    "We now enter the territory of *confidence intervals*.\n",
    "\n",
    "The sample median is 60, but how close is that median likely to be to the eventual median, once I have all 8000 or so results for 2019?  How *confident* can I be in this median of around 60?"
   ]
  }
 ],
 "metadata": {
  "jupytext": {
   "split_at_heading": true
  },
  "kernelspec": {
   "display_name": "Python 3",
   "language": "python",
   "name": "python3"
  },
  "language_info": {
   "codemirror_mode": {
    "name": "ipython",
    "version": 3
   },
   "file_extension": ".py",
   "mimetype": "text/x-python",
   "name": "python",
   "nbconvert_exporter": "python",
   "pygments_lexer": "ipython3",
   "version": "3.7.6"
  }
 },
 "nbformat": 4,
 "nbformat_minor": 2
}
