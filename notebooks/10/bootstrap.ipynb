{
 "cells": [
  {
   "cell_type": "markdown",
   "metadata": {},
   "source": [
    "The analysis in [Bayes confidence]({{ site.baseurl\n",
    "}}/chapters/10/bayes_confidence) found that we could estimate the probability\n",
    "of a range of population means, given a sample mean.\n",
    "\n",
    "This can be very useful.  In the case of the Havana mathematics marks, it\n",
    "allows you, the minister of education, to make a confident statement about the\n",
    "range of the eventual mean mark for the exams in 2019, when you currently only\n",
    "have a sample of 50 fast-track marks.\n",
    "\n",
    "The problem was that, to simplify the problem, we had to assume that we knew\n",
    "the *sampling distribution of the mean* for a sample of 50 marks.  Lacking\n",
    "anything better, we estimated this distribution using the marks from 2018.  But\n",
    "--- this was an unhappy compromise, because we know that the sampling\n",
    "distribution of the mean depends on the overall distribution of marks, and this\n",
    "might well be different in 2019 than it was in 2018.\n",
    "\n",
    "The question in this page is --- how can we get an estimate of the sampling\n",
    "distribution, *from the sample itself*?\n",
    "\n",
    "This is the job of the strange but beautiful [bootstrap\n",
    "technique](https://en.wikipedia.org/wiki/Bootstrapping_(statistics))\n",
    "\n",
    "We start by loading the sample of 50 marks from 2019."
   ]
  },
  {
   "cell_type": "code",
   "execution_count": 1,
   "metadata": {},
   "outputs": [],
   "source": [
    "import numpy as np\n",
    "# Clean up display of small numbers.  Doesn't affect calculations.\n",
    "np.set_printoptions(precision=4, suppress=True)\n",
    "import pandas as pd\n",
    "import matplotlib.pyplot as plt\n",
    "%matplotlib inline\n",
    "plt.style.use('fivethirtyeight')"
   ]
  },
  {
   "cell_type": "markdown",
   "metadata": {},
   "source": [
    "You can download the sample file from [havana_math_2019_sample.csv]({{\n",
    "site.baseurl }}/data/havana_math_2019_sample.csv)."
   ]
  },
  {
   "cell_type": "code",
   "execution_count": 2,
   "metadata": {},
   "outputs": [
    {
     "data": {
      "text/plain": [
       "58.74"
      ]
     },
     "execution_count": 2,
     "metadata": {},
     "output_type": "execute_result"
    }
   ],
   "source": [
    "havana_2019_sample = pd.read_csv('havana_math_2019_sample.csv')['mark']\n",
    "observed_sample_mean = np.mean(havana_2019_sample)\n",
    "observed_sample_mean"
   ]
  },
  {
   "cell_type": "markdown",
   "metadata": {},
   "source": [
    "We have the mean from this sample, but of course the sample also has a\n",
    "distribution:"
   ]
  },
  {
   "cell_type": "code",
   "execution_count": 3,
   "metadata": {},
   "outputs": [
    {
     "data": {
      "image/png": "[encoded data removed]",
      "text/plain": [
       "<Figure size 432x288 with 1 Axes>"
      ]
     },
     "metadata": {
      "needs_background": "light"
     },
     "output_type": "display_data"
    }
   ],
   "source": [
    "plt.hist(havana_2019_sample)\n",
    "plt.title('Fast-tracked marks for 50 students');"
   ]
  },
  {
   "cell_type": "markdown",
   "metadata": {},
   "source": [
    "We found in [Bayes confidence]({{ site.baseurl\n",
    "}}/chapters/10/bayes_confidence) that we needed the sampling distribution of\n",
    "the mean, in order to find our confidence threshold.\n",
    "\n",
    "Of course, what we would like to do, is to draw lots of new samples of size 50\n",
    "from this population of the 2019 marks, to estimate the sampling distribution,\n",
    "as we did for the 2018 distribution in the previous page.  But - we only have\n",
    "this sample. What can we learn about the sampling distribution of the mean,\n",
    "from this sample of 50 marks?\n",
    "\n",
    "The weird trick of the bootstrap is to *sample from the sample*.  Call our\n",
    "sample of 50 marks above: *the original sample*.  We are going to take new\n",
    "samples of 50 marks *from the original sample*.  Call these *bootstrap\n",
    "samples*.  The bootstrap samples will be something like the samples we would\n",
    "get if we had taken samples of 50 from the whole population.  We can use the\n",
    "spread of the bootstrap samples to give us a \"bootstrap\" estimate of the\n",
    "real sampling distribution, as if we had taken actual new samples from the\n",
    "population.\n",
    "\n",
    "How do we take a new sample of 50 from the original sample of 50?   Clearly, we\n",
    "cannot sample *without replacement*, because any new sample is going to be the\n",
    "same as the original sample, but in a different order, and the order isn't\n",
    "important to us here.\n",
    "\n",
    "What we"
   ]
  }
 ],
 "metadata": {
  "jupytext": {
   "split_at_heading": true,
   "text_representation": {
    "extension": ".Rmd",
    "format_name": "rmarkdown"
   }
  },
  "kernelspec": {
   "display_name": "Python 3",
   "language": "python",
   "name": "python3"
  },
  "language_info": {
   "codemirror_mode": {
    "name": "ipython",
    "version": 3
   },
   "file_extension": ".py",
   "mimetype": "text/x-python",
   "name": "python",
   "nbconvert_exporter": "python",
   "pygments_lexer": "ipython3",
   "version": "3.7.6"
  }
 },
 "nbformat": 4,
 "nbformat_minor": 2
}
