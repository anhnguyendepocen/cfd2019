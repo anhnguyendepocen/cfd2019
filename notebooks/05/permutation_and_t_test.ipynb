{
 "cells": [
  {
   "cell_type": "markdown",
   "metadata": {},
   "source": [
    "# Permutation and the t-test\n",
    "\n",
    "In [the idea of permutation]({{ site.baseurl }}/chapters/05/permutation_idea),\n",
    "we use permutation to compare a difference between two groups of numbers.\n",
    "\n",
    "In our case, each number corresponded to one person in the study.  The number\n",
    "for each subject was the number of mosquitoes flying towards them. The subjects\n",
    "were from two groups: people who had just drunk beer, and people who had just\n",
    "drunk water.   There were 25 subjects who had drunk beer, and therefore, 25\n",
    "numbers of mosquitoes corresponding to the \"beer\" group.  There were 18\n",
    "subjects who had drunk water, and 18 numbers corresponding to the \"water\" group.\n",
    "\n",
    "Here we repeat the permutation test, as a reminder.\n",
    "\n",
    "As before, you can download the data from [mosquito_beer.csv]({{ site.baseurl\n",
    "}}/data/mosquito_beer.csv).\n",
    "\n",
    "See [this\n",
    "page](https://github.com/matthew-brett/datasets/tree/master/mosquito_beer) for\n",
    "more details on the dataset, and [the data license page]({{ site.baseurl\n",
    "}}/data/license).\n"
   ]
  },
  {
   "cell_type": "code",
   "execution_count": 1,
   "metadata": {},
   "outputs": [],
   "source": [
    "# Import Numpy library, rename as \"np\"\n",
    "import numpy as np\n",
    "# Import Pandas library, rename as \"pd\"\n",
    "import pandas as pd\n",
    "\n",
    "# Set up plotting\n",
    "import matplotlib.pyplot as plt\n",
    "%matplotlib inline\n",
    "plt.style.use('fivethirtyeight')"
   ]
  },
  {
   "cell_type": "markdown",
   "metadata": {},
   "source": [
    "Read in the data, get the numbers of mosquitoes flying towards the beer\n",
    "drinkers, and towards the water drinkers, after they had drunk their beer or\n",
    "water.  See the [the idea of permutation]({{ site.baseurl\n",
    "}}/chapters/05/permutation_idea),"
   ]
  },
  {
   "cell_type": "code",
   "execution_count": 2,
   "metadata": {},
   "outputs": [],
   "source": [
    "# Read in the data.\n",
    "mosquitoes = pd.read_csv('mosquito_beer.csv')\n",
    "# Select measurements after subjects had drunk beer or water.\n",
    "afters = mosquitoes[mosquitoes['test'] == 'after']"
   ]
  },
  {
   "cell_type": "markdown",
   "metadata": {},
   "source": [
    "We get the numbers of mosquitoes from the \"beer\" group."
   ]
  },
  {
   "cell_type": "code",
   "execution_count": 3,
   "metadata": {},
   "outputs": [
    {
     "data": {
      "text/plain": [
       "array([14, 33, 27, 11, 12, 27, 26, 25, 27, 27, 22, 36, 37,  3, 23,  7, 25,\n",
       "       17, 36, 31, 30, 22, 20, 29, 23])"
      ]
     },
     "execution_count": 3,
     "metadata": {},
     "output_type": "execute_result"
    }
   ],
   "source": [
    "# After beer rows.\n",
    "beer_rows = afters[afters['group'] == 'beer']\n",
    "# The 'activated' numbers for the after beer rows.\n",
    "beer_activated = np.array(beer_rows['activated'])\n",
    "beer_activated"
   ]
  },
  {
   "cell_type": "markdown",
   "metadata": {},
   "source": [
    "There are 25 values in the beer group:"
   ]
  },
  {
   "cell_type": "code",
   "execution_count": 4,
   "metadata": {},
   "outputs": [
    {
     "data": {
      "text/plain": [
       "25"
      ]
     },
     "execution_count": 4,
     "metadata": {},
     "output_type": "execute_result"
    }
   ],
   "source": [
    "len(beer_activated)"
   ]
  },
  {
   "cell_type": "markdown",
   "metadata": {},
   "source": [
    "We get the numbers of mosquitoes from the \"water\" group."
   ]
  },
  {
   "cell_type": "code",
   "execution_count": 5,
   "metadata": {},
   "outputs": [
    {
     "data": {
      "text/plain": [
       "array([33, 23, 23, 13, 24,  8,  4, 21, 24, 21, 26, 27, 22, 21, 25, 20,  7,\n",
       "        3])"
      ]
     },
     "execution_count": 5,
     "metadata": {},
     "output_type": "execute_result"
    }
   ],
   "source": [
    "# Same for the water.\n",
    "water_rows = afters[afters['group'] == 'water']\n",
    "water_activated = np.array(water_rows['activated'])\n",
    "water_activated"
   ]
  },
  {
   "cell_type": "markdown",
   "metadata": {},
   "source": [
    "We are interested in the difference between the means of these numbers:"
   ]
  },
  {
   "cell_type": "code",
   "execution_count": 6,
   "metadata": {},
   "outputs": [
    {
     "data": {
      "text/plain": [
       "4.433333333333334"
      ]
     },
     "execution_count": 6,
     "metadata": {},
     "output_type": "execute_result"
    }
   ],
   "source": [
    "observed_difference = np.mean(beer_activated) - np.mean(water_activated)\n",
    "observed_difference"
   ]
  },
  {
   "cell_type": "markdown",
   "metadata": {},
   "source": [
    "In the permutation test we simulate a ideal (null) world in which there is no\n",
    "average difference between the numbers in the two groups.  We do this by\n",
    "pooling the beer and water numbers, shuffling them, and then making fake beer\n",
    "and water groups when we know, from the shuffling, that the average difference\n",
    "will, in the long run, be zero.  By doing this shuffle, sample step many times\n",
    "we build up the distribution of the average difference.  This is the *sampling\n",
    "distribution* of the mean difference:"
   ]
  },
  {
   "cell_type": "code",
   "execution_count": 7,
   "metadata": {},
   "outputs": [],
   "source": [
    "pooled = np.append(beer_activated, water_activated)\n",
    "n_iters = 10000\n",
    "fake_differences = np.zeros(n_iters)\n",
    "for i in np.arange(n_iters):\n",
    "    np.random.shuffle(pooled)\n",
    "    fake_differences[i] = np.mean(pooled[:25]) - np.mean(pooled[25:])"
   ]
  },
  {
   "cell_type": "code",
   "execution_count": 8,
   "metadata": {},
   "outputs": [
    {
     "data": {
      "image/png": "[encoded data removed]",
      "text/plain": [
       "<Figure size 432x288 with 1 Axes>"
      ]
     },
     "metadata": {
      "needs_background": "light"
     },
     "output_type": "display_data"
    }
   ],
   "source": [
    "plt.hist(fake_differences)\n",
    "plt.title('Sampling difference of means');"
   ]
  },
  {
   "cell_type": "markdown",
   "metadata": {},
   "source": [
    "We can work out the proportion of the sampling distribution that is greater\n",
    "than or equal to the observed value, to get an estimate of the probability of\n",
    "the observed value, if we are in fact in the null (ideal) world:"
   ]
  },
  {
   "cell_type": "code",
   "execution_count": 9,
   "metadata": {},
   "outputs": [
    {
     "data": {
      "text/plain": [
       "0.0539"
      ]
     },
     "execution_count": 9,
     "metadata": {},
     "output_type": "execute_result"
    }
   ],
   "source": [
    "permutation_p = np.count_nonzero(\n",
    "    fake_differences >= observed_difference)/ n_iters\n",
    "permutation_p"
   ]
  },
  {
   "cell_type": "markdown",
   "metadata": {},
   "source": [
    "Remember that the *standard deviation* is a measure of the spread of\n",
    "a distribution."
   ]
  },
  {
   "cell_type": "code",
   "execution_count": 10,
   "metadata": {},
   "outputs": [
    {
     "data": {
      "text/plain": [
       "2.761098418808467"
      ]
     },
     "execution_count": 10,
     "metadata": {},
     "output_type": "execute_result"
    }
   ],
   "source": [
    "sampling_sd = np.std(fake_differences)\n",
    "sampling_sd"
   ]
  },
  {
   "cell_type": "markdown",
   "metadata": {},
   "source": [
    "We can use the standard deviation as unit of distance in the distribution.\n",
    "\n",
    "A way of getting an idea of how extreme the observed value is, is to ask how\n",
    "many standard deviations the observed value is from the center of the\n",
    "distribution, which is zero."
   ]
  },
  {
   "cell_type": "code",
   "execution_count": 11,
   "metadata": {},
   "outputs": [
    {
     "data": {
      "text/plain": [
       "1.605641183644047"
      ]
     },
     "execution_count": 11,
     "metadata": {},
     "output_type": "execute_result"
    }
   ],
   "source": [
    "like_t = observed_difference / sampling_sd\n",
    "like_t"
   ]
  },
  {
   "cell_type": "markdown",
   "metadata": {},
   "source": [
    "Notice the variable name `like_t`.  This number is rather like the famous [t\n",
    "statistic](https://en.wikipedia.org/wiki/T-statistic).\n",
    "\n",
    "The difference between this `like_t` value and the *t statistic* is that the t\n",
    "statistic is the observed difference divided by another *estimate* of the\n",
    "standard deviation of the sampling distribution.  Specifically it is an\n",
    "estimate that relies on the assumption that the `beer_activated` and\n",
    "`water_activated` numbers come from a simple bell-shaped [normal\n",
    "distribution](https://en.wikipedia.org/wiki/Normal_distribution).\n",
    "\n",
    "The specific calculation relies on calculating the *prediction errors* when we\n",
    "use the mean from each group as the prediction for the values in the group."
   ]
  },
  {
   "cell_type": "code",
   "execution_count": 12,
   "metadata": {},
   "outputs": [],
   "source": [
    "beer_errors = beer_activated - np.mean(beer_activated)\n",
    "water_errors = water_activated - np.mean(water_activated)\n",
    "all_errors = np.append(beer_errors, water_errors)"
   ]
  },
  {
   "cell_type": "markdown",
   "metadata": {},
   "source": [
    "The estimate for the standard deviation of the sampling distribution follows\n",
    "this formula.  The derivation of the formula is well outside the scope of the\n",
    "class."
   ]
  },
  {
   "cell_type": "code",
   "execution_count": 13,
   "metadata": {},
   "outputs": [
    {
     "data": {
      "text/plain": [
       "2.7028390172904366"
      ]
     },
     "execution_count": 13,
     "metadata": {},
     "output_type": "execute_result"
    }
   ],
   "source": [
    "# The t-statistic estimate.\n",
    "n1 = len(beer_activated)\n",
    "n2 = len(water_activated)\n",
    "n_all = n1 + n2\n",
    "est_error_sd = np.sqrt(np.sum(all_errors ** 2) / (n_all - 2))\n",
    "sampling_sd_estimate = est_error_sd * np.sqrt(1 / n1 + 1 / n2)\n",
    "sampling_sd_estimate"
   ]
  },
  {
   "cell_type": "markdown",
   "metadata": {},
   "source": [
    "Notice that this is rather similar to the estimate we got directly from the\n",
    "permutation distribution:"
   ]
  },
  {
   "cell_type": "code",
   "execution_count": 14,
   "metadata": {},
   "outputs": [
    {
     "data": {
      "text/plain": [
       "2.761098418808467"
      ]
     },
     "execution_count": 14,
     "metadata": {},
     "output_type": "execute_result"
    }
   ],
   "source": [
    "sampling_sd"
   ]
  },
  {
   "cell_type": "markdown",
   "metadata": {},
   "source": [
    "The t statistic is the observed mean difference divided by the estimate of the\n",
    "standard deviation of the sampling distribution."
   ]
  },
  {
   "cell_type": "code",
   "execution_count": 15,
   "metadata": {},
   "outputs": [
    {
     "data": {
      "text/plain": [
       "1.640250605001883"
      ]
     },
     "execution_count": 15,
     "metadata": {},
     "output_type": "execute_result"
    }
   ],
   "source": [
    "t_statistic = observed_difference / sampling_sd_estimate\n",
    "t_statistic"
   ]
  },
  {
   "cell_type": "markdown",
   "metadata": {},
   "source": [
    "This is the same t statistic value calculated by the *independent sample t\n",
    "test* routine from Scipy:"
   ]
  },
  {
   "cell_type": "code",
   "execution_count": 16,
   "metadata": {},
   "outputs": [
    {
     "data": {
      "text/plain": [
       "1.6402506050018828"
      ]
     },
     "execution_count": 16,
     "metadata": {},
     "output_type": "execute_result"
    }
   ],
   "source": [
    "from scipy.stats import ttest_ind\n",
    "t_result = ttest_ind(beer_activated, water_activated)\n",
    "t_result.statistic"
   ]
  },
  {
   "cell_type": "markdown",
   "metadata": {},
   "source": [
    "The equivalent probability from a t test is also outside the scope of the\n",
    "course, but, if the data we put into the t test is more or less compatible with\n",
    "a normal distribution, then the matching p value is similar to that of the\n",
    "permutation test."
   ]
  },
  {
   "cell_type": "code",
   "execution_count": 17,
   "metadata": {},
   "outputs": [
    {
     "data": {
      "text/plain": [
       "0.054302080886695414"
      ]
     },
     "execution_count": 17,
     "metadata": {},
     "output_type": "execute_result"
    }
   ],
   "source": [
    "# The \"one-tailed\" probability from the t-test.\n",
    "t_result.pvalue / 2"
   ]
  },
  {
   "cell_type": "code",
   "execution_count": 18,
   "metadata": {},
   "outputs": [
    {
     "data": {
      "text/plain": [
       "0.0539"
      ]
     },
     "execution_count": 18,
     "metadata": {},
     "output_type": "execute_result"
    }
   ],
   "source": [
    "# The permutation p value is very similar.\n",
    "permutation_p"
   ]
  },
  {
   "cell_type": "markdown",
   "metadata": {},
   "source": [
    "The permutation test has several advantages over the t test, because the t test\n",
    "relies on various assumptions about the data.  The permutation test does not\n",
    "rely on the assumption that the numbers come from a normal distribution.   The\n",
    "permutation test is valid even for very small group sizes, even down to group\n",
    "sizes of three elements, whereas the t test needs reasonably large group sizes\n",
    "for its assumptions to be valid, and therefore, for its p values to be valid."
   ]
  }
 ],
 "metadata": {
  "jupytext": {
   "notebook_metadata_filter": "all,-language_info",
   "split_at_heading": true,
   "text_representation": {
    "extension": ".Rmd",
    "format_name": "rmarkdown",
    "format_version": "1.2",
    "jupytext_version": "1.3.3"
   }
  },
  "kernelspec": {
   "display_name": "Python 3",
   "language": "python",
   "name": "python3"
  },
  "language_info": {
   "codemirror_mode": {
    "name": "ipython",
    "version": 3
   },
   "file_extension": ".py",
   "mimetype": "text/x-python",
   "name": "python",
   "nbconvert_exporter": "python",
   "pygments_lexer": "ipython3",
   "version": "3.7.6"
  }
 },
 "nbformat": 4,
 "nbformat_minor": 2
}
