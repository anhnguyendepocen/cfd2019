{
 "cells": [
  {
   "cell_type": "code",
   "execution_count": 1,
   "metadata": {},
   "outputs": [],
   "source": [
    "# Run this cell. Do not change it.\n",
    "import numpy as np\n",
    "import matplotlib.pyplot as plt\n",
    "%matplotlib inline"
   ]
  },
  {
   "cell_type": "markdown",
   "metadata": {},
   "source": [
    "In the [permutation and t-test page]({{ site.baseurl\n",
    "}}/chapters/05/permutation_and_t_test), we asserted that the t-test is not\n",
    "valid when the underlying distribution of the numbers is not close to the\n",
    "[normal distribution](https://en.wikipedia.org/wiki/Normal_distribution)\n",
    "\n",
    "Because you are good scientists, you ask yourselves - is that true?\n",
    "\n",
    "Here is a function implementing a t-test between two groups:"
   ]
  },
  {
   "cell_type": "code",
   "execution_count": 2,
   "metadata": {},
   "outputs": [],
   "source": [
    "# Run this code.  Do not change it.\n",
    "\n",
    "# Get t distribution code from Scipy library\n",
    "from scipy.stats import t as t_dist\n",
    "\n",
    "\n",
    "def t_test(g1, g2):\n",
    "    \"\"\" Return t and p value for independent sample t test\n",
    "\n",
    "    Parameters\n",
    "    ----------\n",
    "    g1 : array\n",
    "        Values from group 1.\n",
    "    g2 : array\n",
    "        Values from group 2.\n",
    "\n",
    "    Returns\n",
    "    -------\n",
    "    t : float\n",
    "        t statistic value\n",
    "    p : float\n",
    "        Probability for one-tailed upper tail test.\n",
    "\n",
    "    Notes\n",
    "    -----\n",
    "    Students t-test for independent groups with equal or unequal sample sizes,\n",
    "    similar variance.  See:\n",
    "    https://en.wikipedia.org/wiki/Student%27s_t-test\n",
    "    \"\"\"\n",
    "    m1 = np.mean(g1)\n",
    "    m2 = np.mean(g2)\n",
    "    n1 = len(g1)\n",
    "    n2 = len(g2)\n",
    "    df = n1 + n2 - 2\n",
    "    errors = np.append(g1 - m1, g2 - m2)\n",
    "    sd_est = np.sqrt(np.sum(errors ** 2) / df)\n",
    "    t = (m1 - m2) / (sd_est * np.sqrt(1/n1 + 1/n2))\n",
    "    p = 1 - t_dist.cdf(t, df)\n",
    "    return t, p"
   ]
  },
  {
   "cell_type": "markdown",
   "metadata": {},
   "source": [
    "First we check that this function gives the same answer as the equivalent Scipy\n",
    "function for an independent sample t-test.  We recreate the data from the\n",
    "[permutation and t-test page]({{ site.baseurl\n",
    "}}/chapters/05/permutation_and_t_test):"
   ]
  },
  {
   "cell_type": "code",
   "execution_count": 3,
   "metadata": {},
   "outputs": [],
   "source": [
    "beer_activated = np.array([14, 33, 27, 11, 12, 27, 26,\n",
    "                           25, 27, 27, 22, 36, 37,  3,\n",
    "                           23,  7, 25, 17, 36, 31, 30,\n",
    "                           22, 20, 29, 23])\n",
    "water_activated = np.array([33, 23, 23, 13, 24,  8,  4,\n",
    "                            21, 24, 21, 26, 27, 22, 21,\n",
    "                            25, 20,  7, 3])"
   ]
  },
  {
   "cell_type": "markdown",
   "metadata": {},
   "source": [
    "We run our t-test over these data:"
   ]
  },
  {
   "cell_type": "code",
   "execution_count": 4,
   "metadata": {},
   "outputs": [
    {
     "data": {
      "text/plain": [
       "(1.640250605001883, 0.054302080886695414)"
      ]
     },
     "execution_count": 4,
     "metadata": {},
     "output_type": "execute_result"
    }
   ],
   "source": [
    "t_test(beer_activated, water_activated)"
   ]
  },
  {
   "cell_type": "markdown",
   "metadata": {},
   "source": [
    "We run the Scipy equivalent to check we get the same answer:"
   ]
  },
  {
   "cell_type": "code",
   "execution_count": 5,
   "metadata": {},
   "outputs": [
    {
     "name": "stdout",
     "output_type": "stream",
     "text": [
      "Scipy t statistic: 1.6402506050018828\n",
      "Scipy one-tail p value: 0.054302080886695414\n"
     ]
    }
   ],
   "source": [
    "from scipy.stats import ttest_ind\n",
    "res = ttest_ind(beer_activated, water_activated)\n",
    "print('Scipy t statistic:', res.statistic)\n",
    "print('Scipy one-tail p value:', res.pvalue / 2)"
   ]
  },
  {
   "cell_type": "markdown",
   "metadata": {},
   "source": [
    "How would we check the assertion that the t-test is not valid for not-normal\n",
    "distributions?\n"
   ]
  },
  {
   "cell_type": "code",
   "execution_count": 6,
   "metadata": {},
   "outputs": [
    {
     "data": {
      "image/png": "[encoded data removed]",
      "text/plain": [
       "<Figure size 432x288 with 1 Axes>"
      ]
     },
     "metadata": {
      "needs_background": "light"
     },
     "output_type": "display_data"
    }
   ],
   "source": [
    "n_iters = 10000\n",
    "p_values = np.zeros(n_iters)\n",
    "for i in np.arange(n_iters):\n",
    "    randoms = np.random.normal(1, size=40)\n",
    "    t, p = t_test(randoms[:5], randoms[5:])\n",
    "    p_values[i] = p\n",
    "plt.hist(p_values);"
   ]
  },
  {
   "cell_type": "code",
   "execution_count": 7,
   "metadata": {},
   "outputs": [
    {
     "data": {
      "text/plain": [
       "0.052"
      ]
     },
     "execution_count": 7,
     "metadata": {},
     "output_type": "execute_result"
    }
   ],
   "source": [
    "np.count_nonzero(p_values <= 0.05) / n_iters"
   ]
  }
 ],
 "metadata": {
  "jupytext": {
   "notebook_metadata_filter": "all,-language_info",
   "split_at_heading": true
  },
  "kernelspec": {
   "display_name": "Python 3",
   "language": "python",
   "name": "python3"
  },
  "language_info": {
   "codemirror_mode": {
    "name": "ipython",
    "version": 3
   },
   "file_extension": ".py",
   "mimetype": "text/x-python",
   "name": "python",
   "nbconvert_exporter": "python",
   "pygments_lexer": "ipython3",
   "version": "3.7.6"
  }
 },
 "nbformat": 4,
 "nbformat_minor": 2
}
